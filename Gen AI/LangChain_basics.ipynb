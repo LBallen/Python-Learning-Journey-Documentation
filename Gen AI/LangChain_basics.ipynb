{
 "nbformat": 4,
 "nbformat_minor": 0,
 "metadata": {
  "colab": {
   "provenance": []
  },
  "kernelspec": {
   "name": "python3",
   "display_name": "Python 3"
  },
  "language_info": {
   "name": "python"
  }
 },
 "cells": [
  {
   "cell_type": "code",
   "metadata": {
    "colab": {
     "base_uri": "https://localhost:8080/"
    },
    "collapsed": true,
    "id": "maRz7e9v8gXT",
    "outputId": "df168209-dd00-4bfa-f9ee-c244baeec4fc",
    "ExecuteTime": {
     "end_time": "2025-10-18T21:47:37.788856Z",
     "start_time": "2025-10-18T21:46:41.389553Z"
    }
   },
   "source": [
    "!pip install langchainhub\n",
    "!pip install langchain-openai\n",
    "!pip install langchain\n",
    "!pip install beautifulsoup4\n",
    "!pip install langchain-community\n",
    "!pip install faiss-cpu\n",
    "!pip install -U langchain-community tavily-python\n",
    "!pip install gradio_client==0.2.10\n",
    "!pip install gradio==3.38.0"
   ],
   "outputs": [
    {
     "name": "stdout",
     "output_type": "stream",
     "text": [
      "Requirement already satisfied: langchainhub in c:\\users\\balle\\pycharmprojects\\python-learning-journey-documentation\\.venv\\lib\\site-packages (0.1.21)\n",
      "Requirement already satisfied: packaging<25,>=23.2 in c:\\users\\balle\\pycharmprojects\\python-learning-journey-documentation\\.venv\\lib\\site-packages (from langchainhub) (24.2)\n",
      "Requirement already satisfied: requests<3,>=2 in c:\\users\\balle\\pycharmprojects\\python-learning-journey-documentation\\.venv\\lib\\site-packages (from langchainhub) (2.32.5)\n",
      "Requirement already satisfied: types-requests<3.0.0.0,>=2.31.0.2 in c:\\users\\balle\\pycharmprojects\\python-learning-journey-documentation\\.venv\\lib\\site-packages (from langchainhub) (2.32.4.20250913)\n",
      "Requirement already satisfied: charset_normalizer<4,>=2 in c:\\users\\balle\\pycharmprojects\\python-learning-journey-documentation\\.venv\\lib\\site-packages (from requests<3,>=2->langchainhub) (3.4.3)\n",
      "Requirement already satisfied: idna<4,>=2.5 in c:\\users\\balle\\pycharmprojects\\python-learning-journey-documentation\\.venv\\lib\\site-packages (from requests<3,>=2->langchainhub) (3.10)\n",
      "Requirement already satisfied: urllib3<3,>=1.21.1 in c:\\users\\balle\\pycharmprojects\\python-learning-journey-documentation\\.venv\\lib\\site-packages (from requests<3,>=2->langchainhub) (2.3.0)\n",
      "Requirement already satisfied: certifi>=2017.4.17 in c:\\users\\balle\\pycharmprojects\\python-learning-journey-documentation\\.venv\\lib\\site-packages (from requests<3,>=2->langchainhub) (2025.8.3)\n"
     ]
    },
    {
     "name": "stderr",
     "output_type": "stream",
     "text": [
      "\n",
      "[notice] A new release of pip is available: 25.1.1 -> 25.2\n",
      "[notice] To update, run: python.exe -m pip install --upgrade pip\n"
     ]
    },
    {
     "name": "stdout",
     "output_type": "stream",
     "text": [
      "Requirement already satisfied: langchain-openai in c:\\users\\balle\\pycharmprojects\\python-learning-journey-documentation\\.venv\\lib\\site-packages (0.3.35)\n",
      "Requirement already satisfied: langchain-core<1.0.0,>=0.3.78 in c:\\users\\balle\\pycharmprojects\\python-learning-journey-documentation\\.venv\\lib\\site-packages (from langchain-openai) (0.3.79)\n",
      "Requirement already satisfied: openai<3.0.0,>=1.104.2 in c:\\users\\balle\\pycharmprojects\\python-learning-journey-documentation\\.venv\\lib\\site-packages (from langchain-openai) (2.4.0)\n",
      "Requirement already satisfied: tiktoken<1.0.0,>=0.7.0 in c:\\users\\balle\\pycharmprojects\\python-learning-journey-documentation\\.venv\\lib\\site-packages (from langchain-openai) (0.12.0)\n",
      "Requirement already satisfied: langsmith<1.0.0,>=0.3.45 in c:\\users\\balle\\pycharmprojects\\python-learning-journey-documentation\\.venv\\lib\\site-packages (from langchain-core<1.0.0,>=0.3.78->langchain-openai) (0.4.37)\n",
      "Requirement already satisfied: tenacity!=8.4.0,<10.0.0,>=8.1.0 in c:\\users\\balle\\pycharmprojects\\python-learning-journey-documentation\\.venv\\lib\\site-packages (from langchain-core<1.0.0,>=0.3.78->langchain-openai) (9.1.2)\n",
      "Requirement already satisfied: jsonpatch<2.0.0,>=1.33.0 in c:\\users\\balle\\pycharmprojects\\python-learning-journey-documentation\\.venv\\lib\\site-packages (from langchain-core<1.0.0,>=0.3.78->langchain-openai) (1.33)\n",
      "Requirement already satisfied: PyYAML<7.0.0,>=5.3.0 in c:\\users\\balle\\pycharmprojects\\python-learning-journey-documentation\\.venv\\lib\\site-packages (from langchain-core<1.0.0,>=0.3.78->langchain-openai) (6.0.2)\n",
      "Requirement already satisfied: typing-extensions<5.0.0,>=4.7.0 in c:\\users\\balle\\pycharmprojects\\python-learning-journey-documentation\\.venv\\lib\\site-packages (from langchain-core<1.0.0,>=0.3.78->langchain-openai) (4.14.1)\n",
      "Requirement already satisfied: packaging<26.0.0,>=23.2.0 in c:\\users\\balle\\pycharmprojects\\python-learning-journey-documentation\\.venv\\lib\\site-packages (from langchain-core<1.0.0,>=0.3.78->langchain-openai) (24.2)\n",
      "Requirement already satisfied: pydantic<3.0.0,>=2.7.4 in c:\\users\\balle\\pycharmprojects\\python-learning-journey-documentation\\.venv\\lib\\site-packages (from langchain-core<1.0.0,>=0.3.78->langchain-openai) (2.12.2)\n",
      "Requirement already satisfied: jsonpointer>=1.9 in c:\\users\\balle\\pycharmprojects\\python-learning-journey-documentation\\.venv\\lib\\site-packages (from jsonpatch<2.0.0,>=1.33.0->langchain-core<1.0.0,>=0.3.78->langchain-openai) (3.0.0)\n",
      "Requirement already satisfied: httpx<1,>=0.23.0 in c:\\users\\balle\\pycharmprojects\\python-learning-journey-documentation\\.venv\\lib\\site-packages (from langsmith<1.0.0,>=0.3.45->langchain-core<1.0.0,>=0.3.78->langchain-openai) (0.28.1)\n",
      "Requirement already satisfied: orjson>=3.9.14 in c:\\users\\balle\\pycharmprojects\\python-learning-journey-documentation\\.venv\\lib\\site-packages (from langsmith<1.0.0,>=0.3.45->langchain-core<1.0.0,>=0.3.78->langchain-openai) (3.11.3)\n",
      "Requirement already satisfied: requests-toolbelt>=1.0.0 in c:\\users\\balle\\pycharmprojects\\python-learning-journey-documentation\\.venv\\lib\\site-packages (from langsmith<1.0.0,>=0.3.45->langchain-core<1.0.0,>=0.3.78->langchain-openai) (1.0.0)\n",
      "Requirement already satisfied: requests>=2.0.0 in c:\\users\\balle\\pycharmprojects\\python-learning-journey-documentation\\.venv\\lib\\site-packages (from langsmith<1.0.0,>=0.3.45->langchain-core<1.0.0,>=0.3.78->langchain-openai) (2.32.5)\n",
      "Requirement already satisfied: zstandard>=0.23.0 in c:\\users\\balle\\pycharmprojects\\python-learning-journey-documentation\\.venv\\lib\\site-packages (from langsmith<1.0.0,>=0.3.45->langchain-core<1.0.0,>=0.3.78->langchain-openai) (0.25.0)\n",
      "Requirement already satisfied: anyio in c:\\users\\balle\\pycharmprojects\\python-learning-journey-documentation\\.venv\\lib\\site-packages (from httpx<1,>=0.23.0->langsmith<1.0.0,>=0.3.45->langchain-core<1.0.0,>=0.3.78->langchain-openai) (4.10.0)\n",
      "Requirement already satisfied: certifi in c:\\users\\balle\\pycharmprojects\\python-learning-journey-documentation\\.venv\\lib\\site-packages (from httpx<1,>=0.23.0->langsmith<1.0.0,>=0.3.45->langchain-core<1.0.0,>=0.3.78->langchain-openai) (2025.8.3)\n",
      "Requirement already satisfied: httpcore==1.* in c:\\users\\balle\\pycharmprojects\\python-learning-journey-documentation\\.venv\\lib\\site-packages (from httpx<1,>=0.23.0->langsmith<1.0.0,>=0.3.45->langchain-core<1.0.0,>=0.3.78->langchain-openai) (1.0.9)\n",
      "Requirement already satisfied: idna in c:\\users\\balle\\pycharmprojects\\python-learning-journey-documentation\\.venv\\lib\\site-packages (from httpx<1,>=0.23.0->langsmith<1.0.0,>=0.3.45->langchain-core<1.0.0,>=0.3.78->langchain-openai) (3.10)\n",
      "Requirement already satisfied: h11>=0.16 in c:\\users\\balle\\pycharmprojects\\python-learning-journey-documentation\\.venv\\lib\\site-packages (from httpcore==1.*->httpx<1,>=0.23.0->langsmith<1.0.0,>=0.3.45->langchain-core<1.0.0,>=0.3.78->langchain-openai) (0.16.0)\n",
      "Requirement already satisfied: distro<2,>=1.7.0 in c:\\users\\balle\\pycharmprojects\\python-learning-journey-documentation\\.venv\\lib\\site-packages (from openai<3.0.0,>=1.104.2->langchain-openai) (1.9.0)\n",
      "Requirement already satisfied: jiter<1,>=0.10.0 in c:\\users\\balle\\pycharmprojects\\python-learning-journey-documentation\\.venv\\lib\\site-packages (from openai<3.0.0,>=1.104.2->langchain-openai) (0.11.0)\n",
      "Requirement already satisfied: sniffio in c:\\users\\balle\\pycharmprojects\\python-learning-journey-documentation\\.venv\\lib\\site-packages (from openai<3.0.0,>=1.104.2->langchain-openai) (1.3.1)\n",
      "Requirement already satisfied: tqdm>4 in c:\\users\\balle\\pycharmprojects\\python-learning-journey-documentation\\.venv\\lib\\site-packages (from openai<3.0.0,>=1.104.2->langchain-openai) (4.67.1)\n",
      "Requirement already satisfied: annotated-types>=0.6.0 in c:\\users\\balle\\pycharmprojects\\python-learning-journey-documentation\\.venv\\lib\\site-packages (from pydantic<3.0.0,>=2.7.4->langchain-core<1.0.0,>=0.3.78->langchain-openai) (0.7.0)\n",
      "Requirement already satisfied: pydantic-core==2.41.4 in c:\\users\\balle\\pycharmprojects\\python-learning-journey-documentation\\.venv\\lib\\site-packages (from pydantic<3.0.0,>=2.7.4->langchain-core<1.0.0,>=0.3.78->langchain-openai) (2.41.4)\n",
      "Requirement already satisfied: typing-inspection>=0.4.2 in c:\\users\\balle\\pycharmprojects\\python-learning-journey-documentation\\.venv\\lib\\site-packages (from pydantic<3.0.0,>=2.7.4->langchain-core<1.0.0,>=0.3.78->langchain-openai) (0.4.2)\n",
      "Requirement already satisfied: regex>=2022.1.18 in c:\\users\\balle\\pycharmprojects\\python-learning-journey-documentation\\.venv\\lib\\site-packages (from tiktoken<1.0.0,>=0.7.0->langchain-openai) (2025.9.18)\n",
      "Requirement already satisfied: charset_normalizer<4,>=2 in c:\\users\\balle\\pycharmprojects\\python-learning-journey-documentation\\.venv\\lib\\site-packages (from requests>=2.0.0->langsmith<1.0.0,>=0.3.45->langchain-core<1.0.0,>=0.3.78->langchain-openai) (3.4.3)\n",
      "Requirement already satisfied: urllib3<3,>=1.21.1 in c:\\users\\balle\\pycharmprojects\\python-learning-journey-documentation\\.venv\\lib\\site-packages (from requests>=2.0.0->langsmith<1.0.0,>=0.3.45->langchain-core<1.0.0,>=0.3.78->langchain-openai) (2.3.0)\n",
      "Requirement already satisfied: colorama in c:\\users\\balle\\pycharmprojects\\python-learning-journey-documentation\\.venv\\lib\\site-packages (from tqdm>4->openai<3.0.0,>=1.104.2->langchain-openai) (0.4.6)\n"
     ]
    },
    {
     "name": "stderr",
     "output_type": "stream",
     "text": [
      "\n",
      "[notice] A new release of pip is available: 25.1.1 -> 25.2\n",
      "[notice] To update, run: python.exe -m pip install --upgrade pip\n"
     ]
    },
    {
     "name": "stdout",
     "output_type": "stream",
     "text": [
      "Requirement already satisfied: langchain in c:\\users\\balle\\pycharmprojects\\python-learning-journey-documentation\\.venv\\lib\\site-packages (0.3.27)\n",
      "Requirement already satisfied: langchain-core<1.0.0,>=0.3.72 in c:\\users\\balle\\pycharmprojects\\python-learning-journey-documentation\\.venv\\lib\\site-packages (from langchain) (0.3.79)\n",
      "Requirement already satisfied: langchain-text-splitters<1.0.0,>=0.3.9 in c:\\users\\balle\\pycharmprojects\\python-learning-journey-documentation\\.venv\\lib\\site-packages (from langchain) (0.3.11)\n",
      "Requirement already satisfied: langsmith>=0.1.17 in c:\\users\\balle\\pycharmprojects\\python-learning-journey-documentation\\.venv\\lib\\site-packages (from langchain) (0.4.37)\n",
      "Requirement already satisfied: pydantic<3.0.0,>=2.7.4 in c:\\users\\balle\\pycharmprojects\\python-learning-journey-documentation\\.venv\\lib\\site-packages (from langchain) (2.12.2)\n",
      "Requirement already satisfied: SQLAlchemy<3,>=1.4 in c:\\users\\balle\\pycharmprojects\\python-learning-journey-documentation\\.venv\\lib\\site-packages (from langchain) (2.0.44)\n",
      "Requirement already satisfied: requests<3,>=2 in c:\\users\\balle\\pycharmprojects\\python-learning-journey-documentation\\.venv\\lib\\site-packages (from langchain) (2.32.5)\n",
      "Requirement already satisfied: PyYAML>=5.3 in c:\\users\\balle\\pycharmprojects\\python-learning-journey-documentation\\.venv\\lib\\site-packages (from langchain) (6.0.2)\n",
      "Requirement already satisfied: tenacity!=8.4.0,<10.0.0,>=8.1.0 in c:\\users\\balle\\pycharmprojects\\python-learning-journey-documentation\\.venv\\lib\\site-packages (from langchain-core<1.0.0,>=0.3.72->langchain) (9.1.2)\n",
      "Requirement already satisfied: jsonpatch<2.0.0,>=1.33.0 in c:\\users\\balle\\pycharmprojects\\python-learning-journey-documentation\\.venv\\lib\\site-packages (from langchain-core<1.0.0,>=0.3.72->langchain) (1.33)\n",
      "Requirement already satisfied: typing-extensions<5.0.0,>=4.7.0 in c:\\users\\balle\\pycharmprojects\\python-learning-journey-documentation\\.venv\\lib\\site-packages (from langchain-core<1.0.0,>=0.3.72->langchain) (4.14.1)\n",
      "Requirement already satisfied: packaging<26.0.0,>=23.2.0 in c:\\users\\balle\\pycharmprojects\\python-learning-journey-documentation\\.venv\\lib\\site-packages (from langchain-core<1.0.0,>=0.3.72->langchain) (24.2)\n",
      "Requirement already satisfied: jsonpointer>=1.9 in c:\\users\\balle\\pycharmprojects\\python-learning-journey-documentation\\.venv\\lib\\site-packages (from jsonpatch<2.0.0,>=1.33.0->langchain-core<1.0.0,>=0.3.72->langchain) (3.0.0)\n",
      "Requirement already satisfied: httpx<1,>=0.23.0 in c:\\users\\balle\\pycharmprojects\\python-learning-journey-documentation\\.venv\\lib\\site-packages (from langsmith>=0.1.17->langchain) (0.28.1)\n",
      "Requirement already satisfied: orjson>=3.9.14 in c:\\users\\balle\\pycharmprojects\\python-learning-journey-documentation\\.venv\\lib\\site-packages (from langsmith>=0.1.17->langchain) (3.11.3)\n",
      "Requirement already satisfied: requests-toolbelt>=1.0.0 in c:\\users\\balle\\pycharmprojects\\python-learning-journey-documentation\\.venv\\lib\\site-packages (from langsmith>=0.1.17->langchain) (1.0.0)\n",
      "Requirement already satisfied: zstandard>=0.23.0 in c:\\users\\balle\\pycharmprojects\\python-learning-journey-documentation\\.venv\\lib\\site-packages (from langsmith>=0.1.17->langchain) (0.25.0)\n",
      "Requirement already satisfied: anyio in c:\\users\\balle\\pycharmprojects\\python-learning-journey-documentation\\.venv\\lib\\site-packages (from httpx<1,>=0.23.0->langsmith>=0.1.17->langchain) (4.10.0)\n",
      "Requirement already satisfied: certifi in c:\\users\\balle\\pycharmprojects\\python-learning-journey-documentation\\.venv\\lib\\site-packages (from httpx<1,>=0.23.0->langsmith>=0.1.17->langchain) (2025.8.3)\n",
      "Requirement already satisfied: httpcore==1.* in c:\\users\\balle\\pycharmprojects\\python-learning-journey-documentation\\.venv\\lib\\site-packages (from httpx<1,>=0.23.0->langsmith>=0.1.17->langchain) (1.0.9)\n",
      "Requirement already satisfied: idna in c:\\users\\balle\\pycharmprojects\\python-learning-journey-documentation\\.venv\\lib\\site-packages (from httpx<1,>=0.23.0->langsmith>=0.1.17->langchain) (3.10)\n",
      "Requirement already satisfied: h11>=0.16 in c:\\users\\balle\\pycharmprojects\\python-learning-journey-documentation\\.venv\\lib\\site-packages (from httpcore==1.*->httpx<1,>=0.23.0->langsmith>=0.1.17->langchain) (0.16.0)\n",
      "Requirement already satisfied: annotated-types>=0.6.0 in c:\\users\\balle\\pycharmprojects\\python-learning-journey-documentation\\.venv\\lib\\site-packages (from pydantic<3.0.0,>=2.7.4->langchain) (0.7.0)\n",
      "Requirement already satisfied: pydantic-core==2.41.4 in c:\\users\\balle\\pycharmprojects\\python-learning-journey-documentation\\.venv\\lib\\site-packages (from pydantic<3.0.0,>=2.7.4->langchain) (2.41.4)\n",
      "Requirement already satisfied: typing-inspection>=0.4.2 in c:\\users\\balle\\pycharmprojects\\python-learning-journey-documentation\\.venv\\lib\\site-packages (from pydantic<3.0.0,>=2.7.4->langchain) (0.4.2)\n",
      "Requirement already satisfied: charset_normalizer<4,>=2 in c:\\users\\balle\\pycharmprojects\\python-learning-journey-documentation\\.venv\\lib\\site-packages (from requests<3,>=2->langchain) (3.4.3)\n",
      "Requirement already satisfied: urllib3<3,>=1.21.1 in c:\\users\\balle\\pycharmprojects\\python-learning-journey-documentation\\.venv\\lib\\site-packages (from requests<3,>=2->langchain) (2.3.0)\n",
      "Requirement already satisfied: greenlet>=1 in c:\\users\\balle\\pycharmprojects\\python-learning-journey-documentation\\.venv\\lib\\site-packages (from SQLAlchemy<3,>=1.4->langchain) (3.2.4)\n",
      "Requirement already satisfied: sniffio>=1.1 in c:\\users\\balle\\pycharmprojects\\python-learning-journey-documentation\\.venv\\lib\\site-packages (from anyio->httpx<1,>=0.23.0->langsmith>=0.1.17->langchain) (1.3.1)\n"
     ]
    },
    {
     "name": "stderr",
     "output_type": "stream",
     "text": [
      "\n",
      "[notice] A new release of pip is available: 25.1.1 -> 25.2\n",
      "[notice] To update, run: python.exe -m pip install --upgrade pip\n"
     ]
    },
    {
     "name": "stdout",
     "output_type": "stream",
     "text": [
      "Requirement already satisfied: beautifulsoup4 in c:\\users\\balle\\pycharmprojects\\python-learning-journey-documentation\\.venv\\lib\\site-packages (4.13.4)\n",
      "Requirement already satisfied: soupsieve>1.2 in c:\\users\\balle\\pycharmprojects\\python-learning-journey-documentation\\.venv\\lib\\site-packages (from beautifulsoup4) (2.7)\n",
      "Requirement already satisfied: typing-extensions>=4.0.0 in c:\\users\\balle\\pycharmprojects\\python-learning-journey-documentation\\.venv\\lib\\site-packages (from beautifulsoup4) (4.14.1)\n"
     ]
    },
    {
     "name": "stderr",
     "output_type": "stream",
     "text": [
      "\n",
      "[notice] A new release of pip is available: 25.1.1 -> 25.2\n",
      "[notice] To update, run: python.exe -m pip install --upgrade pip\n"
     ]
    },
    {
     "name": "stdout",
     "output_type": "stream",
     "text": [
      "Requirement already satisfied: langchain-community in c:\\users\\balle\\pycharmprojects\\python-learning-journey-documentation\\.venv\\lib\\site-packages (0.3.31)\n",
      "Requirement already satisfied: langchain-core<2.0.0,>=0.3.78 in c:\\users\\balle\\pycharmprojects\\python-learning-journey-documentation\\.venv\\lib\\site-packages (from langchain-community) (0.3.79)\n",
      "Requirement already satisfied: langchain<2.0.0,>=0.3.27 in c:\\users\\balle\\pycharmprojects\\python-learning-journey-documentation\\.venv\\lib\\site-packages (from langchain-community) (0.3.27)\n",
      "Requirement already satisfied: SQLAlchemy<3.0.0,>=1.4.0 in c:\\users\\balle\\pycharmprojects\\python-learning-journey-documentation\\.venv\\lib\\site-packages (from langchain-community) (2.0.44)\n",
      "Requirement already satisfied: requests<3.0.0,>=2.32.5 in c:\\users\\balle\\pycharmprojects\\python-learning-journey-documentation\\.venv\\lib\\site-packages (from langchain-community) (2.32.5)\n",
      "Requirement already satisfied: PyYAML<7.0.0,>=5.3.0 in c:\\users\\balle\\pycharmprojects\\python-learning-journey-documentation\\.venv\\lib\\site-packages (from langchain-community) (6.0.2)\n",
      "Requirement already satisfied: aiohttp<4.0.0,>=3.8.3 in c:\\users\\balle\\pycharmprojects\\python-learning-journey-documentation\\.venv\\lib\\site-packages (from langchain-community) (3.13.0)\n",
      "Requirement already satisfied: tenacity!=8.4.0,<10.0.0,>=8.1.0 in c:\\users\\balle\\pycharmprojects\\python-learning-journey-documentation\\.venv\\lib\\site-packages (from langchain-community) (9.1.2)\n",
      "Requirement already satisfied: dataclasses-json<0.7.0,>=0.6.7 in c:\\users\\balle\\pycharmprojects\\python-learning-journey-documentation\\.venv\\lib\\site-packages (from langchain-community) (0.6.7)\n",
      "Requirement already satisfied: pydantic-settings<3.0.0,>=2.10.1 in c:\\users\\balle\\pycharmprojects\\python-learning-journey-documentation\\.venv\\lib\\site-packages (from langchain-community) (2.11.0)\n",
      "Requirement already satisfied: langsmith<1.0.0,>=0.1.125 in c:\\users\\balle\\pycharmprojects\\python-learning-journey-documentation\\.venv\\lib\\site-packages (from langchain-community) (0.4.37)\n",
      "Requirement already satisfied: httpx-sse<1.0.0,>=0.4.0 in c:\\users\\balle\\pycharmprojects\\python-learning-journey-documentation\\.venv\\lib\\site-packages (from langchain-community) (0.4.3)\n",
      "Requirement already satisfied: numpy>=2.1.0 in c:\\users\\balle\\pycharmprojects\\python-learning-journey-documentation\\.venv\\lib\\site-packages (from langchain-community) (2.3.2)\n",
      "Requirement already satisfied: aiohappyeyeballs>=2.5.0 in c:\\users\\balle\\pycharmprojects\\python-learning-journey-documentation\\.venv\\lib\\site-packages (from aiohttp<4.0.0,>=3.8.3->langchain-community) (2.6.1)\n",
      "Requirement already satisfied: aiosignal>=1.4.0 in c:\\users\\balle\\pycharmprojects\\python-learning-journey-documentation\\.venv\\lib\\site-packages (from aiohttp<4.0.0,>=3.8.3->langchain-community) (1.4.0)\n",
      "Requirement already satisfied: attrs>=17.3.0 in c:\\users\\balle\\pycharmprojects\\python-learning-journey-documentation\\.venv\\lib\\site-packages (from aiohttp<4.0.0,>=3.8.3->langchain-community) (25.3.0)\n",
      "Requirement already satisfied: frozenlist>=1.1.1 in c:\\users\\balle\\pycharmprojects\\python-learning-journey-documentation\\.venv\\lib\\site-packages (from aiohttp<4.0.0,>=3.8.3->langchain-community) (1.8.0)\n",
      "Requirement already satisfied: multidict<7.0,>=4.5 in c:\\users\\balle\\pycharmprojects\\python-learning-journey-documentation\\.venv\\lib\\site-packages (from aiohttp<4.0.0,>=3.8.3->langchain-community) (6.7.0)\n",
      "Requirement already satisfied: propcache>=0.2.0 in c:\\users\\balle\\pycharmprojects\\python-learning-journey-documentation\\.venv\\lib\\site-packages (from aiohttp<4.0.0,>=3.8.3->langchain-community) (0.4.1)\n",
      "Requirement already satisfied: yarl<2.0,>=1.17.0 in c:\\users\\balle\\pycharmprojects\\python-learning-journey-documentation\\.venv\\lib\\site-packages (from aiohttp<4.0.0,>=3.8.3->langchain-community) (1.22.0)\n",
      "Requirement already satisfied: marshmallow<4.0.0,>=3.18.0 in c:\\users\\balle\\pycharmprojects\\python-learning-journey-documentation\\.venv\\lib\\site-packages (from dataclasses-json<0.7.0,>=0.6.7->langchain-community) (3.26.1)\n",
      "Requirement already satisfied: typing-inspect<1,>=0.4.0 in c:\\users\\balle\\pycharmprojects\\python-learning-journey-documentation\\.venv\\lib\\site-packages (from dataclasses-json<0.7.0,>=0.6.7->langchain-community) (0.9.0)\n",
      "Requirement already satisfied: langchain-text-splitters<1.0.0,>=0.3.9 in c:\\users\\balle\\pycharmprojects\\python-learning-journey-documentation\\.venv\\lib\\site-packages (from langchain<2.0.0,>=0.3.27->langchain-community) (0.3.11)\n",
      "Requirement already satisfied: pydantic<3.0.0,>=2.7.4 in c:\\users\\balle\\pycharmprojects\\python-learning-journey-documentation\\.venv\\lib\\site-packages (from langchain<2.0.0,>=0.3.27->langchain-community) (2.12.2)\n",
      "Requirement already satisfied: jsonpatch<2.0.0,>=1.33.0 in c:\\users\\balle\\pycharmprojects\\python-learning-journey-documentation\\.venv\\lib\\site-packages (from langchain-core<2.0.0,>=0.3.78->langchain-community) (1.33)\n",
      "Requirement already satisfied: typing-extensions<5.0.0,>=4.7.0 in c:\\users\\balle\\pycharmprojects\\python-learning-journey-documentation\\.venv\\lib\\site-packages (from langchain-core<2.0.0,>=0.3.78->langchain-community) (4.14.1)\n",
      "Requirement already satisfied: packaging<26.0.0,>=23.2.0 in c:\\users\\balle\\pycharmprojects\\python-learning-journey-documentation\\.venv\\lib\\site-packages (from langchain-core<2.0.0,>=0.3.78->langchain-community) (24.2)\n",
      "Requirement already satisfied: jsonpointer>=1.9 in c:\\users\\balle\\pycharmprojects\\python-learning-journey-documentation\\.venv\\lib\\site-packages (from jsonpatch<2.0.0,>=1.33.0->langchain-core<2.0.0,>=0.3.78->langchain-community) (3.0.0)\n",
      "Requirement already satisfied: httpx<1,>=0.23.0 in c:\\users\\balle\\pycharmprojects\\python-learning-journey-documentation\\.venv\\lib\\site-packages (from langsmith<1.0.0,>=0.1.125->langchain-community) (0.28.1)\n",
      "Requirement already satisfied: orjson>=3.9.14 in c:\\users\\balle\\pycharmprojects\\python-learning-journey-documentation\\.venv\\lib\\site-packages (from langsmith<1.0.0,>=0.1.125->langchain-community) (3.11.3)\n",
      "Requirement already satisfied: requests-toolbelt>=1.0.0 in c:\\users\\balle\\pycharmprojects\\python-learning-journey-documentation\\.venv\\lib\\site-packages (from langsmith<1.0.0,>=0.1.125->langchain-community) (1.0.0)\n",
      "Requirement already satisfied: zstandard>=0.23.0 in c:\\users\\balle\\pycharmprojects\\python-learning-journey-documentation\\.venv\\lib\\site-packages (from langsmith<1.0.0,>=0.1.125->langchain-community) (0.25.0)\n",
      "Requirement already satisfied: anyio in c:\\users\\balle\\pycharmprojects\\python-learning-journey-documentation\\.venv\\lib\\site-packages (from httpx<1,>=0.23.0->langsmith<1.0.0,>=0.1.125->langchain-community) (4.10.0)\n",
      "Requirement already satisfied: certifi in c:\\users\\balle\\pycharmprojects\\python-learning-journey-documentation\\.venv\\lib\\site-packages (from httpx<1,>=0.23.0->langsmith<1.0.0,>=0.1.125->langchain-community) (2025.8.3)\n",
      "Requirement already satisfied: httpcore==1.* in c:\\users\\balle\\pycharmprojects\\python-learning-journey-documentation\\.venv\\lib\\site-packages (from httpx<1,>=0.23.0->langsmith<1.0.0,>=0.1.125->langchain-community) (1.0.9)\n",
      "Requirement already satisfied: idna in c:\\users\\balle\\pycharmprojects\\python-learning-journey-documentation\\.venv\\lib\\site-packages (from httpx<1,>=0.23.0->langsmith<1.0.0,>=0.1.125->langchain-community) (3.10)\n",
      "Requirement already satisfied: h11>=0.16 in c:\\users\\balle\\pycharmprojects\\python-learning-journey-documentation\\.venv\\lib\\site-packages (from httpcore==1.*->httpx<1,>=0.23.0->langsmith<1.0.0,>=0.1.125->langchain-community) (0.16.0)\n",
      "Requirement already satisfied: annotated-types>=0.6.0 in c:\\users\\balle\\pycharmprojects\\python-learning-journey-documentation\\.venv\\lib\\site-packages (from pydantic<3.0.0,>=2.7.4->langchain<2.0.0,>=0.3.27->langchain-community) (0.7.0)\n",
      "Requirement already satisfied: pydantic-core==2.41.4 in c:\\users\\balle\\pycharmprojects\\python-learning-journey-documentation\\.venv\\lib\\site-packages (from pydantic<3.0.0,>=2.7.4->langchain<2.0.0,>=0.3.27->langchain-community) (2.41.4)\n",
      "Requirement already satisfied: typing-inspection>=0.4.2 in c:\\users\\balle\\pycharmprojects\\python-learning-journey-documentation\\.venv\\lib\\site-packages (from pydantic<3.0.0,>=2.7.4->langchain<2.0.0,>=0.3.27->langchain-community) (0.4.2)\n",
      "Requirement already satisfied: python-dotenv>=0.21.0 in c:\\users\\balle\\pycharmprojects\\python-learning-journey-documentation\\.venv\\lib\\site-packages (from pydantic-settings<3.0.0,>=2.10.1->langchain-community) (1.1.1)\n",
      "Requirement already satisfied: charset_normalizer<4,>=2 in c:\\users\\balle\\pycharmprojects\\python-learning-journey-documentation\\.venv\\lib\\site-packages (from requests<3.0.0,>=2.32.5->langchain-community) (3.4.3)\n",
      "Requirement already satisfied: urllib3<3,>=1.21.1 in c:\\users\\balle\\pycharmprojects\\python-learning-journey-documentation\\.venv\\lib\\site-packages (from requests<3.0.0,>=2.32.5->langchain-community) (2.3.0)\n",
      "Requirement already satisfied: greenlet>=1 in c:\\users\\balle\\pycharmprojects\\python-learning-journey-documentation\\.venv\\lib\\site-packages (from SQLAlchemy<3.0.0,>=1.4.0->langchain-community) (3.2.4)\n",
      "Requirement already satisfied: mypy-extensions>=0.3.0 in c:\\users\\balle\\pycharmprojects\\python-learning-journey-documentation\\.venv\\lib\\site-packages (from typing-inspect<1,>=0.4.0->dataclasses-json<0.7.0,>=0.6.7->langchain-community) (1.1.0)\n",
      "Requirement already satisfied: sniffio>=1.1 in c:\\users\\balle\\pycharmprojects\\python-learning-journey-documentation\\.venv\\lib\\site-packages (from anyio->httpx<1,>=0.23.0->langsmith<1.0.0,>=0.1.125->langchain-community) (1.3.1)\n"
     ]
    },
    {
     "name": "stderr",
     "output_type": "stream",
     "text": [
      "\n",
      "[notice] A new release of pip is available: 25.1.1 -> 25.2\n",
      "[notice] To update, run: python.exe -m pip install --upgrade pip\n"
     ]
    },
    {
     "name": "stdout",
     "output_type": "stream",
     "text": [
      "Requirement already satisfied: faiss-cpu in c:\\users\\balle\\pycharmprojects\\python-learning-journey-documentation\\.venv\\lib\\site-packages (1.12.0)\n",
      "Requirement already satisfied: numpy<3.0,>=1.25.0 in c:\\users\\balle\\pycharmprojects\\python-learning-journey-documentation\\.venv\\lib\\site-packages (from faiss-cpu) (2.3.2)\n",
      "Requirement already satisfied: packaging in c:\\users\\balle\\pycharmprojects\\python-learning-journey-documentation\\.venv\\lib\\site-packages (from faiss-cpu) (24.2)\n"
     ]
    },
    {
     "name": "stderr",
     "output_type": "stream",
     "text": [
      "\n",
      "[notice] A new release of pip is available: 25.1.1 -> 25.2\n",
      "[notice] To update, run: python.exe -m pip install --upgrade pip\n"
     ]
    },
    {
     "name": "stdout",
     "output_type": "stream",
     "text": [
      "Requirement already satisfied: langchain-community in c:\\users\\balle\\pycharmprojects\\python-learning-journey-documentation\\.venv\\lib\\site-packages (0.3.31)\n",
      "Collecting langchain-community\n",
      "  Downloading langchain_community-0.4-py3-none-any.whl.metadata (3.0 kB)\n",
      "Requirement already satisfied: tavily-python in c:\\users\\balle\\pycharmprojects\\python-learning-journey-documentation\\.venv\\lib\\site-packages (0.7.12)\n",
      "Collecting langchain-core<2.0.0,>=1.0.0 (from langchain-community)\n",
      "  Downloading langchain_core-1.0.0-py3-none-any.whl.metadata (3.4 kB)\n",
      "Collecting langchain-classic<2.0.0,>=1.0.0 (from langchain-community)\n",
      "  Downloading langchain_classic-1.0.0-py3-none-any.whl.metadata (3.9 kB)\n",
      "Requirement already satisfied: SQLAlchemy<3.0.0,>=1.4.0 in c:\\users\\balle\\pycharmprojects\\python-learning-journey-documentation\\.venv\\lib\\site-packages (from langchain-community) (2.0.44)\n",
      "Requirement already satisfied: requests<3.0.0,>=2.32.5 in c:\\users\\balle\\pycharmprojects\\python-learning-journey-documentation\\.venv\\lib\\site-packages (from langchain-community) (2.32.5)\n",
      "Requirement already satisfied: PyYAML<7.0.0,>=5.3.0 in c:\\users\\balle\\pycharmprojects\\python-learning-journey-documentation\\.venv\\lib\\site-packages (from langchain-community) (6.0.2)\n",
      "Requirement already satisfied: aiohttp<4.0.0,>=3.8.3 in c:\\users\\balle\\pycharmprojects\\python-learning-journey-documentation\\.venv\\lib\\site-packages (from langchain-community) (3.13.0)\n",
      "Requirement already satisfied: tenacity!=8.4.0,<10.0.0,>=8.1.0 in c:\\users\\balle\\pycharmprojects\\python-learning-journey-documentation\\.venv\\lib\\site-packages (from langchain-community) (9.1.2)\n",
      "Requirement already satisfied: dataclasses-json<0.7.0,>=0.6.7 in c:\\users\\balle\\pycharmprojects\\python-learning-journey-documentation\\.venv\\lib\\site-packages (from langchain-community) (0.6.7)\n",
      "Requirement already satisfied: pydantic-settings<3.0.0,>=2.10.1 in c:\\users\\balle\\pycharmprojects\\python-learning-journey-documentation\\.venv\\lib\\site-packages (from langchain-community) (2.11.0)\n",
      "Requirement already satisfied: langsmith<1.0.0,>=0.1.125 in c:\\users\\balle\\pycharmprojects\\python-learning-journey-documentation\\.venv\\lib\\site-packages (from langchain-community) (0.4.37)\n",
      "Requirement already satisfied: httpx-sse<1.0.0,>=0.4.0 in c:\\users\\balle\\pycharmprojects\\python-learning-journey-documentation\\.venv\\lib\\site-packages (from langchain-community) (0.4.3)\n",
      "Requirement already satisfied: numpy>=2.1.0 in c:\\users\\balle\\pycharmprojects\\python-learning-journey-documentation\\.venv\\lib\\site-packages (from langchain-community) (2.3.2)\n",
      "Requirement already satisfied: aiohappyeyeballs>=2.5.0 in c:\\users\\balle\\pycharmprojects\\python-learning-journey-documentation\\.venv\\lib\\site-packages (from aiohttp<4.0.0,>=3.8.3->langchain-community) (2.6.1)\n",
      "Requirement already satisfied: aiosignal>=1.4.0 in c:\\users\\balle\\pycharmprojects\\python-learning-journey-documentation\\.venv\\lib\\site-packages (from aiohttp<4.0.0,>=3.8.3->langchain-community) (1.4.0)\n",
      "Requirement already satisfied: attrs>=17.3.0 in c:\\users\\balle\\pycharmprojects\\python-learning-journey-documentation\\.venv\\lib\\site-packages (from aiohttp<4.0.0,>=3.8.3->langchain-community) (25.3.0)\n",
      "Requirement already satisfied: frozenlist>=1.1.1 in c:\\users\\balle\\pycharmprojects\\python-learning-journey-documentation\\.venv\\lib\\site-packages (from aiohttp<4.0.0,>=3.8.3->langchain-community) (1.8.0)\n",
      "Requirement already satisfied: multidict<7.0,>=4.5 in c:\\users\\balle\\pycharmprojects\\python-learning-journey-documentation\\.venv\\lib\\site-packages (from aiohttp<4.0.0,>=3.8.3->langchain-community) (6.7.0)\n",
      "Requirement already satisfied: propcache>=0.2.0 in c:\\users\\balle\\pycharmprojects\\python-learning-journey-documentation\\.venv\\lib\\site-packages (from aiohttp<4.0.0,>=3.8.3->langchain-community) (0.4.1)\n",
      "Requirement already satisfied: yarl<2.0,>=1.17.0 in c:\\users\\balle\\pycharmprojects\\python-learning-journey-documentation\\.venv\\lib\\site-packages (from aiohttp<4.0.0,>=3.8.3->langchain-community) (1.22.0)\n",
      "Requirement already satisfied: marshmallow<4.0.0,>=3.18.0 in c:\\users\\balle\\pycharmprojects\\python-learning-journey-documentation\\.venv\\lib\\site-packages (from dataclasses-json<0.7.0,>=0.6.7->langchain-community) (3.26.1)\n",
      "Requirement already satisfied: typing-inspect<1,>=0.4.0 in c:\\users\\balle\\pycharmprojects\\python-learning-journey-documentation\\.venv\\lib\\site-packages (from dataclasses-json<0.7.0,>=0.6.7->langchain-community) (0.9.0)\n",
      "Collecting langchain-text-splitters<2.0.0,>=1.0.0 (from langchain-classic<2.0.0,>=1.0.0->langchain-community)\n",
      "  Downloading langchain_text_splitters-1.0.0-py3-none-any.whl.metadata (2.6 kB)\n",
      "Requirement already satisfied: pydantic<3.0.0,>=2.7.4 in c:\\users\\balle\\pycharmprojects\\python-learning-journey-documentation\\.venv\\lib\\site-packages (from langchain-classic<2.0.0,>=1.0.0->langchain-community) (2.12.2)\n",
      "Requirement already satisfied: jsonpatch<2.0.0,>=1.33.0 in c:\\users\\balle\\pycharmprojects\\python-learning-journey-documentation\\.venv\\lib\\site-packages (from langchain-core<2.0.0,>=1.0.0->langchain-community) (1.33)\n",
      "Requirement already satisfied: packaging<26.0.0,>=23.2.0 in c:\\users\\balle\\pycharmprojects\\python-learning-journey-documentation\\.venv\\lib\\site-packages (from langchain-core<2.0.0,>=1.0.0->langchain-community) (24.2)\n",
      "Requirement already satisfied: typing-extensions<5.0.0,>=4.7.0 in c:\\users\\balle\\pycharmprojects\\python-learning-journey-documentation\\.venv\\lib\\site-packages (from langchain-core<2.0.0,>=1.0.0->langchain-community) (4.14.1)\n",
      "Requirement already satisfied: jsonpointer>=1.9 in c:\\users\\balle\\pycharmprojects\\python-learning-journey-documentation\\.venv\\lib\\site-packages (from jsonpatch<2.0.0,>=1.33.0->langchain-core<2.0.0,>=1.0.0->langchain-community) (3.0.0)\n",
      "Requirement already satisfied: httpx<1,>=0.23.0 in c:\\users\\balle\\pycharmprojects\\python-learning-journey-documentation\\.venv\\lib\\site-packages (from langsmith<1.0.0,>=0.1.125->langchain-community) (0.28.1)\n",
      "Requirement already satisfied: orjson>=3.9.14 in c:\\users\\balle\\pycharmprojects\\python-learning-journey-documentation\\.venv\\lib\\site-packages (from langsmith<1.0.0,>=0.1.125->langchain-community) (3.11.3)\n",
      "Requirement already satisfied: requests-toolbelt>=1.0.0 in c:\\users\\balle\\pycharmprojects\\python-learning-journey-documentation\\.venv\\lib\\site-packages (from langsmith<1.0.0,>=0.1.125->langchain-community) (1.0.0)\n",
      "Requirement already satisfied: zstandard>=0.23.0 in c:\\users\\balle\\pycharmprojects\\python-learning-journey-documentation\\.venv\\lib\\site-packages (from langsmith<1.0.0,>=0.1.125->langchain-community) (0.25.0)\n",
      "Requirement already satisfied: anyio in c:\\users\\balle\\pycharmprojects\\python-learning-journey-documentation\\.venv\\lib\\site-packages (from httpx<1,>=0.23.0->langsmith<1.0.0,>=0.1.125->langchain-community) (4.10.0)\n",
      "Requirement already satisfied: certifi in c:\\users\\balle\\pycharmprojects\\python-learning-journey-documentation\\.venv\\lib\\site-packages (from httpx<1,>=0.23.0->langsmith<1.0.0,>=0.1.125->langchain-community) (2025.8.3)\n",
      "Requirement already satisfied: httpcore==1.* in c:\\users\\balle\\pycharmprojects\\python-learning-journey-documentation\\.venv\\lib\\site-packages (from httpx<1,>=0.23.0->langsmith<1.0.0,>=0.1.125->langchain-community) (1.0.9)\n",
      "Requirement already satisfied: idna in c:\\users\\balle\\pycharmprojects\\python-learning-journey-documentation\\.venv\\lib\\site-packages (from httpx<1,>=0.23.0->langsmith<1.0.0,>=0.1.125->langchain-community) (3.10)\n",
      "Requirement already satisfied: h11>=0.16 in c:\\users\\balle\\pycharmprojects\\python-learning-journey-documentation\\.venv\\lib\\site-packages (from httpcore==1.*->httpx<1,>=0.23.0->langsmith<1.0.0,>=0.1.125->langchain-community) (0.16.0)\n",
      "Requirement already satisfied: annotated-types>=0.6.0 in c:\\users\\balle\\pycharmprojects\\python-learning-journey-documentation\\.venv\\lib\\site-packages (from pydantic<3.0.0,>=2.7.4->langchain-classic<2.0.0,>=1.0.0->langchain-community) (0.7.0)\n",
      "Requirement already satisfied: pydantic-core==2.41.4 in c:\\users\\balle\\pycharmprojects\\python-learning-journey-documentation\\.venv\\lib\\site-packages (from pydantic<3.0.0,>=2.7.4->langchain-classic<2.0.0,>=1.0.0->langchain-community) (2.41.4)\n",
      "Requirement already satisfied: typing-inspection>=0.4.2 in c:\\users\\balle\\pycharmprojects\\python-learning-journey-documentation\\.venv\\lib\\site-packages (from pydantic<3.0.0,>=2.7.4->langchain-classic<2.0.0,>=1.0.0->langchain-community) (0.4.2)\n",
      "Requirement already satisfied: python-dotenv>=0.21.0 in c:\\users\\balle\\pycharmprojects\\python-learning-journey-documentation\\.venv\\lib\\site-packages (from pydantic-settings<3.0.0,>=2.10.1->langchain-community) (1.1.1)\n",
      "Requirement already satisfied: charset_normalizer<4,>=2 in c:\\users\\balle\\pycharmprojects\\python-learning-journey-documentation\\.venv\\lib\\site-packages (from requests<3.0.0,>=2.32.5->langchain-community) (3.4.3)\n",
      "Requirement already satisfied: urllib3<3,>=1.21.1 in c:\\users\\balle\\pycharmprojects\\python-learning-journey-documentation\\.venv\\lib\\site-packages (from requests<3.0.0,>=2.32.5->langchain-community) (2.3.0)\n",
      "Requirement already satisfied: greenlet>=1 in c:\\users\\balle\\pycharmprojects\\python-learning-journey-documentation\\.venv\\lib\\site-packages (from SQLAlchemy<3.0.0,>=1.4.0->langchain-community) (3.2.4)\n",
      "Requirement already satisfied: mypy-extensions>=0.3.0 in c:\\users\\balle\\pycharmprojects\\python-learning-journey-documentation\\.venv\\lib\\site-packages (from typing-inspect<1,>=0.4.0->dataclasses-json<0.7.0,>=0.6.7->langchain-community) (1.1.0)\n",
      "Requirement already satisfied: tiktoken>=0.5.1 in c:\\users\\balle\\pycharmprojects\\python-learning-journey-documentation\\.venv\\lib\\site-packages (from tavily-python) (0.12.0)\n",
      "Requirement already satisfied: regex>=2022.1.18 in c:\\users\\balle\\pycharmprojects\\python-learning-journey-documentation\\.venv\\lib\\site-packages (from tiktoken>=0.5.1->tavily-python) (2025.9.18)\n",
      "Requirement already satisfied: sniffio>=1.1 in c:\\users\\balle\\pycharmprojects\\python-learning-journey-documentation\\.venv\\lib\\site-packages (from anyio->httpx<1,>=0.23.0->langsmith<1.0.0,>=0.1.125->langchain-community) (1.3.1)\n",
      "Downloading langchain_community-0.4-py3-none-any.whl (2.5 MB)\n",
      "   ---------------------------------------- 0.0/2.5 MB ? eta -:--:--\n",
      "   --------------------------------- ------ 2.1/2.5 MB 16.0 MB/s eta 0:00:01\n",
      "   ---------------------------------------- 2.5/2.5 MB 13.9 MB/s eta 0:00:00\n",
      "Downloading langchain_classic-1.0.0-py3-none-any.whl (1.0 MB)\n",
      "   ---------------------------------------- 0.0/1.0 MB ? eta -:--:--\n",
      "   ---------------------------------------- 1.0/1.0 MB 19.5 MB/s eta 0:00:00\n",
      "Downloading langchain_core-1.0.0-py3-none-any.whl (467 kB)\n",
      "Downloading langchain_text_splitters-1.0.0-py3-none-any.whl (33 kB)\n",
      "Installing collected packages: langchain-core, langchain-text-splitters, langchain-classic, langchain-community\n",
      "\n",
      "  Attempting uninstall: langchain-core\n",
      "\n",
      "    Found existing installation: langchain-core 0.3.79\n",
      "\n",
      "    Uninstalling langchain-core-0.3.79:\n",
      "\n",
      "      Successfully uninstalled langchain-core-0.3.79\n",
      "\n",
      "   ---------------------------------------- 0/4 [langchain-core]\n",
      "   ---------------------------------------- 0/4 [langchain-core]\n",
      "   ---------------------------------------- 0/4 [langchain-core]\n",
      "  Attempting uninstall: langchain-text-splitters\n",
      "   ---------------------------------------- 0/4 [langchain-core]\n",
      "    Found existing installation: langchain-text-splitters 0.3.11\n",
      "   ---------------------------------------- 0/4 [langchain-core]\n",
      "   ---------- ----------------------------- 1/4 [langchain-text-splitters]\n",
      "    Uninstalling langchain-text-splitters-0.3.11:\n",
      "   ---------- ----------------------------- 1/4 [langchain-text-splitters]\n",
      "      Successfully uninstalled langchain-text-splitters-0.3.11\n",
      "   ---------- ----------------------------- 1/4 [langchain-text-splitters]\n",
      "   -------------------- ------------------- 2/4 [langchain-classic]\n",
      "   -------------------- ------------------- 2/4 [langchain-classic]\n",
      "   -------------------- ------------------- 2/4 [langchain-classic]\n",
      "   -------------------- ------------------- 2/4 [langchain-classic]\n",
      "   -------------------- ------------------- 2/4 [langchain-classic]\n",
      "   -------------------- ------------------- 2/4 [langchain-classic]\n",
      "   -------------------- ------------------- 2/4 [langchain-classic]\n",
      "   -------------------- ------------------- 2/4 [langchain-classic]\n",
      "   -------------------- ------------------- 2/4 [langchain-classic]\n",
      "   -------------------- ------------------- 2/4 [langchain-classic]\n",
      "   -------------------- ------------------- 2/4 [langchain-classic]\n",
      "   -------------------- ------------------- 2/4 [langchain-classic]\n",
      "   -------------------- ------------------- 2/4 [langchain-classic]\n",
      "  Attempting uninstall: langchain-community\n",
      "   -------------------- ------------------- 2/4 [langchain-classic]\n",
      "    Found existing installation: langchain-community 0.3.31\n",
      "   -------------------- ------------------- 2/4 [langchain-classic]\n",
      "   ------------------------------ --------- 3/4 [langchain-community]\n",
      "   ------------------------------ --------- 3/4 [langchain-community]\n",
      "    Uninstalling langchain-community-0.3.31:\n",
      "   ------------------------------ --------- 3/4 [langchain-community]\n",
      "      Successfully uninstalled langchain-community-0.3.31\n",
      "   ------------------------------ --------- 3/4 [langchain-community]\n",
      "   ------------------------------ --------- 3/4 [langchain-community]\n",
      "   ------------------------------ --------- 3/4 [langchain-community]\n",
      "   ------------------------------ --------- 3/4 [langchain-community]\n",
      "   ------------------------------ --------- 3/4 [langchain-community]\n",
      "   ------------------------------ --------- 3/4 [langchain-community]\n",
      "   ------------------------------ --------- 3/4 [langchain-community]\n",
      "   ------------------------------ --------- 3/4 [langchain-community]\n",
      "   ------------------------------ --------- 3/4 [langchain-community]\n",
      "   ------------------------------ --------- 3/4 [langchain-community]\n",
      "   ------------------------------ --------- 3/4 [langchain-community]\n",
      "   ------------------------------ --------- 3/4 [langchain-community]\n",
      "   ------------------------------ --------- 3/4 [langchain-community]\n",
      "   ------------------------------ --------- 3/4 [langchain-community]\n",
      "   ------------------------------ --------- 3/4 [langchain-community]\n",
      "   ------------------------------ --------- 3/4 [langchain-community]\n",
      "   ------------------------------ --------- 3/4 [langchain-community]\n",
      "   ------------------------------ --------- 3/4 [langchain-community]\n",
      "   ------------------------------ --------- 3/4 [langchain-community]\n",
      "   ------------------------------ --------- 3/4 [langchain-community]\n",
      "   ------------------------------ --------- 3/4 [langchain-community]\n",
      "   ------------------------------ --------- 3/4 [langchain-community]\n",
      "   ------------------------------ --------- 3/4 [langchain-community]\n",
      "   ---------------------------------------- 4/4 [langchain-community]\n",
      "\n",
      "Successfully installed langchain-classic-1.0.0 langchain-community-0.4 langchain-core-1.0.0 langchain-text-splitters-1.0.0\n"
     ]
    },
    {
     "name": "stderr",
     "output_type": "stream",
     "text": [
      "ERROR: pip's dependency resolver does not currently take into account all the packages that are installed. This behaviour is the source of the following dependency conflicts.\n",
      "langchain 0.3.27 requires langchain-core<1.0.0,>=0.3.72, but you have langchain-core 1.0.0 which is incompatible.\n",
      "langchain 0.3.27 requires langchain-text-splitters<1.0.0,>=0.3.9, but you have langchain-text-splitters 1.0.0 which is incompatible.\n",
      "langchain-openai 0.3.35 requires langchain-core<1.0.0,>=0.3.78, but you have langchain-core 1.0.0 which is incompatible.\n",
      "\n",
      "[notice] A new release of pip is available: 25.1.1 -> 25.2\n",
      "[notice] To update, run: python.exe -m pip install --upgrade pip\n"
     ]
    },
    {
     "name": "stdout",
     "output_type": "stream",
     "text": [
      "Requirement already satisfied: gradio_client==0.2.10 in c:\\users\\balle\\pycharmprojects\\python-learning-journey-documentation\\.venv\\lib\\site-packages (0.2.10)\n",
      "Requirement already satisfied: fsspec in c:\\users\\balle\\pycharmprojects\\python-learning-journey-documentation\\.venv\\lib\\site-packages (from gradio_client==0.2.10) (2025.9.0)\n",
      "Requirement already satisfied: httpx in c:\\users\\balle\\pycharmprojects\\python-learning-journey-documentation\\.venv\\lib\\site-packages (from gradio_client==0.2.10) (0.28.1)\n",
      "Requirement already satisfied: huggingface-hub>=0.13.0 in c:\\users\\balle\\pycharmprojects\\python-learning-journey-documentation\\.venv\\lib\\site-packages (from gradio_client==0.2.10) (0.35.3)\n",
      "Requirement already satisfied: packaging in c:\\users\\balle\\pycharmprojects\\python-learning-journey-documentation\\.venv\\lib\\site-packages (from gradio_client==0.2.10) (24.2)\n",
      "Requirement already satisfied: requests~=2.0 in c:\\users\\balle\\pycharmprojects\\python-learning-journey-documentation\\.venv\\lib\\site-packages (from gradio_client==0.2.10) (2.32.5)\n",
      "Requirement already satisfied: typing-extensions~=4.0 in c:\\users\\balle\\pycharmprojects\\python-learning-journey-documentation\\.venv\\lib\\site-packages (from gradio_client==0.2.10) (4.14.1)\n",
      "Requirement already satisfied: websockets<12.0,>=10.0 in c:\\users\\balle\\pycharmprojects\\python-learning-journey-documentation\\.venv\\lib\\site-packages (from gradio_client==0.2.10) (11.0.3)\n",
      "Requirement already satisfied: charset_normalizer<4,>=2 in c:\\users\\balle\\pycharmprojects\\python-learning-journey-documentation\\.venv\\lib\\site-packages (from requests~=2.0->gradio_client==0.2.10) (3.4.3)\n",
      "Requirement already satisfied: idna<4,>=2.5 in c:\\users\\balle\\pycharmprojects\\python-learning-journey-documentation\\.venv\\lib\\site-packages (from requests~=2.0->gradio_client==0.2.10) (3.10)\n",
      "Requirement already satisfied: urllib3<3,>=1.21.1 in c:\\users\\balle\\pycharmprojects\\python-learning-journey-documentation\\.venv\\lib\\site-packages (from requests~=2.0->gradio_client==0.2.10) (2.3.0)\n",
      "Requirement already satisfied: certifi>=2017.4.17 in c:\\users\\balle\\pycharmprojects\\python-learning-journey-documentation\\.venv\\lib\\site-packages (from requests~=2.0->gradio_client==0.2.10) (2025.8.3)\n",
      "Requirement already satisfied: filelock in c:\\users\\balle\\pycharmprojects\\python-learning-journey-documentation\\.venv\\lib\\site-packages (from huggingface-hub>=0.13.0->gradio_client==0.2.10) (3.20.0)\n",
      "Requirement already satisfied: pyyaml>=5.1 in c:\\users\\balle\\pycharmprojects\\python-learning-journey-documentation\\.venv\\lib\\site-packages (from huggingface-hub>=0.13.0->gradio_client==0.2.10) (6.0.2)\n",
      "Requirement already satisfied: tqdm>=4.42.1 in c:\\users\\balle\\pycharmprojects\\python-learning-journey-documentation\\.venv\\lib\\site-packages (from huggingface-hub>=0.13.0->gradio_client==0.2.10) (4.67.1)\n",
      "Requirement already satisfied: colorama in c:\\users\\balle\\pycharmprojects\\python-learning-journey-documentation\\.venv\\lib\\site-packages (from tqdm>=4.42.1->huggingface-hub>=0.13.0->gradio_client==0.2.10) (0.4.6)\n",
      "Requirement already satisfied: anyio in c:\\users\\balle\\pycharmprojects\\python-learning-journey-documentation\\.venv\\lib\\site-packages (from httpx->gradio_client==0.2.10) (4.10.0)\n",
      "Requirement already satisfied: httpcore==1.* in c:\\users\\balle\\pycharmprojects\\python-learning-journey-documentation\\.venv\\lib\\site-packages (from httpx->gradio_client==0.2.10) (1.0.9)\n",
      "Requirement already satisfied: h11>=0.16 in c:\\users\\balle\\pycharmprojects\\python-learning-journey-documentation\\.venv\\lib\\site-packages (from httpcore==1.*->httpx->gradio_client==0.2.10) (0.16.0)\n",
      "Requirement already satisfied: sniffio>=1.1 in c:\\users\\balle\\pycharmprojects\\python-learning-journey-documentation\\.venv\\lib\\site-packages (from anyio->httpx->gradio_client==0.2.10) (1.3.1)\n"
     ]
    },
    {
     "name": "stderr",
     "output_type": "stream",
     "text": [
      "\n",
      "[notice] A new release of pip is available: 25.1.1 -> 25.2\n",
      "[notice] To update, run: python.exe -m pip install --upgrade pip\n"
     ]
    },
    {
     "name": "stdout",
     "output_type": "stream",
     "text": [
      "^C\n",
      "Collecting gradio==3.38.0\n",
      "  Using cached gradio-3.38.0-py3-none-any.whl.metadata (17 kB)\n",
      "Collecting aiofiles<24.0,>=22.0 (from gradio==3.38.0)\n",
      "  Using cached aiofiles-23.2.1-py3-none-any.whl.metadata (9.7 kB)\n",
      "Requirement already satisfied: aiohttp~=3.0 in c:\\users\\balle\\pycharmprojects\\python-learning-journey-documentation\\.venv\\lib\\site-packages (from gradio==3.38.0) (3.13.0)\n",
      "Collecting altair<6.0,>=4.2.0 (from gradio==3.38.0)\n",
      "  Using cached altair-5.5.0-py3-none-any.whl.metadata (11 kB)\n",
      "Collecting fastapi (from gradio==3.38.0)\n",
      "  Using cached fastapi-0.119.0-py3-none-any.whl.metadata (28 kB)\n",
      "Collecting ffmpy (from gradio==3.38.0)\n",
      "  Using cached ffmpy-0.6.3-py3-none-any.whl.metadata (2.9 kB)\n",
      "Requirement already satisfied: gradio-client>=0.2.10 in c:\\users\\balle\\pycharmprojects\\python-learning-journey-documentation\\.venv\\lib\\site-packages (from gradio==3.38.0) (0.2.10)\n",
      "Requirement already satisfied: httpx in c:\\users\\balle\\pycharmprojects\\python-learning-journey-documentation\\.venv\\lib\\site-packages (from gradio==3.38.0) (0.28.1)\n",
      "Requirement already satisfied: huggingface-hub>=0.14.0 in c:\\users\\balle\\pycharmprojects\\python-learning-journey-documentation\\.venv\\lib\\site-packages (from gradio==3.38.0) (0.35.3)\n",
      "Requirement already satisfied: jinja2<4.0 in c:\\users\\balle\\pycharmprojects\\python-learning-journey-documentation\\.venv\\lib\\site-packages (from gradio==3.38.0) (3.1.6)\n",
      "Requirement already satisfied: markdown-it-py>=2.0.0 in c:\\users\\balle\\pycharmprojects\\python-learning-journey-documentation\\.venv\\lib\\site-packages (from markdown-it-py[linkify]>=2.0.0->gradio==3.38.0) (4.0.0)\n",
      "Collecting markupsafe~=2.0 (from gradio==3.38.0)\n",
      "  Using cached MarkupSafe-2.1.5.tar.gz (19 kB)\n",
      "  Installing build dependencies: started\n",
      "  Installing build dependencies: finished with status 'done'\n",
      "  Getting requirements to build wheel: started\n",
      "  Getting requirements to build wheel: finished with status 'done'\n",
      "  Preparing metadata (pyproject.toml): started\n",
      "  Preparing metadata (pyproject.toml): finished with status 'done'\n",
      "Requirement already satisfied: matplotlib~=3.0 in c:\\users\\balle\\pycharmprojects\\python-learning-journey-documentation\\.venv\\lib\\site-packages (from gradio==3.38.0) (3.10.5)\n",
      "Collecting mdit-py-plugins<=0.3.3 (from gradio==3.38.0)\n",
      "  Using cached mdit_py_plugins-0.3.3-py3-none-any.whl.metadata (2.8 kB)\n",
      "Collecting numpy~=1.0 (from gradio==3.38.0)\n",
      "  Using cached numpy-1.26.4.tar.gz (15.8 MB)\n",
      "  Installing build dependencies: started\n",
      "  Installing build dependencies: finished with status 'done'\n",
      "  Getting requirements to build wheel: started\n",
      "  Getting requirements to build wheel: finished with status 'done'\n",
      "  Installing backend dependencies: started\n",
      "  Installing backend dependencies: finished with status 'done'\n",
      "  Preparing metadata (pyproject.toml): started\n",
      "  Preparing metadata (pyproject.toml): still running...\n",
      "  Preparing metadata (pyproject.toml): finished with status 'done'\n",
      "Requirement already satisfied: orjson~=3.0 in c:\\users\\balle\\pycharmprojects\\python-learning-journey-documentation\\.venv\\lib\\site-packages (from gradio==3.38.0) (3.11.3)\n",
      "Requirement already satisfied: packaging in c:\\users\\balle\\pycharmprojects\\python-learning-journey-documentation\\.venv\\lib\\site-packages (from gradio==3.38.0) (24.2)\n",
      "Requirement already satisfied: pandas<3.0,>=1.0 in c:\\users\\balle\\pycharmprojects\\python-learning-journey-documentation\\.venv\\lib\\site-packages (from gradio==3.38.0) (2.3.1)\n",
      "Collecting pillow<11.0,>=8.0 (from gradio==3.38.0)\n",
      "  Downloading pillow-10.4.0-cp313-cp313-win_amd64.whl.metadata (9.3 kB)\n",
      "Requirement already satisfied: pydantic!=1.8,!=1.8.1,!=2.0.0,!=2.0.1,<3.0.0,>=1.7.4 in c:\\users\\balle\\pycharmprojects\\python-learning-journey-documentation\\.venv\\lib\\site-packages (from gradio==3.38.0) (2.12.2)\n",
      "Collecting pydub (from gradio==3.38.0)\n",
      "  Downloading pydub-0.25.1-py2.py3-none-any.whl.metadata (1.4 kB)\n",
      "Collecting python-multipart (from gradio==3.38.0)\n",
      "  Downloading python_multipart-0.0.20-py3-none-any.whl.metadata (1.8 kB)\n",
      "Requirement already satisfied: pyyaml<7.0,>=5.0 in c:\\users\\balle\\pycharmprojects\\python-learning-journey-documentation\\.venv\\lib\\site-packages (from gradio==3.38.0) (6.0.2)\n",
      "Requirement already satisfied: requests~=2.0 in c:\\users\\balle\\pycharmprojects\\python-learning-journey-documentation\\.venv\\lib\\site-packages (from gradio==3.38.0) (2.32.5)\n",
      "Collecting semantic-version~=2.0 (from gradio==3.38.0)\n",
      "  Downloading semantic_version-2.10.0-py2.py3-none-any.whl.metadata (9.7 kB)\n",
      "Requirement already satisfied: typing-extensions~=4.0 in c:\\users\\balle\\pycharmprojects\\python-learning-journey-documentation\\.venv\\lib\\site-packages (from gradio==3.38.0) (4.14.1)\n",
      "Requirement already satisfied: uvicorn>=0.14.0 in c:\\users\\balle\\pycharmprojects\\python-learning-journey-documentation\\.venv\\lib\\site-packages (from gradio==3.38.0) (0.37.0)\n",
      "Requirement already satisfied: websockets<12.0,>=10.0 in c:\\users\\balle\\pycharmprojects\\python-learning-journey-documentation\\.venv\\lib\\site-packages (from gradio==3.38.0) (11.0.3)\n",
      "Requirement already satisfied: aiohappyeyeballs>=2.5.0 in c:\\users\\balle\\pycharmprojects\\python-learning-journey-documentation\\.venv\\lib\\site-packages (from aiohttp~=3.0->gradio==3.38.0) (2.6.1)\n",
      "Requirement already satisfied: aiosignal>=1.4.0 in c:\\users\\balle\\pycharmprojects\\python-learning-journey-documentation\\.venv\\lib\\site-packages (from aiohttp~=3.0->gradio==3.38.0) (1.4.0)\n",
      "Requirement already satisfied: attrs>=17.3.0 in c:\\users\\balle\\pycharmprojects\\python-learning-journey-documentation\\.venv\\lib\\site-packages (from aiohttp~=3.0->gradio==3.38.0) (25.3.0)\n",
      "Requirement already satisfied: frozenlist>=1.1.1 in c:\\users\\balle\\pycharmprojects\\python-learning-journey-documentation\\.venv\\lib\\site-packages (from aiohttp~=3.0->gradio==3.38.0) (1.8.0)\n",
      "Requirement already satisfied: multidict<7.0,>=4.5 in c:\\users\\balle\\pycharmprojects\\python-learning-journey-documentation\\.venv\\lib\\site-packages (from aiohttp~=3.0->gradio==3.38.0) (6.7.0)\n",
      "Requirement already satisfied: propcache>=0.2.0 in c:\\users\\balle\\pycharmprojects\\python-learning-journey-documentation\\.venv\\lib\\site-packages (from aiohttp~=3.0->gradio==3.38.0) (0.4.1)\n",
      "Requirement already satisfied: yarl<2.0,>=1.17.0 in c:\\users\\balle\\pycharmprojects\\python-learning-journey-documentation\\.venv\\lib\\site-packages (from aiohttp~=3.0->gradio==3.38.0) (1.22.0)\n",
      "Requirement already satisfied: jsonschema>=3.0 in c:\\users\\balle\\pycharmprojects\\python-learning-journey-documentation\\.venv\\lib\\site-packages (from altair<6.0,>=4.2.0->gradio==3.38.0) (4.25.0)\n",
      "Collecting narwhals>=1.14.2 (from altair<6.0,>=4.2.0->gradio==3.38.0)\n",
      "  Downloading narwhals-2.8.0-py3-none-any.whl.metadata (11 kB)\n",
      "Requirement already satisfied: contourpy>=1.0.1 in c:\\users\\balle\\pycharmprojects\\python-learning-journey-documentation\\.venv\\lib\\site-packages (from matplotlib~=3.0->gradio==3.38.0) (1.3.3)\n",
      "Requirement already satisfied: cycler>=0.10 in c:\\users\\balle\\pycharmprojects\\python-learning-journey-documentation\\.venv\\lib\\site-packages (from matplotlib~=3.0->gradio==3.38.0) (0.12.1)\n",
      "Requirement already satisfied: fonttools>=4.22.0 in c:\\users\\balle\\pycharmprojects\\python-learning-journey-documentation\\.venv\\lib\\site-packages (from matplotlib~=3.0->gradio==3.38.0) (4.59.1)\n",
      "Requirement already satisfied: kiwisolver>=1.3.1 in c:\\users\\balle\\pycharmprojects\\python-learning-journey-documentation\\.venv\\lib\\site-packages (from matplotlib~=3.0->gradio==3.38.0) (1.4.9)\n",
      "Requirement already satisfied: pyparsing>=2.3.1 in c:\\users\\balle\\pycharmprojects\\python-learning-journey-documentation\\.venv\\lib\\site-packages (from matplotlib~=3.0->gradio==3.38.0) (3.2.3)\n",
      "Requirement already satisfied: python-dateutil>=2.7 in c:\\users\\balle\\pycharmprojects\\python-learning-journey-documentation\\.venv\\lib\\site-packages (from matplotlib~=3.0->gradio==3.38.0) (2.9.0.post0)\n",
      "Collecting markdown-it-py>=2.0.0 (from markdown-it-py[linkify]>=2.0.0->gradio==3.38.0)\n",
      "  Downloading markdown_it_py-2.2.0-py3-none-any.whl.metadata (6.8 kB)\n",
      "Requirement already satisfied: mdurl~=0.1 in c:\\users\\balle\\pycharmprojects\\python-learning-journey-documentation\\.venv\\lib\\site-packages (from markdown-it-py>=2.0.0->markdown-it-py[linkify]>=2.0.0->gradio==3.38.0) (0.1.2)\n",
      "Requirement already satisfied: pytz>=2020.1 in c:\\users\\balle\\pycharmprojects\\python-learning-journey-documentation\\.venv\\lib\\site-packages (from pandas<3.0,>=1.0->gradio==3.38.0) (2025.2)\n",
      "Requirement already satisfied: tzdata>=2022.7 in c:\\users\\balle\\pycharmprojects\\python-learning-journey-documentation\\.venv\\lib\\site-packages (from pandas<3.0,>=1.0->gradio==3.38.0) (2025.2)\n",
      "Requirement already satisfied: annotated-types>=0.6.0 in c:\\users\\balle\\pycharmprojects\\python-learning-journey-documentation\\.venv\\lib\\site-packages (from pydantic!=1.8,!=1.8.1,!=2.0.0,!=2.0.1,<3.0.0,>=1.7.4->gradio==3.38.0) (0.7.0)\n",
      "Requirement already satisfied: pydantic-core==2.41.4 in c:\\users\\balle\\pycharmprojects\\python-learning-journey-documentation\\.venv\\lib\\site-packages (from pydantic!=1.8,!=1.8.1,!=2.0.0,!=2.0.1,<3.0.0,>=1.7.4->gradio==3.38.0) (2.41.4)\n",
      "Requirement already satisfied: typing-inspection>=0.4.2 in c:\\users\\balle\\pycharmprojects\\python-learning-journey-documentation\\.venv\\lib\\site-packages (from pydantic!=1.8,!=1.8.1,!=2.0.0,!=2.0.1,<3.0.0,>=1.7.4->gradio==3.38.0) (0.4.2)\n",
      "Requirement already satisfied: charset_normalizer<4,>=2 in c:\\users\\balle\\pycharmprojects\\python-learning-journey-documentation\\.venv\\lib\\site-packages (from requests~=2.0->gradio==3.38.0) (3.4.3)\n",
      "Requirement already satisfied: idna<4,>=2.5 in c:\\users\\balle\\pycharmprojects\\python-learning-journey-documentation\\.venv\\lib\\site-packages (from requests~=2.0->gradio==3.38.0) (3.10)\n",
      "Requirement already satisfied: urllib3<3,>=1.21.1 in c:\\users\\balle\\pycharmprojects\\python-learning-journey-documentation\\.venv\\lib\\site-packages (from requests~=2.0->gradio==3.38.0) (2.3.0)\n",
      "Requirement already satisfied: certifi>=2017.4.17 in c:\\users\\balle\\pycharmprojects\\python-learning-journey-documentation\\.venv\\lib\\site-packages (from requests~=2.0->gradio==3.38.0) (2025.8.3)\n",
      "Requirement already satisfied: fsspec in c:\\users\\balle\\pycharmprojects\\python-learning-journey-documentation\\.venv\\lib\\site-packages (from gradio-client>=0.2.10->gradio==3.38.0) (2025.9.0)\n",
      "Requirement already satisfied: filelock in c:\\users\\balle\\pycharmprojects\\python-learning-journey-documentation\\.venv\\lib\\site-packages (from huggingface-hub>=0.14.0->gradio==3.38.0) (3.20.0)\n",
      "Requirement already satisfied: tqdm>=4.42.1 in c:\\users\\balle\\pycharmprojects\\python-learning-journey-documentation\\.venv\\lib\\site-packages (from huggingface-hub>=0.14.0->gradio==3.38.0) (4.67.1)\n",
      "Requirement already satisfied: jsonschema-specifications>=2023.03.6 in c:\\users\\balle\\pycharmprojects\\python-learning-journey-documentation\\.venv\\lib\\site-packages (from jsonschema>=3.0->altair<6.0,>=4.2.0->gradio==3.38.0) (2025.4.1)\n",
      "Requirement already satisfied: referencing>=0.28.4 in c:\\users\\balle\\pycharmprojects\\python-learning-journey-documentation\\.venv\\lib\\site-packages (from jsonschema>=3.0->altair<6.0,>=4.2.0->gradio==3.38.0) (0.36.2)\n",
      "Requirement already satisfied: rpds-py>=0.7.1 in c:\\users\\balle\\pycharmprojects\\python-learning-journey-documentation\\.venv\\lib\\site-packages (from jsonschema>=3.0->altair<6.0,>=4.2.0->gradio==3.38.0) (0.27.0)\n",
      "INFO: pip is looking at multiple versions of markdown-it-py[linkify] to determine which version is compatible with other requirements. This could take a while.\n",
      "Collecting markdown-it-py[linkify]>=2.0.0 (from gradio==3.38.0)\n",
      "  Downloading markdown_it_py-3.0.0-py3-none-any.whl.metadata (6.9 kB)\n",
      "Collecting linkify-it-py<3,>=1 (from markdown-it-py[linkify]>=2.0.0->gradio==3.38.0)\n",
      "  Downloading linkify_it_py-2.0.3-py3-none-any.whl.metadata (8.5 kB)\n",
      "Collecting uc-micro-py (from linkify-it-py<3,>=1->markdown-it-py[linkify]>=2.0.0->gradio==3.38.0)\n",
      "  Downloading uc_micro_py-1.0.3-py3-none-any.whl.metadata (2.0 kB)\n",
      "Requirement already satisfied: six>=1.5 in c:\\users\\balle\\pycharmprojects\\python-learning-journey-documentation\\.venv\\lib\\site-packages (from python-dateutil>=2.7->matplotlib~=3.0->gradio==3.38.0) (1.17.0)\n",
      "Requirement already satisfied: colorama in c:\\users\\balle\\pycharmprojects\\python-learning-journey-documentation\\.venv\\lib\\site-packages (from tqdm>=4.42.1->huggingface-hub>=0.14.0->gradio==3.38.0) (0.4.6)\n",
      "Requirement already satisfied: click>=7.0 in c:\\users\\balle\\pycharmprojects\\python-learning-journey-documentation\\.venv\\lib\\site-packages (from uvicorn>=0.14.0->gradio==3.38.0) (8.3.0)\n",
      "Requirement already satisfied: h11>=0.8 in c:\\users\\balle\\pycharmprojects\\python-learning-journey-documentation\\.venv\\lib\\site-packages (from uvicorn>=0.14.0->gradio==3.38.0) (0.16.0)\n",
      "Collecting starlette<0.49.0,>=0.40.0 (from fastapi->gradio==3.38.0)\n",
      "  Downloading starlette-0.48.0-py3-none-any.whl.metadata (6.3 kB)\n",
      "Requirement already satisfied: anyio<5,>=3.6.2 in c:\\users\\balle\\pycharmprojects\\python-learning-journey-documentation\\.venv\\lib\\site-packages (from starlette<0.49.0,>=0.40.0->fastapi->gradio==3.38.0) (4.10.0)\n",
      "Requirement already satisfied: sniffio>=1.1 in c:\\users\\balle\\pycharmprojects\\python-learning-journey-documentation\\.venv\\lib\\site-packages (from anyio<5,>=3.6.2->starlette<0.49.0,>=0.40.0->fastapi->gradio==3.38.0) (1.3.1)\n",
      "Requirement already satisfied: httpcore==1.* in c:\\users\\balle\\pycharmprojects\\python-learning-journey-documentation\\.venv\\lib\\site-packages (from httpx->gradio==3.38.0) (1.0.9)\n",
      "Downloading gradio-3.38.0-py3-none-any.whl (19.8 MB)\n",
      "   ---------------------------------------- 0.0/19.8 MB ? eta -:--:--\n",
      "   ------ --------------------------------- 3.1/19.8 MB 17.3 MB/s eta 0:00:01\n",
      "   ------------ --------------------------- 6.3/19.8 MB 16.1 MB/s eta 0:00:01\n",
      "   ------------------- -------------------- 9.4/19.8 MB 18.3 MB/s eta 0:00:01\n",
      "   ----------------------------- ---------- 14.7/19.8 MB 18.2 MB/s eta 0:00:01\n",
      "   -------------------------------------- - 19.1/19.8 MB 19.0 MB/s eta 0:00:01\n",
      "   ---------------------------------------- 19.8/19.8 MB 19.0 MB/s eta 0:00:00\n",
      "Downloading aiofiles-23.2.1-py3-none-any.whl (15 kB)\n",
      "Downloading altair-5.5.0-py3-none-any.whl (731 kB)\n",
      "   ---------------------------------------- 0.0/731.2 kB ? eta -:--:--\n",
      "   --------------------------------------- 731.2/731.2 kB 45.6 MB/s eta 0:00:00\n",
      "Downloading mdit_py_plugins-0.3.3-py3-none-any.whl (50 kB)\n",
      "Downloading markdown_it_py-2.2.0-py3-none-any.whl (84 kB)\n",
      "Downloading pillow-10.4.0-cp313-cp313-win_amd64.whl (2.6 MB)\n",
      "   ---------------------------------------- 0.0/2.6 MB ? eta -:--:--\n",
      "   ---------------------------------------- 2.6/2.6 MB 67.5 MB/s eta 0:00:00\n",
      "Downloading semantic_version-2.10.0-py2.py3-none-any.whl (15 kB)\n",
      "Downloading linkify_it_py-2.0.3-py3-none-any.whl (19 kB)\n",
      "Downloading narwhals-2.8.0-py3-none-any.whl (415 kB)\n",
      "Downloading fastapi-0.119.0-py3-none-any.whl (107 kB)\n",
      "Downloading starlette-0.48.0-py3-none-any.whl (73 kB)\n",
      "Downloading ffmpy-0.6.3-py3-none-any.whl (5.5 kB)\n",
      "Downloading pydub-0.25.1-py2.py3-none-any.whl (32 kB)\n",
      "Downloading python_multipart-0.0.20-py3-none-any.whl (24 kB)\n",
      "Downloading uc_micro_py-1.0.3-py3-none-any.whl (6.2 kB)\n",
      "Building wheels for collected packages: markupsafe, numpy\n",
      "  Building wheel for markupsafe (pyproject.toml): started\n",
      "  Building wheel for markupsafe (pyproject.toml): finished with status 'done'\n",
      "  Created wheel for markupsafe: filename=markupsafe-2.1.5-cp313-cp313-win_amd64.whl size=17240 sha256=ce6eefbdfa47db1111f31f2236141ca60583f964b9b0dcc557f30786c548a98f\n",
      "  Stored in directory: c:\\users\\balle\\appdata\\local\\pip\\cache\\wheels\\c2\\0c\\c0\\d6d953ac80cacc2dd1d329d675c67d1e7775bad02a8faedef0\n",
      "  Building wheel for numpy (pyproject.toml): started\n",
      "  Building wheel for numpy (pyproject.toml): finished with status 'done'\n",
      "  Created wheel for numpy: filename=numpy-1.26.4-cp313-cp313-win_amd64.whl size=6160129 sha256=ad3a85fcb9d372f9886d02418b0d30396934e2c017b1187e77c39a95b5da784e\n",
      "  Stored in directory: c:\\users\\balle\\appdata\\local\\pip\\cache\\wheels\\8b\\2d\\9f\\b6b46373f328e2ef50388915d351ccacbedac929459b5459bf\n",
      "Successfully built markupsafe numpy\n",
      "Installing collected packages: pydub, uc-micro-py, semantic-version, python-multipart, pillow, numpy, narwhals, markupsafe, markdown-it-py, ffmpy, aiofiles, starlette, mdit-py-plugins, linkify-it-py, fastapi, altair, gradio\n",
      "\n",
      "  Attempting uninstall: pillow\n",
      "\n",
      "    Found existing installation: pillow 11.3.0\n",
      "\n",
      "    Uninstalling pillow-11.3.0:\n",
      "\n",
      "      Successfully uninstalled pillow-11.3.0\n",
      "\n",
      "   --------- ------------------------------  4/17 [pillow]\n",
      "   --------- ------------------------------  4/17 [pillow]\n",
      "   --------- ------------------------------  4/17 [pillow]\n",
      "  Attempting uninstall: numpy\n",
      "   --------- ------------------------------  4/17 [pillow]\n",
      "    Found existing installation: numpy 2.3.2\n",
      "   --------- ------------------------------  4/17 [pillow]\n",
      "   ----------- ----------------------------  5/17 [numpy]\n",
      "    Uninstalling numpy-2.3.2:\n",
      "   ----------- ----------------------------  5/17 [numpy]\n",
      "      Successfully uninstalled numpy-2.3.2\n",
      "   ----------- ----------------------------  5/17 [numpy]\n",
      "   ----------- ----------------------------  5/17 [numpy]\n",
      "   ----------- ----------------------------  5/17 [numpy]\n",
      "   ----------- ----------------------------  5/17 [numpy]\n",
      "   ----------- ----------------------------  5/17 [numpy]\n",
      "   ----------- ----------------------------  5/17 [numpy]\n",
      "   ----------- ----------------------------  5/17 [numpy]\n",
      "   ----------- ----------------------------  5/17 [numpy]\n",
      "   ----------- ----------------------------  5/17 [numpy]\n",
      "   ----------- ----------------------------  5/17 [numpy]\n",
      "   ----------- ----------------------------  5/17 [numpy]\n",
      "   ----------- ----------------------------  5/17 [numpy]\n",
      "   ----------- ----------------------------  5/17 [numpy]\n",
      "   ----------- ----------------------------  5/17 [numpy]\n",
      "   -------------- -------------------------  6/17 [narwhals]\n",
      "   -------------- -------------------------  6/17 [narwhals]\n",
      "   -------------- -------------------------  6/17 [narwhals]\n",
      "  Attempting uninstall: markupsafe\n",
      "   -------------- -------------------------  6/17 [narwhals]\n",
      "    Found existing installation: MarkupSafe 3.0.2\n",
      "   -------------- -------------------------  6/17 [narwhals]\n",
      "    Uninstalling MarkupSafe-3.0.2:\n",
      "   -------------- -------------------------  6/17 [narwhals]\n",
      "      Successfully uninstalled MarkupSafe-3.0.2\n",
      "   -------------- -------------------------  6/17 [narwhals]\n",
      "   ---------------- -----------------------  7/17 [markupsafe]\n",
      "   ---------------- -----------------------  7/17 [markupsafe]\n",
      "   ---------------- -----------------------  7/17 [markupsafe]\n",
      "   ---------------- -----------------------  7/17 [markupsafe]\n",
      "   ---------------- -----------------------  7/17 [markupsafe]\n",
      "   ---------------- -----------------------  7/17 [markupsafe]\n",
      "   ---------------- -----------------------  7/17 [markupsafe]\n",
      "   ---------------- -----------------------  7/17 [markupsafe]\n",
      "   ---------------- -----------------------  7/17 [markupsafe]\n",
      "   ---------------- -----------------------  7/17 [markupsafe]\n",
      "   ---------------- -----------------------  7/17 [markupsafe]\n",
      "   ---------------- -----------------------  7/17 [markupsafe]\n",
      "   ---------------- -----------------------  7/17 [markupsafe]\n",
      "   ---------------- -----------------------  7/17 [markupsafe]\n",
      "   ---------------- -----------------------  7/17 [markupsafe]\n",
      "   ---------------- -----------------------  7/17 [markupsafe]\n",
      "   ---------------- -----------------------  7/17 [markupsafe]\n",
      "   ---------------- -----------------------  7/17 [markupsafe]\n",
      "  Attempting uninstall: markdown-it-py\n",
      "   ---------------- -----------------------  7/17 [markupsafe]\n",
      "    Found existing installation: markdown-it-py 4.0.0\n",
      "   ---------------- -----------------------  7/17 [markupsafe]\n",
      "    Uninstalling markdown-it-py-4.0.0:\n",
      "   ---------------- -----------------------  7/17 [markupsafe]\n",
      "      Successfully uninstalled markdown-it-py-4.0.0\n",
      "   ---------------- -----------------------  7/17 [markupsafe]\n",
      "   ------------------ ---------------------  8/17 [markdown-it-py]\n",
      "   ---------------------------- ----------- 12/17 [mdit-py-plugins]\n",
      "   -------------------------------- ------- 14/17 [fastapi]\n",
      "   ----------------------------------- ---- 15/17 [altair]\n",
      "   ------------------------------------- -- 16/17 [gradio]\n",
      "   ------------------------------------- -- 16/17 [gradio]\n",
      "   ------------------------------------- -- 16/17 [gradio]\n",
      "   ------------------------------------- -- 16/17 [gradio]\n",
      "   ------------------------------------- -- 16/17 [gradio]\n",
      "   ---------------------------------------- 17/17 [gradio]\n",
      "\n",
      "Successfully installed aiofiles-23.2.1 altair-5.5.0 fastapi-0.119.0 ffmpy-0.6.3 gradio-3.38.0 linkify-it-py-2.0.3 markdown-it-py-2.2.0 markupsafe-2.1.5 mdit-py-plugins-0.3.3 narwhals-2.8.0 numpy-1.26.4 pillow-10.4.0 pydub-0.25.1 python-multipart-0.0.20 semantic-version-2.10.0 starlette-0.48.0 uc-micro-py-1.0.3\n"
     ]
    },
    {
     "name": "stderr",
     "output_type": "stream",
     "text": [
      "  WARNING: Failed to remove contents in a temporary directory 'C:\\Users\\Balle\\PycharmProjects\\Python-Learning-Journey-Documentation\\.venv\\Lib\\site-packages\\~arkupsafe'.\n",
      "  You can safely remove it manually.\n",
      "ERROR: pip's dependency resolver does not currently take into account all the packages that are installed. This behaviour is the source of the following dependency conflicts.\n",
      "langchain-chroma 1.0.0 requires numpy>=2.1.0; python_version >= \"3.13\", but you have numpy 1.26.4 which is incompatible.\n",
      "langchain-community 0.4 requires numpy>=2.1.0; python_version >= \"3.13\", but you have numpy 1.26.4 which is incompatible.\n",
      "\n",
      "[notice] A new release of pip is available: 25.1.1 -> 25.2\n",
      "[notice] To update, run: python.exe -m pip install --upgrade pip\n"
     ]
    }
   ],
   "execution_count": 1
  },
  {
   "cell_type": "code",
   "source": [
    "import getpass\n",
    "import os\n",
    "from langchain_core.prompts import ChatPromptTemplate\n",
    "from langchain_core.output_parsers import StrOutputParser\n",
    "from langchain_openai import ChatOpenAI\n",
    "from langchain.chains import create_retrieval_chain"
   ],
   "metadata": {
    "id": "PGZi1bx3JuOP",
    "ExecuteTime": {
     "end_time": "2025-10-18T21:47:37.821816Z",
     "start_time": "2025-10-18T21:47:37.817821Z"
    }
   },
   "outputs": [
    {
     "ename": "SyntaxError",
     "evalue": "invalid syntax (3994141918.py, line 6)",
     "output_type": "error",
     "traceback": [
      "  \u001B[36mCell\u001B[39m\u001B[36m \u001B[39m\u001B[32mIn[2]\u001B[39m\u001B[32m, line 6\u001B[39m\n\u001B[31m    \u001B[39m\u001B[31mfrom langchain.chains import create_retrieval_chain `\u001B[39m\n                                                        ^\n\u001B[31mSyntaxError\u001B[39m\u001B[31m:\u001B[39m invalid syntax\n"
     ]
    }
   ],
   "execution_count": 2
  },
  {
   "cell_type": "code",
   "source": [
    "os.environ[\"OPENAI_API_KEY\"] = getpass.getpass()"
   ],
   "metadata": {
    "colab": {
     "base_uri": "https://localhost:8080/"
    },
    "id": "BTrQHgNuJsFJ",
    "outputId": "6f758e61-3de3-4d03-f1bf-c261dd7ff76d"
   },
   "execution_count": 3,
   "outputs": [
    {
     "name": "stdout",
     "output_type": "stream",
     "text": [
      "··········\n"
     ]
    }
   ]
  },
  {
   "cell_type": "code",
   "source": [
    "os.environ[\"TAVILY_API_KEY\"] = getpass.getpass()"
   ],
   "metadata": {
    "colab": {
     "base_uri": "https://localhost:8080/"
    },
    "id": "sMffn6aYN5mJ",
    "outputId": "ca757fd4-6f26-4347-c61d-64c4ef8c4852"
   },
   "execution_count": 4,
   "outputs": [
    {
     "name": "stdout",
     "output_type": "stream",
     "text": [
      "··········\n"
     ]
    }
   ]
  },
  {
   "cell_type": "markdown",
   "source": [
    "# Setup the retriver"
   ],
   "metadata": {
    "id": "JEMVNOlwH6hj"
   }
  },
  {
   "cell_type": "code",
   "source": [
    "from langchain_community.document_loaders import WebBaseLoader\n",
    "loader = WebBaseLoader(\"https://docs.smith.langchain.com/\")\n",
    "\n",
    "docs = loader.load()"
   ],
   "metadata": {
    "id": "q-xCYFOmJjr7",
    "colab": {
     "base_uri": "https://localhost:8080/"
    },
    "outputId": "62b369f6-6d55-42d7-a595-6f2cd5e79b0e"
   },
   "execution_count": 5,
   "outputs": [
    {
     "output_type": "stream",
     "name": "stderr",
     "text": [
      "WARNING:langchain_community.utils.user_agent:USER_AGENT environment variable not set, consider setting it to identify your requests.\n"
     ]
    }
   ]
  },
  {
   "cell_type": "code",
   "source": [
    "from langchain_openai import OpenAIEmbeddings\n",
    "\n",
    "embeddings = OpenAIEmbeddings()"
   ],
   "metadata": {
    "id": "Ogsy_afnJli1"
   },
   "execution_count": 6,
   "outputs": []
  },
  {
   "cell_type": "code",
   "source": [
    "from langchain_community.vectorstores import FAISS\n",
    "from langchain_text_splitters import RecursiveCharacterTextSplitter\n",
    "\n",
    "\n",
    "text_splitter = RecursiveCharacterTextSplitter()\n",
    "documents = text_splitter.split_documents(docs)\n",
    "vector = FAISS.from_documents(documents, embeddings)"
   ],
   "metadata": {
    "id": "M9g8_NOPJoWf"
   },
   "execution_count": 7,
   "outputs": []
  },
  {
   "cell_type": "code",
   "source": [
    "from langchain.chains.combine_documents import create_stuff_documents_chain\n",
    "# create_stuff_documents_chain :\n",
    "#  Create a chain for passing a list of Documents to a model.\n",
    "\n",
    "llm = ChatOpenAI(api_key=os.environ[\"OPENAI_API_KEY\"])\n",
    "output_parser = StrOutputParser()\n",
    "\n",
    "prompt = ChatPromptTemplate.from_template(\"\"\"Answer the following question based only on the provided context:\n",
    "\n",
    "<context>\n",
    "{context}\n",
    "</context>\n",
    "\n",
    "Question: {input}\"\"\", output_parser = output_parser)\n",
    "\n",
    "document_chain = create_stuff_documents_chain(llm, prompt) # prompt | llm"
   ],
   "metadata": {
    "id": "ObUez56YJ1rK"
   },
   "execution_count": 8,
   "outputs": []
  },
  {
   "cell_type": "code",
   "source": [
    "retriever = vector.as_retriever()\n",
    "retrieval_chain = create_retrieval_chain(retriever, document_chain)"
   ],
   "metadata": {
    "id": "nV3d1P4sKS6c"
   },
   "execution_count": 9,
   "outputs": []
  },
  {
   "cell_type": "markdown",
   "source": [
    "![Rag-LangChain.png](data:image/png;base64,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)"
   ],
   "metadata": {
    "id": "aMS11vvGsqRr"
   }
  },
  {
   "cell_type": "code",
   "source": [
    "retrieval_chain.invoke({\"input\": \"What is LangSmith?\"})"
   ],
   "metadata": {
    "colab": {
     "base_uri": "https://localhost:8080/"
    },
    "collapsed": true,
    "id": "qBHyEakFxuAq",
    "outputId": "cdb26758-8feb-40cc-c075-3d18d5843e8e"
   },
   "execution_count": 10,
   "outputs": [
    {
     "output_type": "execute_result",
     "data": {
      "text/plain": [
       "{'input': 'What is LangSmith?',\n",
       " 'context': [Document(id='9684abbf-7aa8-49b4-ab2c-6767a3833cc0', metadata={'source': 'https://docs.smith.langchain.com/', 'title': 'Get started with LangSmith - Docs by LangChain', 'language': 'en'}, page_content='Get started with LangSmith - Docs by LangChainOur new LangChain Academy course on Deep Agents is now live! Enroll for free.Docs by LangChain home pagePythonSearch...⌘KLangSmithPlatform for LLM observability and evaluationOverviewQuickstartsTrace an applicationEvaluate an applicationTest promptsAPI & SDKsAPI referencePython SDKJS/TS SDKPricingPlansPricing FAQOur new LangChain Academy course on Deep Agents is now live! Enroll for free.Docs by LangChain home pagePythonSearch...⌘KGitHubForumForumSearch...NavigationGet started with LangSmithGet startedObservabilityEvaluationPrompt engineeringSelf-hostingAdministrationGet startedObservabilityEvaluationPrompt engineeringSelf-hostingAdministrationGitHubForumGet started with LangSmithCopy pageCopy pageLangSmith is a platform for building production-grade LLM applications. Monitor and evaluate your application, so you can ship quickly and with confidence.\\nLangSmith is framework agnostic —\\xa0you can use it with or without LangChain’s open source frameworks langchain and langgraph.\\n\\nStart tracingGain visibility into each step your application takes when handling a request to debug faster.Learn moreEvaluate your applicationMeasure quality of your applications over time to build more reliable AI applications.Learn moreTest your promptsIterate on prompts, with automatic version control and collaboration features.Learn moreSet up your workspaceSet up your workspace, configure admin settings, and invite your team to collaborate.Learn moreWas this page helpful?YesNoTrace an applicationAssistantResponses are generated using AI and may contain mistakes.Docs by LangChain home pagegithubxlinkedinyoutubeResourcesChangelogLangChain AcademyTrust CenterCompanyAboutCareersBloggithubxlinkedinyoutubePowered by Mintlify')],\n",
       " 'answer': \"LangSmith is a platform for building production-grade LLM applications that allows users to monitor, evaluate, and debug their applications for quicker and more confident shipping. It is framework agnostic and can be used with or without LangChain's open source frameworks langchain and langgraph.\"}"
      ]
     },
     "metadata": {},
     "execution_count": 10
    }
   ]
  },
  {
   "cell_type": "markdown",
   "source": [
    "# Agents"
   ],
   "metadata": {
    "id": "YCWJMiPUKW-m"
   }
  },
  {
   "cell_type": "code",
   "source": [
    "from langchain.tools.retriever import create_retriever_tool\n",
    "\n",
    "retriever_tool = create_retriever_tool(\n",
    "    retriever,\n",
    "    \"langsmith_search\",\n",
    "    \"Search for information about LangSmith. For any questions about LangSmith, you must use this tool!\",\n",
    ")\n",
    "\n",
    "# langsmith_search: Search for information about LangSmith. For any questions about LangSmith, you must use this tool!"
   ],
   "metadata": {
    "id": "DISqcFnnKSQQ"
   },
   "execution_count": 11,
   "outputs": []
  },
  {
   "cell_type": "code",
   "source": [
    "from langchain_community.tools.tavily_search import TavilySearchResults\n",
    "\n",
    "search = TavilySearchResults()"
   ],
   "metadata": {
    "id": "DUyQ1ESQKb_B",
    "outputId": "52b1a8e2-ddf3-4538-9df5-3fd3c235fe5e",
    "colab": {
     "base_uri": "https://localhost:8080/"
    }
   },
   "execution_count": 12,
   "outputs": [
    {
     "output_type": "stream",
     "name": "stderr",
     "text": [
      "/tmp/ipython-input-2722338889.py:3: LangChainDeprecationWarning: The class `TavilySearchResults` was deprecated in LangChain 0.3.25 and will be removed in 1.0. An updated version of the class exists in the :class:`~langchain-tavily package and should be used instead. To use it run `pip install -U :class:`~langchain-tavily` and import as `from :class:`~langchain_tavily import TavilySearch``.\n",
      "  search = TavilySearchResults()\n"
     ]
    }
   ]
  },
  {
   "cell_type": "code",
   "source": [
    "print(search.description)\n",
    "print(search.name)"
   ],
   "metadata": {
    "colab": {
     "base_uri": "https://localhost:8080/"
    },
    "id": "8D5OXbsI5Uti",
    "outputId": "56a8e1cd-085b-4a8b-d99d-9007dad9487d"
   },
   "execution_count": 13,
   "outputs": [
    {
     "output_type": "stream",
     "name": "stdout",
     "text": [
      "A search engine optimized for comprehensive, accurate, and trusted results. Useful for when you need to answer questions about current events. Input should be a search query.\n",
      "tavily_search_results_json\n"
     ]
    }
   ]
  },
  {
   "cell_type": "code",
   "source": [
    "tools = [retriever_tool, search]"
   ],
   "metadata": {
    "id": "Z2tIfBjvOQLF"
   },
   "execution_count": 14,
   "outputs": []
  },
  {
   "cell_type": "code",
   "source": [
    "from langchain_openai import ChatOpenAI\n",
    "from langchain import hub\n",
    "from langchain.agents import create_openai_functions_agent\n",
    "from langchain.agents import AgentExecutor\n",
    "\n",
    "# Get the prompt to use - you can modify this!\n",
    "prompt = hub.pull(\"hwchase17/openai-functions-agent\")\n",
    "\n",
    "# You need to set OPENAI_API_KEY environment variable or pass it as argument `api_key`.\n",
    "llm = ChatOpenAI(model=\"gpt-3.5-turbo\", temperature=0)\n",
    "agent = create_openai_functions_agent(llm, tools, prompt)\n",
    "agent_executor = AgentExecutor(agent=agent, tools=tools, verbose=True)"
   ],
   "metadata": {
    "id": "Mjd9GT9kOYJz"
   },
   "execution_count": 15,
   "outputs": []
  },
  {
   "cell_type": "code",
   "source": [
    "print(prompt)"
   ],
   "metadata": {
    "id": "wzYWF5r878o6",
    "outputId": "17407ea7-d074-4e61-d035-4bb86929dfd3",
    "colab": {
     "base_uri": "https://localhost:8080/"
    }
   },
   "execution_count": 16,
   "outputs": [
    {
     "output_type": "stream",
     "name": "stdout",
     "text": [
      "input_variables=['agent_scratchpad', 'input'] optional_variables=['chat_history'] input_types={'chat_history': list[typing.Annotated[typing.Union[typing.Annotated[langchain_core.messages.ai.AIMessage, Tag(tag='ai')], typing.Annotated[langchain_core.messages.human.HumanMessage, Tag(tag='human')], typing.Annotated[langchain_core.messages.chat.ChatMessage, Tag(tag='chat')], typing.Annotated[langchain_core.messages.system.SystemMessage, Tag(tag='system')], typing.Annotated[langchain_core.messages.function.FunctionMessage, Tag(tag='function')], typing.Annotated[langchain_core.messages.tool.ToolMessage, Tag(tag='tool')], typing.Annotated[langchain_core.messages.ai.AIMessageChunk, Tag(tag='AIMessageChunk')], typing.Annotated[langchain_core.messages.human.HumanMessageChunk, Tag(tag='HumanMessageChunk')], typing.Annotated[langchain_core.messages.chat.ChatMessageChunk, Tag(tag='ChatMessageChunk')], typing.Annotated[langchain_core.messages.system.SystemMessageChunk, Tag(tag='SystemMessageChunk')], typing.Annotated[langchain_core.messages.function.FunctionMessageChunk, Tag(tag='FunctionMessageChunk')], typing.Annotated[langchain_core.messages.tool.ToolMessageChunk, Tag(tag='ToolMessageChunk')]], FieldInfo(annotation=NoneType, required=True, discriminator=Discriminator(discriminator=<function _get_type at 0x7df7b69d3b00>, custom_error_type=None, custom_error_message=None, custom_error_context=None))]], 'agent_scratchpad': list[typing.Annotated[typing.Union[typing.Annotated[langchain_core.messages.ai.AIMessage, Tag(tag='ai')], typing.Annotated[langchain_core.messages.human.HumanMessage, Tag(tag='human')], typing.Annotated[langchain_core.messages.chat.ChatMessage, Tag(tag='chat')], typing.Annotated[langchain_core.messages.system.SystemMessage, Tag(tag='system')], typing.Annotated[langchain_core.messages.function.FunctionMessage, Tag(tag='function')], typing.Annotated[langchain_core.messages.tool.ToolMessage, Tag(tag='tool')], typing.Annotated[langchain_core.messages.ai.AIMessageChunk, Tag(tag='AIMessageChunk')], typing.Annotated[langchain_core.messages.human.HumanMessageChunk, Tag(tag='HumanMessageChunk')], typing.Annotated[langchain_core.messages.chat.ChatMessageChunk, Tag(tag='ChatMessageChunk')], typing.Annotated[langchain_core.messages.system.SystemMessageChunk, Tag(tag='SystemMessageChunk')], typing.Annotated[langchain_core.messages.function.FunctionMessageChunk, Tag(tag='FunctionMessageChunk')], typing.Annotated[langchain_core.messages.tool.ToolMessageChunk, Tag(tag='ToolMessageChunk')]], FieldInfo(annotation=NoneType, required=True, discriminator=Discriminator(discriminator=<function _get_type at 0x7df7b69d3b00>, custom_error_type=None, custom_error_message=None, custom_error_context=None))]]} partial_variables={'chat_history': []} metadata={'lc_hub_owner': 'hwchase17', 'lc_hub_repo': 'openai-functions-agent', 'lc_hub_commit_hash': 'a1655024b06afbd95d17449f21316291e0726f13dcfaf990cc0d18087ad689a5'} messages=[SystemMessagePromptTemplate(prompt=PromptTemplate(input_variables=[], input_types={}, partial_variables={}, template='You are a helpful assistant'), additional_kwargs={}), MessagesPlaceholder(variable_name='chat_history', optional=True), HumanMessagePromptTemplate(prompt=PromptTemplate(input_variables=['input'], input_types={}, partial_variables={}, template='{input}'), additional_kwargs={}), MessagesPlaceholder(variable_name='agent_scratchpad')]\n"
     ]
    }
   ]
  },
  {
   "cell_type": "code",
   "source": [
    "result = agent_executor.invoke({\"input\": \"how can langsmith help with testing?\"})"
   ],
   "metadata": {
    "colab": {
     "base_uri": "https://localhost:8080/"
    },
    "id": "2wmtD_AyOZHu",
    "outputId": "f8494110-26d2-4b40-e0cb-19b08131fd38"
   },
   "execution_count": 17,
   "outputs": [
    {
     "output_type": "stream",
     "name": "stdout",
     "text": [
      "\n",
      "\n",
      "\u001B[1m> Entering new AgentExecutor chain...\u001B[0m\n",
      "\u001B[32;1m\u001B[1;3m\n",
      "Invoking: `langsmith_search` with `{'query': 'how can LangSmith help with testing'}`\n",
      "\n",
      "\n",
      "\u001B[0m\u001B[36;1m\u001B[1;3mGet started with LangSmith - Docs by LangChainOur new LangChain Academy course on Deep Agents is now live! Enroll for free.Docs by LangChain home pagePythonSearch...⌘KLangSmithPlatform for LLM observability and evaluationOverviewQuickstartsTrace an applicationEvaluate an applicationTest promptsAPI & SDKsAPI referencePython SDKJS/TS SDKPricingPlansPricing FAQOur new LangChain Academy course on Deep Agents is now live! Enroll for free.Docs by LangChain home pagePythonSearch...⌘KGitHubForumForumSearch...NavigationGet started with LangSmithGet startedObservabilityEvaluationPrompt engineeringSelf-hostingAdministrationGet startedObservabilityEvaluationPrompt engineeringSelf-hostingAdministrationGitHubForumGet started with LangSmithCopy pageCopy pageLangSmith is a platform for building production-grade LLM applications. Monitor and evaluate your application, so you can ship quickly and with confidence.\n",
      "LangSmith is framework agnostic — you can use it with or without LangChain’s open source frameworks langchain and langgraph.\n",
      "\n",
      "Start tracingGain visibility into each step your application takes when handling a request to debug faster.Learn moreEvaluate your applicationMeasure quality of your applications over time to build more reliable AI applications.Learn moreTest your promptsIterate on prompts, with automatic version control and collaboration features.Learn moreSet up your workspaceSet up your workspace, configure admin settings, and invite your team to collaborate.Learn moreWas this page helpful?YesNoTrace an applicationAssistantResponses are generated using AI and may contain mistakes.Docs by LangChain home pagegithubxlinkedinyoutubeResourcesChangelogLangChain AcademyTrust CenterCompanyAboutCareersBloggithubxlinkedinyoutubePowered by Mintlify\u001B[0m\u001B[32;1m\u001B[1;3mLangSmith can help with testing by providing the following features:\n",
      "\n",
      "1. **Trace an application**: Gain visibility into each step your application takes when handling a request to debug faster.\n",
      "\n",
      "2. **Evaluate your application**: Measure the quality of your applications over time to build more reliable AI applications.\n",
      "\n",
      "3. **Test your prompts**: Iterate on prompts with automatic version control and collaboration features.\n",
      "\n",
      "4. **Set up your workspace**: Configure admin settings and invite your team to collaborate.\n",
      "\n",
      "These features can help in testing and ensuring the reliability of AI applications.\u001B[0m\n",
      "\n",
      "\u001B[1m> Finished chain.\u001B[0m\n"
     ]
    }
   ]
  },
  {
   "cell_type": "code",
   "source": [
    "print(result[\"output\"])"
   ],
   "metadata": {
    "colab": {
     "base_uri": "https://localhost:8080/"
    },
    "id": "2I4Hn32R1cgu",
    "outputId": "0d519c93-0318-4f4c-8119-770b6bf669de"
   },
   "execution_count": 18,
   "outputs": [
    {
     "output_type": "stream",
     "name": "stdout",
     "text": [
      "LangSmith can help with testing by providing the following features:\n",
      "\n",
      "1. **Trace an application**: Gain visibility into each step your application takes when handling a request to debug faster.\n",
      "\n",
      "2. **Evaluate your application**: Measure the quality of your applications over time to build more reliable AI applications.\n",
      "\n",
      "3. **Test your prompts**: Iterate on prompts with automatic version control and collaboration features.\n",
      "\n",
      "4. **Set up your workspace**: Configure admin settings and invite your team to collaborate.\n",
      "\n",
      "These features can help in testing and ensuring the reliability of AI applications.\n"
     ]
    }
   ]
  },
  {
   "cell_type": "code",
   "source": [
    "result = agent_executor.invoke({\"input\": \"what is the weather in SF?\"})"
   ],
   "metadata": {
    "id": "V51uc3WGOrwi",
    "outputId": "63667884-e4b3-41ed-d04b-a5d2940b2f09",
    "colab": {
     "base_uri": "https://localhost:8080/"
    }
   },
   "execution_count": 19,
   "outputs": [
    {
     "output_type": "stream",
     "name": "stdout",
     "text": [
      "\n",
      "\n",
      "\u001B[1m> Entering new AgentExecutor chain...\u001B[0m\n",
      "\u001B[32;1m\u001B[1;3m\n",
      "Invoking: `tavily_search_results_json` with `{'query': 'weather in San Francisco'}`\n",
      "\n",
      "\n",
      "\u001B[0m\u001B[33;1m\u001B[1;3m[{'title': 'Weather in San Francisco in September 2025 (California)', 'url': 'https://world-weather.info/forecast/usa/san_francisco/september-2025/', 'content': '25 +68° +64° 4.3 mph SW 30 inHg 84 %07:00 am 07:01 pm\\n   26 +70° +59° 5.1 mph W 29.8 inHg 85 %07:01 am 07:00 pm\\n   27 +68° +59° 17 mph SW 29.8 inHg 70 %07:02 am 06:58 pm\\n   28 +70° +63° 7.2 mph SW 29.9 inHg 81 %07:03 am 06:57 pm\\n   29 +70° +64° 15.9 mph SW 29.9 inHg 63 %07:04 am 06:55 pm\\n   30 +68° +63° 13 mph W 30 inHg 59 %07:04 am 06:54 pm [...] 17 +73° +59° 6.5 mph W 29.9 inHg 85 %06:53 am 07:14 pm\\n   18 +68° +63° 8.5 mph SW 29.8 inHg 85 %06:54 am 07:12 pm\\n   19 +70° +61° 6.9 mph W 29.8 inHg 88 %06:55 am 07:11 pm\\n   20 +68° +63° 6.3 mph SW 29.9 inHg 85 %06:56 am 07:09 pm\\n   21 +68° +61° 8.7 mph W 29.9 inHg 87 %06:57 am 07:07 pm\\n   22 +72° +59° 7.6 mph SW 29.8 inHg 86 %06:57 am 07:06 pm\\n   23 +82° +63° 5.1 mph W 29.8 inHg 76 %06:58 am 07:04 pm\\n   24 +73° +66° 8.3 mph NW 29.8 inHg 84 %06:59 am 07:03 pm [...] 9 +72° +64° 6.7 mph SW 29.9 inHg 89 %06:47 am 07:26 pm\\n   10 +70° +64° 6.5 mph W 29.8 inHg 88 %06:47 am 07:25 pm\\n   11 +68° +63° 9.8 mph W 29.9 inHg 85 %06:48 am 07:23 pm\\n   12 +68° +61° 7.8 mph SW 29.9 inHg 88 %06:49 am 07:21 pm\\n   13 +68° +61° 9.4 mph W 29.9 inHg 84 %06:50 am 07:20 pm\\n   14 +70° +63° 10.7 mph W 29.9 inHg 89 %06:51 am 07:18 pm\\n   15 +77° +61° 5.4 mph SW 29.8 inHg 87 %06:52 am 07:17 pm\\n   16 +75° +61° 5.1 mph SW 29.8 inHg 84 %06:52 am 07:15 pm', 'score': 0.8884594}, {'title': 'Weather San Francisco in September 2025: Temperature & Climate', 'url': 'https://en.climate-data.org/north-america/united-states-of-america/california/san-francisco-385/t/september-9/', 'content': '| Humidity |\\n ---  ---  ---  --- |\\n| 28. September | Broken clouds | 20 °C 68 °F | 16 °C 60.8 °F | 0 % | 13 km/h 8 mph | 0mm 0 in | 85% |\\n| 29. September | Broken clouds | 20 °C 68 °F | 16 °C 60.8 °F | 10 % | 15 km/h 9 mph | 0mm 0 in | 86% |\\n| 30. September | Light rain | 20 °C 68 °F | 16 °C 60.8 °F | 80 % | 13 km/h 8 mph | 7mm 0.28 in | 85% |\\n| 1. October | Moderate rain | 20 °C 68 °F | 16 °C 60.8 °F | 90 % | 13 km/h 8 mph | 15mm 0.59 in | 86% | [...] | 28. September | 17 °C | 63 °F | 24 °C | 75 °F | 13 °C | 55 °F | 14 °C | 57 °F | 0.1 mm | 0.0 inch. |\\n| 29. September | 17 °C | 62 °F | 23 °C | 73 °F | 13 °C | 55 °F | 14 °C | 57 °F | 0.0 mm | 0.0 inch. |\\n| 30. September | 16 °C | 62 °F | 22 °C | 72 °F | 13 °C | 55 °F | 14 °C | 57 °F | 0.1 mm | 0.0 inch. |\\nData: 1999 - 2019 [...] | Date | Weather | Max. | Min. | Rainrisk | Windspeed | Precipitation / Rainfall mm (in) | Humidity |\\n ---  ---  ---  --- |\\n| 5. October | Broken clouds | 21 °C 69.8 °F | 15 °C 59 °F | 0 % | 8 km/h 5 mph | 0mm 0 in | 71% |\\n| 6. October | Clear sky | 19 °C 66.2 °F | 15 °C 59 °F | 0 % | 14 km/h 9 mph | 0mm 0 in | 78% |\\n| 7. October | Few clouds | 18 °C 64.4 °F | 16 °C 60.8 °F | 0 % | 14 km/h 9 mph | 0mm 0 in | 81% |', 'score': 0.8808076}, {'title': 'Weather in San Francisco, California for September 2025', 'url': 'https://www.easeweather.com/north-america/united-states/california/city-and-county-of-san-francisco/san-francisco/september', 'content': '| 14 Image 23: Sunny 21° | 15 Image 24: Sunny 19° | 16 Image 25: Partly cloudy 19° | 17 Image 26: Fog 18° | 18 Image 27: Fog 18° | 19 Image 28: Fog 17° | 20 Image 29: Sunny 20° |\\n| 21 Image 30: Fog 20° | 22 Image 31: Fog 20° | 23 Image 32: Sunny 21° | 24 Image 33: Sunny 20° | 25 Image 34: Sunny 19° | 26 Image 35: Partly cloudy 19° | 27 Image 36: Fog 19° |\\n| 28 Image 37: Overcast 19° | 29 Image 38: Overcast 17° | 30 Image 39: Overcast 18° |  |  |  |  | [...] | Sept. 30 | Image 69: Overcast Overcast | 18°/16° | 0 mm | 1 |  |\\n| Next |', 'score': 0.8785752}, {'title': 'San Francisco weather in September 2025 | Weather25.com', 'url': 'https://www.weather25.com/north-america/usa/california/san-francisco?page=month&month=September', 'content': '| 28 Image 55: Overcast 21°/15° | 29 Image 56: Mist 18°/15° | 30 Image 57: Mist 17°/16° |  |  |  |  | [...] | Sun | Mon | Tue | Wed | Thu | Fri | Sat |\\n ---  ---  --- \\n|  | 1 Image 28: Sunny 21°/14° | 2 Image 29: Sunny 20°/14° | 3 Image 30: Partly cloudy 22°/14° | 4 Image 31: Sunny 22°/14° | 5 Image 32: Sunny 23°/15° | 6 Image 33: Sunny 23°/15° |\\n| 7 Image 34: Partly cloudy 21°/15° | 8 Image 35: Sunny 23°/15° | 9 Image 36: Sunny 21°/14° | 10 Image 37: Partly cloudy 19°/14° | 11 Image 38: Sunny 21°/13° | 12 Image 39: Sunny 21°/14° | 13 Image 40: Sunny 21°/14° | [...] Sunday Sep 28 Image 8: Overcast 0 mm 21°/15°Monday Sep 29 Image 9: Mist 0 mm 18°/15°Tuesday Sep 30 Image 10: Mist 0 mm 17°/16°Wednesday Oct 1 Image 11: Moderate rain 15.3 mm 18°/15°Thursday Oct 2 Image 12: Sunny 0 mm 19°/15°Friday Oct 3 Image 13: Sunny 0 mm 20°/14°Saturday Oct 4 Image 14: Sunny 0 mm 20°/15°Sunday Oct 5 Image 15: Sunny 0 mm 22°/15°Monday Oct 6 Image 16: Sunny 0 mm 19°/15°Tuesday Oct 7 Image 17: Partly cloudy 0 mm 19°/15°Wednesday Oct 8 Image 18: Sunny 0 mm 18°/15°Thursday Oct 9', 'score': 0.8700796}, {'title': 'San Francisco September 2025 Historical Weather Data (California ...', 'url': 'https://weatherspark.com/h/m/557/2025/9/Historical-Weather-in-September-2025-in-San-Francisco-California-United-States', 'content': 'PM | S | 243,703 mi | | 3 | | 85%  1:58 AM | SW | 5:31 PM | ESE | 10:18 PM | S | 240,351 mi | | 4 | | 92%  3:04 AM | WSW | 6:08 PM | ESE | 11:11 PM | S | 236,874 mi | | 5 | | 95%  4:14 AM | WSW | 6:40 PM | ESE  - | | 6 | | 97%  5:25 AM | WSW | 7:09 PM | ESE | 12:02 AM | S | 233,565 mi | | 7 | | 100%  6:36 AM | W | 7:35 PM | E | 12:51 AM | S | 230,703 mi | | 8 | | 100%  7:47 AM | W | 8:01 PM | E | 1:39 AM | S | 228,517 mi | | 9 | | 96%  9:00 AM | W | 8:28 PM | ENE | 2:27 AM | S | 227,155 mi | | [...] 9% | 9:48 AM | ESE | 8:14 PM | WSW  3:01 PM | S | 251,314 mi | | 25 | | 15% | 10:49 AM | ESE | 8:43 PM | WSW  3:46 PM | S | 251,927 mi | | 26 | | 23% | 11:50 AM | ESE | 9:17 PM | WSW  4:33 PM | S | 251,884 mi | | 27 | | 31% | 12:50 PM | SE | 9:58 PM | SW  5:24 PM | S | 251,089 mi | | 28 | | 41% | 1:47 PM | SE | 10:47 PM | SW  6:17 PM | S | 249,492 mi | | 29 | | 50% | 2:39 PM | SE | 11:43 PM | SW  7:11 PM | S | 247,104 mi | | 30 | | 61% | 3:25 PM | SE  - | 8:05 PM | S | 244,016 mi | , with [...] 17% | 2:27 AM | ENE | 5:24 PM | WNW  10:00 AM | S | 238,142 mi | | 18 | | 10% | 3:36 AM | ENE | 5:54 PM | WNW  10:49 AM | S | 240,384 mi | | 19 | | 4% | 4:42 AM | ENE | 6:20 PM | WNW  11:34 AM | S | 242,591 mi | | 20 | | 1% | 5:46 AM | E | 6:43 PM | W  12:17 PM | S | 244,734 mi | | 21 | | 0% | 6:47 AM | E | 7:04 PM | W  12:58 PM | S | 246,765 mi | | 22 | | 1% | 7:48 AM | E | 7:26 PM | W  1:38 PM | S | 248,609 mi | | 23 | | 4% | 8:48 AM | ESE | 7:49 PM | WSW  2:19 PM | S | 250,165 mi | | 24 | |', 'score': 0.8405867}]\u001B[0m\u001B[32;1m\u001B[1;3mThe weather in San Francisco in September 2025 is expected to have temperatures ranging from 59°F to 73°F with varying wind speeds and humidity levels. You can find more detailed information on the weather forecast for San Francisco in September 2025 [here](https://world-weather.info/forecast/usa/san_francisco/september-2025/).\u001B[0m\n",
      "\n",
      "\u001B[1m> Finished chain.\u001B[0m\n"
     ]
    }
   ]
  },
  {
   "cell_type": "code",
   "source": [
    "print(result[\"output\"])"
   ],
   "metadata": {
    "colab": {
     "base_uri": "https://localhost:8080/"
    },
    "id": "isZsTr--18TY",
    "outputId": "13141f25-c751-4c8d-f237-9b57a9a5683b"
   },
   "execution_count": 20,
   "outputs": [
    {
     "output_type": "stream",
     "name": "stdout",
     "text": [
      "The weather in San Francisco in September 2025 is expected to have temperatures ranging from 59°F to 73°F with varying wind speeds and humidity levels. You can find more detailed information on the weather forecast for San Francisco in September 2025 [here](https://world-weather.info/forecast/usa/san_francisco/september-2025/).\n"
     ]
    }
   ]
  },
  {
   "cell_type": "markdown",
   "source": [
    "# Gradio: Quickly Build & Share ML Apps ... or ot be more accurate PoCs"
   ],
   "metadata": {
    "id": "di1d0AdP1U4h"
   }
  },
  {
   "cell_type": "code",
   "source": [
    "import gradio as gr"
   ],
   "metadata": {
    "collapsed": true,
    "id": "SyZeN07P1Vb_",
    "outputId": "a639e63d-5af8-4009-b4fe-69a0618b8707",
    "colab": {
     "base_uri": "https://localhost:8080/"
    }
   },
   "execution_count": 21,
   "outputs": [
    {
     "output_type": "stream",
     "name": "stderr",
     "text": [
      "/usr/local/lib/python3.12/dist-packages/gradio_client/documentation.py:106: UserWarning: Could not get documentation group for <class 'gradio.mix.Parallel'>: No known documentation group for module 'gradio.mix'\n",
      "  warnings.warn(f\"Could not get documentation group for {cls}: {exc}\")\n",
      "/usr/local/lib/python3.12/dist-packages/gradio_client/documentation.py:106: UserWarning: Could not get documentation group for <class 'gradio.mix.Series'>: No known documentation group for module 'gradio.mix'\n",
      "  warnings.warn(f\"Could not get documentation group for {cls}: {exc}\")\n"
     ]
    }
   ]
  },
  {
   "cell_type": "code",
   "source": [
    "def predict(message, _):\n",
    "  result = agent_executor.invoke({\"input\": message})\n",
    "  return result[\"output\"]"
   ],
   "metadata": {
    "id": "eywhcknP3ANN"
   },
   "execution_count": 22,
   "outputs": []
  },
  {
   "cell_type": "code",
   "source": [
    "gr.ChatInterface(predict,\n",
    "    chatbot=gr.Chatbot(height=300),\n",
    "    textbox=gr.Textbox(placeholder=\"Hi I am your virtual assistant, how can I help you today?\", container=False, scale=7),\n",
    "    title=\"DocumentQABot\",\n",
    "    theme=\"soft\",\n",
    "    examples=[\"What is the weather like in SF?\", \"What is LangSmith?\"],\n",
    "    retry_btn=None,\n",
    "    undo_btn=\"Delete Previous\",\n",
    "    clear_btn=\"Clear\",).launch(share=True)"
   ],
   "metadata": {
    "colab": {
     "base_uri": "https://localhost:8080/",
     "height": 625
    },
    "id": "Asd25PEQ2ynB",
    "outputId": "e8d4ee4a-e150-436a-fc80-e4a69d5c485b"
   },
   "execution_count": 23,
   "outputs": [
    {
     "output_type": "stream",
     "name": "stdout",
     "text": [
      "Colab notebook detected. To show errors in colab notebook, set debug=True in launch()\n",
      "IMPORTANT: You are using gradio version 3.38.0, however version 4.44.1 is available, please upgrade.\n",
      "--------\n",
      "Running on public URL: https://d7e6013043cff63960.gradio.live\n",
      "\n",
      "This share link expires in 72 hours. For free permanent hosting and GPU upgrades, run `gradio deploy` from Terminal to deploy to Spaces (https://huggingface.co/spaces)\n"
     ]
    },
    {
     "output_type": "display_data",
     "data": {
      "text/plain": [
       "<IPython.core.display.HTML object>"
      ],
      "text/html": [
       "<div><iframe src=\"https://d7e6013043cff63960.gradio.live\" width=\"100%\" height=\"500\" allow=\"autoplay; camera; microphone; clipboard-read; clipboard-write;\" frameborder=\"0\" allowfullscreen></iframe></div>"
      ]
     },
     "metadata": {}
    },
    {
     "output_type": "execute_result",
     "data": {
      "text/plain": []
     },
     "metadata": {},
     "execution_count": 23
    }
   ]
  },
  {
   "cell_type": "markdown",
   "source": [
    "# More on Tools"
   ],
   "metadata": {
    "id": "LWHlS_nBulYy"
   }
  },
  {
   "cell_type": "code",
   "source": [
    "from langchain_core.tools import tool"
   ],
   "metadata": {
    "id": "jbMmg2sXu4sD"
   },
   "execution_count": 24,
   "outputs": []
  },
  {
   "cell_type": "code",
   "source": [
    "## Add two more tools that perform addition and exponentiation\n",
    "@tool\n",
    "def multiply(first_int: int, second_int: int) -> int:\n",
    "    \"\"\"Multiply two integers together.\"\"\"\n",
    "    return first_int * second_int\n",
    "\n",
    "@tool\n",
    "def add(first_int: int, second_int: int) -> int:\n",
    "    \"Add two integers.\"\n",
    "    return first_int + second_int\n",
    "\n",
    "\n",
    "@tool\n",
    "def exponentiate(base: int, exponent: int) -> int:\n",
    "    \"Exponentiate the base to the exponent power.\"\n",
    "    return base**exponent"
   ],
   "metadata": {
    "id": "t48zcvLLunFf"
   },
   "execution_count": 25,
   "outputs": []
  },
  {
   "cell_type": "code",
   "source": [
    "print(multiply.name)\n",
    "print(multiply.description)\n",
    "print(multiply.args)"
   ],
   "metadata": {
    "colab": {
     "base_uri": "https://localhost:8080/"
    },
    "id": "aHwBy7wsu8BR",
    "outputId": "e0d861e9-d75e-44b3-a0a4-f751e0ae2795"
   },
   "execution_count": 26,
   "outputs": [
    {
     "output_type": "stream",
     "name": "stdout",
     "text": [
      "multiply\n",
      "Multiply two integers together.\n",
      "{'first_int': {'title': 'First Int', 'type': 'integer'}, 'second_int': {'title': 'Second Int', 'type': 'integer'}}\n"
     ]
    }
   ]
  },
  {
   "cell_type": "code",
   "source": [
    "multiply.invoke({\"first_int\": 4, \"second_int\": 5})"
   ],
   "metadata": {
    "colab": {
     "base_uri": "https://localhost:8080/"
    },
    "id": "XkIFybgLvC1Q",
    "outputId": "b67beeec-0a35-4879-ec62-a6e0505b0a89"
   },
   "execution_count": 27,
   "outputs": [
    {
     "output_type": "execute_result",
     "data": {
      "text/plain": [
       "20"
      ]
     },
     "metadata": {},
     "execution_count": 27
    }
   ]
  },
  {
   "cell_type": "code",
   "source": [
    "from langchain.tools.render import render_text_description\n",
    "\n",
    "rendered_tools = render_text_description([multiply])\n",
    "print(rendered_tools)"
   ],
   "metadata": {
    "colab": {
     "base_uri": "https://localhost:8080/"
    },
    "id": "_yZNRj3lvGRv",
    "outputId": "8e1dbfba-7b8d-4ae3-d8a1-0eeb8861b09a"
   },
   "execution_count": 28,
   "outputs": [
    {
     "output_type": "stream",
     "name": "stdout",
     "text": [
      "multiply(first_int: int, second_int: int) -> int - Multiply two integers together.\n"
     ]
    }
   ]
  }
 ]
}
