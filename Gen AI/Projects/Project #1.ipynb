{
 "cells": [
  {
   "metadata": {},
   "cell_type": "markdown",
   "source": [
    "**Installing and Importing Required Libraries**\n",
    "- Most Modern GenAI prototyping uses:\n",
    "- Langchain (Foundation for LLM Applications, RAG Pipeline, Chaining)\n",
    "- Openai or transformers (LLMs and Embedding)\n",
    "- faiss or chromadb (Vector Storage)"
   ],
   "id": "16f02ad0910c5ca3"
  },
  {
   "metadata": {
    "ExecuteTime": {
     "end_time": "2025-10-17T01:32:03.933017Z",
     "start_time": "2025-10-17T01:31:41.813556Z"
    }
   },
   "cell_type": "code",
   "source": [
    "%pip install --upgrade --quiet  langchain langchain-community langchainhub langchain-chroma bs4\n",
    "%pip install -qU langchain-openai\n",
    "!pip install gradio_client==0.2.10\n",
    "!pip install gradio==3.38.0"
   ],
   "id": "2e004f38e44d2b64",
   "outputs": [
    {
     "name": "stdout",
     "output_type": "stream",
     "text": [
      "Note: you may need to restart the kernel to use updated packages.\n"
     ]
    },
    {
     "name": "stderr",
     "output_type": "stream",
     "text": [
      "\n",
      "[notice] A new release of pip is available: 25.1.1 -> 25.2\n",
      "[notice] To update, run: python.exe -m pip install --upgrade pip\n"
     ]
    },
    {
     "name": "stdout",
     "output_type": "stream",
     "text": [
      "Note: you may need to restart the kernel to use updated packages.\n"
     ]
    },
    {
     "name": "stderr",
     "output_type": "stream",
     "text": [
      "\n",
      "[notice] A new release of pip is available: 25.1.1 -> 25.2\n",
      "[notice] To update, run: python.exe -m pip install --upgrade pip\n"
     ]
    },
    {
     "name": "stdout",
     "output_type": "stream",
     "text": [
      "Requirement already satisfied: gradio_client==0.2.10 in c:\\users\\balle\\pycharmprojects\\python-learning-journey-documentation\\.venv\\lib\\site-packages (0.2.10)\n",
      "Requirement already satisfied: fsspec in c:\\users\\balle\\pycharmprojects\\python-learning-journey-documentation\\.venv\\lib\\site-packages (from gradio_client==0.2.10) (2025.9.0)\n",
      "Requirement already satisfied: httpx in c:\\users\\balle\\pycharmprojects\\python-learning-journey-documentation\\.venv\\lib\\site-packages (from gradio_client==0.2.10) (0.28.1)\n",
      "Requirement already satisfied: huggingface-hub>=0.13.0 in c:\\users\\balle\\pycharmprojects\\python-learning-journey-documentation\\.venv\\lib\\site-packages (from gradio_client==0.2.10) (0.35.3)\n",
      "Requirement already satisfied: packaging in c:\\users\\balle\\pycharmprojects\\python-learning-journey-documentation\\.venv\\lib\\site-packages (from gradio_client==0.2.10) (24.2)\n",
      "Requirement already satisfied: requests~=2.0 in c:\\users\\balle\\pycharmprojects\\python-learning-journey-documentation\\.venv\\lib\\site-packages (from gradio_client==0.2.10) (2.32.5)\n",
      "Requirement already satisfied: typing-extensions~=4.0 in c:\\users\\balle\\pycharmprojects\\python-learning-journey-documentation\\.venv\\lib\\site-packages (from gradio_client==0.2.10) (4.14.1)\n",
      "Requirement already satisfied: websockets<12.0,>=10.0 in c:\\users\\balle\\pycharmprojects\\python-learning-journey-documentation\\.venv\\lib\\site-packages (from gradio_client==0.2.10) (11.0.3)\n",
      "Requirement already satisfied: charset_normalizer<4,>=2 in c:\\users\\balle\\pycharmprojects\\python-learning-journey-documentation\\.venv\\lib\\site-packages (from requests~=2.0->gradio_client==0.2.10) (3.4.3)\n",
      "Requirement already satisfied: idna<4,>=2.5 in c:\\users\\balle\\pycharmprojects\\python-learning-journey-documentation\\.venv\\lib\\site-packages (from requests~=2.0->gradio_client==0.2.10) (3.10)\n",
      "Requirement already satisfied: urllib3<3,>=1.21.1 in c:\\users\\balle\\pycharmprojects\\python-learning-journey-documentation\\.venv\\lib\\site-packages (from requests~=2.0->gradio_client==0.2.10) (2.3.0)\n",
      "Requirement already satisfied: certifi>=2017.4.17 in c:\\users\\balle\\pycharmprojects\\python-learning-journey-documentation\\.venv\\lib\\site-packages (from requests~=2.0->gradio_client==0.2.10) (2025.8.3)\n",
      "Requirement already satisfied: filelock in c:\\users\\balle\\pycharmprojects\\python-learning-journey-documentation\\.venv\\lib\\site-packages (from huggingface-hub>=0.13.0->gradio_client==0.2.10) (3.20.0)\n",
      "Requirement already satisfied: pyyaml>=5.1 in c:\\users\\balle\\pycharmprojects\\python-learning-journey-documentation\\.venv\\lib\\site-packages (from huggingface-hub>=0.13.0->gradio_client==0.2.10) (6.0.2)\n",
      "Requirement already satisfied: tqdm>=4.42.1 in c:\\users\\balle\\pycharmprojects\\python-learning-journey-documentation\\.venv\\lib\\site-packages (from huggingface-hub>=0.13.0->gradio_client==0.2.10) (4.67.1)\n",
      "Requirement already satisfied: colorama in c:\\users\\balle\\pycharmprojects\\python-learning-journey-documentation\\.venv\\lib\\site-packages (from tqdm>=4.42.1->huggingface-hub>=0.13.0->gradio_client==0.2.10) (0.4.6)\n",
      "Requirement already satisfied: anyio in c:\\users\\balle\\pycharmprojects\\python-learning-journey-documentation\\.venv\\lib\\site-packages (from httpx->gradio_client==0.2.10) (4.10.0)\n",
      "Requirement already satisfied: httpcore==1.* in c:\\users\\balle\\pycharmprojects\\python-learning-journey-documentation\\.venv\\lib\\site-packages (from httpx->gradio_client==0.2.10) (1.0.9)\n",
      "Requirement already satisfied: h11>=0.16 in c:\\users\\balle\\pycharmprojects\\python-learning-journey-documentation\\.venv\\lib\\site-packages (from httpcore==1.*->httpx->gradio_client==0.2.10) (0.16.0)\n",
      "Requirement already satisfied: sniffio>=1.1 in c:\\users\\balle\\pycharmprojects\\python-learning-journey-documentation\\.venv\\lib\\site-packages (from anyio->httpx->gradio_client==0.2.10) (1.3.1)\n"
     ]
    },
    {
     "name": "stderr",
     "output_type": "stream",
     "text": [
      "\n",
      "[notice] A new release of pip is available: 25.1.1 -> 25.2\n",
      "[notice] To update, run: python.exe -m pip install --upgrade pip\n"
     ]
    },
    {
     "name": "stdout",
     "output_type": "stream",
     "text": [
      "Collecting gradio==3.38.0\n",
      "  Using cached gradio-3.38.0-py3-none-any.whl.metadata (17 kB)\n",
      "Collecting aiofiles<24.0,>=22.0 (from gradio==3.38.0)\n",
      "  Using cached aiofiles-23.2.1-py3-none-any.whl.metadata (9.7 kB)\n",
      "Requirement already satisfied: aiohttp~=3.0 in c:\\users\\balle\\pycharmprojects\\python-learning-journey-documentation\\.venv\\lib\\site-packages (from gradio==3.38.0) (3.13.0)\n",
      "Collecting altair<6.0,>=4.2.0 (from gradio==3.38.0)\n",
      "  Using cached altair-5.5.0-py3-none-any.whl.metadata (11 kB)\n",
      "Collecting fastapi (from gradio==3.38.0)\n",
      "  Using cached fastapi-0.119.0-py3-none-any.whl.metadata (28 kB)\n",
      "Collecting ffmpy (from gradio==3.38.0)\n",
      "  Using cached ffmpy-0.6.3-py3-none-any.whl.metadata (2.9 kB)\n",
      "Requirement already satisfied: gradio-client>=0.2.10 in c:\\users\\balle\\pycharmprojects\\python-learning-journey-documentation\\.venv\\lib\\site-packages (from gradio==3.38.0) (0.2.10)\n",
      "Requirement already satisfied: httpx in c:\\users\\balle\\pycharmprojects\\python-learning-journey-documentation\\.venv\\lib\\site-packages (from gradio==3.38.0) (0.28.1)\n",
      "Requirement already satisfied: huggingface-hub>=0.14.0 in c:\\users\\balle\\pycharmprojects\\python-learning-journey-documentation\\.venv\\lib\\site-packages (from gradio==3.38.0) (0.35.3)\n",
      "Requirement already satisfied: jinja2<4.0 in c:\\users\\balle\\pycharmprojects\\python-learning-journey-documentation\\.venv\\lib\\site-packages (from gradio==3.38.0) (3.1.6)\n",
      "Requirement already satisfied: markdown-it-py>=2.0.0 in c:\\users\\balle\\pycharmprojects\\python-learning-journey-documentation\\.venv\\lib\\site-packages (from markdown-it-py[linkify]>=2.0.0->gradio==3.38.0) (4.0.0)\n",
      "Collecting markupsafe~=2.0 (from gradio==3.38.0)\n",
      "  Using cached MarkupSafe-2.1.5.tar.gz (19 kB)\n",
      "  Installing build dependencies: started\n",
      "  Installing build dependencies: finished with status 'done'\n",
      "  Getting requirements to build wheel: started\n",
      "  Getting requirements to build wheel: finished with status 'done'\n",
      "  Preparing metadata (pyproject.toml): started\n",
      "  Preparing metadata (pyproject.toml): finished with status 'done'\n",
      "Requirement already satisfied: matplotlib~=3.0 in c:\\users\\balle\\pycharmprojects\\python-learning-journey-documentation\\.venv\\lib\\site-packages (from gradio==3.38.0) (3.10.5)\n",
      "Collecting mdit-py-plugins<=0.3.3 (from gradio==3.38.0)\n",
      "  Using cached mdit_py_plugins-0.3.3-py3-none-any.whl.metadata (2.8 kB)\n",
      "Collecting numpy~=1.0 (from gradio==3.38.0)\n",
      "  Using cached numpy-1.26.4.tar.gz (15.8 MB)\n",
      "  Installing build dependencies: started\n",
      "  Installing build dependencies: finished with status 'done'\n",
      "  Getting requirements to build wheel: started\n",
      "  Getting requirements to build wheel: finished with status 'done'\n",
      "  Installing backend dependencies: started\n",
      "  Installing backend dependencies: finished with status 'done'\n",
      "  Preparing metadata (pyproject.toml): started\n",
      "  Preparing metadata (pyproject.toml): finished with status 'error'\n"
     ]
    },
    {
     "name": "stderr",
     "output_type": "stream",
     "text": [
      "  error: subprocess-exited-with-error\n",
      "  \n",
      "  × Preparing metadata (pyproject.toml) did not run successfully.\n",
      "  │ exit code: 1\n",
      "  ╰─> [21 lines of output]\n",
      "      + C:\\Users\\Balle\\PycharmProjects\\Python-Learning-Journey-Documentation\\.venv\\Scripts\\python.exe C:\\Users\\Balle\\AppData\\Local\\Temp\\pip-install-d1gquj30\\numpy_8c2c0e4e210d4f5697b8c740b1462bc7\\vendored-meson\\meson\\meson.py setup C:\\Users\\Balle\\AppData\\Local\\Temp\\pip-install-d1gquj30\\numpy_8c2c0e4e210d4f5697b8c740b1462bc7 C:\\Users\\Balle\\AppData\\Local\\Temp\\pip-install-d1gquj30\\numpy_8c2c0e4e210d4f5697b8c740b1462bc7\\.mesonpy-2fdy73vi -Dbuildtype=release -Db_ndebug=if-release -Db_vscrt=md --native-file=C:\\Users\\Balle\\AppData\\Local\\Temp\\pip-install-d1gquj30\\numpy_8c2c0e4e210d4f5697b8c740b1462bc7\\.mesonpy-2fdy73vi\\meson-python-native-file.ini\n",
      "      The Meson build system\n",
      "      Version: 1.2.99\n",
      "      Source dir: C:\\Users\\Balle\\AppData\\Local\\Temp\\pip-install-d1gquj30\\numpy_8c2c0e4e210d4f5697b8c740b1462bc7\n",
      "      Build dir: C:\\Users\\Balle\\AppData\\Local\\Temp\\pip-install-d1gquj30\\numpy_8c2c0e4e210d4f5697b8c740b1462bc7\\.mesonpy-2fdy73vi\n",
      "      Build type: native build\n",
      "      Project name: NumPy\n",
      "      Project version: 1.26.4\n",
      "      WARNING: Failed to activate VS environment: Could not find C:\\Program Files (x86)\\Microsoft Visual Studio\\Installer\\vswhere.exe\n",
      "      \n",
      "      ..\\meson.build:1:0: ERROR: Unknown compiler(s): [['icl'], ['cl'], ['cc'], ['gcc'], ['clang'], ['clang-cl'], ['pgcc']]\n",
      "      The following exception(s) were encountered:\n",
      "      Running `icl \"\"` gave \"[WinError 2] El sistema no puede encontrar el archivo especificado\"\n",
      "      Running `cl /?` gave \"[WinError 2] El sistema no puede encontrar el archivo especificado\"\n",
      "      Running `cc --version` gave \"[WinError 2] El sistema no puede encontrar el archivo especificado\"\n",
      "      Running `gcc --version` gave \"[WinError 2] El sistema no puede encontrar el archivo especificado\"\n",
      "      Running `clang --version` gave \"[WinError 2] El sistema no puede encontrar el archivo especificado\"\n",
      "      Running `clang-cl /?` gave \"[WinError 2] El sistema no puede encontrar el archivo especificado\"\n",
      "      Running `pgcc --version` gave \"[WinError 2] El sistema no puede encontrar el archivo especificado\"\n",
      "      \n",
      "      A full log can be found at C:\\Users\\Balle\\AppData\\Local\\Temp\\pip-install-d1gquj30\\numpy_8c2c0e4e210d4f5697b8c740b1462bc7\\.mesonpy-2fdy73vi\\meson-logs\\meson-log.txt\n",
      "      [end of output]\n",
      "  \n",
      "  note: This error originates from a subprocess, and is likely not a problem with pip.\n",
      "\n",
      "[notice] A new release of pip is available: 25.1.1 -> 25.2\n",
      "[notice] To update, run: python.exe -m pip install --upgrade pip\n",
      "error: metadata-generation-failed\n",
      "\n",
      "× Encountered error while generating package metadata.\n",
      "╰─> See above for output.\n",
      "\n",
      "note: This is an issue with the package mentioned above, not pip.\n",
      "hint: See above for details.\n"
     ]
    }
   ],
   "execution_count": 1
  }
 ],
 "metadata": {
  "kernelspec": {
   "display_name": "Python 3",
   "language": "python",
   "name": "python3"
  },
  "language_info": {
   "codemirror_mode": {
    "name": "ipython",
    "version": 2
   },
   "file_extension": ".py",
   "mimetype": "text/x-python",
   "name": "python",
   "nbconvert_exporter": "python",
   "pygments_lexer": "ipython2",
   "version": "2.7.6"
  }
 },
 "nbformat": 4,
 "nbformat_minor": 5
}
