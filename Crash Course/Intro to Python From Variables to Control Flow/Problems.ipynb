{
 "cells": [
  {
   "metadata": {},
   "cell_type": "markdown",
   "source": [
    "**Find Compound Interest**\n",
    "\n",
    "Write a program that computes compound interest using the formula\n",
    "\n",
    "Amount = Principal(1 + Rate/100)Time\n",
    "\n",
    "Compound_Interest = Amount - Principal\n",
    "\n",
    "Where:\n",
    "\n",
    "*     ( Principal ) represents the principal amount.\n",
    "*     ( Rate ) denotes the interest rate (in decimal).\n",
    "*     ( Time ) signifies the overall time duration."
   ],
   "id": "f8d1a4a7ac55f45f"
  },
  {
   "metadata": {},
   "cell_type": "code",
   "outputs": [],
   "execution_count": null,
   "source": [
    "def compound_interest(principal, rate, time):\n",
    "    \"\"\"\n",
    "    Args:\n",
    "     principal(float)\n",
    "     rate(float)\n",
    "     time(int32)\n",
    "    Returns:\n",
    "     float\n",
    "    \"\"\"\n",
    "    # Write your code here.\n",
    "def compound_interest(principal, rate, time):\n",
    "    ci = 0.0\n",
    "    if (0 < principal) and (principal < 1000000) and (0 < rate < 1):\n",
    "        amount = float(principal * (1 + rate / 100) ** time)\n",
    "        ci = round(float(amount - principal),2)\n",
    "    return float(ci)\n"
   ],
   "id": "fdf4309a0f3b009"
  },
  {
   "metadata": {},
   "cell_type": "markdown",
   "source": [
    "**Calculate Area And Perimeter Of A Rectangle**\n",
    "\n",
    "* Complete the function that takes the length and width of a rectangle as input and returns the area and perimeter.\n",
    "* The output should be in the form of a string containing the area and perimeter values seperated by single space."
   ],
   "id": "109d0d5ccafc71ed"
  },
  {
   "metadata": {},
   "cell_type": "code",
   "outputs": [],
   "execution_count": null,
   "source": [
    "def calculate_area_and_perimeter(len, width):\n",
    "    \"\"\"\n",
    "    Args:\n",
    "     len(int32)\n",
    "     width(int32)\n",
    "    Returns:\n",
    "     str\n",
    "    \"\"\"\n",
    "    # Write your code here.\n",
    "    area = len * width\n",
    "    width = (2 * len) + (2 * width)\n",
    "    area_string = str(area)\n",
    "    width_string = str(width)\n",
    "    return '{} {}'.format(area_string,width_string)"
   ],
   "id": "e6bac1ffe267c5c2"
  },
  {
   "metadata": {},
   "cell_type": "markdown",
   "source": [
    "**Determine If A Number Is Even Or Odd**\n",
    "\n",
    "* Complete the function that takes an integer n as input and returns \"EVEN\" if it's even, and \"ODD\" otherwise."
   ],
   "id": "ad8cc01379cb26b8"
  },
  {
   "metadata": {},
   "cell_type": "code",
   "outputs": [],
   "execution_count": null,
   "source": [
    "def check_even_or_odd(n):\n",
    "    \"\"\"\n",
    "    Args:\n",
    "     n(int32)\n",
    "    Returns:\n",
    "     str\n",
    "    \"\"\"\n",
    "    # Write your code here.\n",
    "    output = str(\"EVEN\")\n",
    "    if n % 2 == 0:\n",
    "        output = str(\"EVEN\")\n",
    "    else:\n",
    "        output = str(\"ODD\")\n",
    "    return '{}'.format(output)"
   ],
   "id": "9e6674b8f8558fd5"
  },
  {
   "metadata": {},
   "cell_type": "markdown",
   "source": [
    "**Find The Maximum Among Three Numbers**\n",
    "\n",
    "* Write a function that takes three numbers as input and returns the largest among them. The goal is to determine the maximum value among the given integers."
   ],
   "id": "8787720250ab78c1"
  },
  {
   "metadata": {},
   "cell_type": "code",
   "outputs": [],
   "execution_count": null,
   "source": [
    "def find_maximum_of_three(num1, num2, num3):\n",
    "    \"\"\"\n",
    "    Args:\n",
    "     num1(int32)\n",
    "     num2(int32)\n",
    "     num3(int32)\n",
    "    Returns:\n",
    "     int32\n",
    "    \"\"\"\n",
    "    # Write your code here.\n",
    "    output = 0\n",
    "\n",
    "    if num1 > num2 and num1 > num3:\n",
    "        output = num1\n",
    "    elif num2 > num3 and num2 > num1:\n",
    "        output = num2\n",
    "    else:\n",
    "        output = num3\n",
    "\n",
    "    return output"
   ],
   "id": "1226e7d39892d953"
  },
  {
   "metadata": {},
   "cell_type": "markdown",
   "source": [
    "**Sum Of First N Natural Numbers**\n",
    "\n",
    "* Complete the function sum_of_natural_numbers(n) that takes a positive integer n as input and returns the sum of the first n natural numbers."
   ],
   "id": "98f72e6372a47148"
  },
  {
   "metadata": {},
   "cell_type": "code",
   "outputs": [],
   "execution_count": null,
   "source": [
    "def sum_of_natural_numbers(n):\n",
    "    \"\"\"\n",
    "    Args:\n",
    "     n(int32)\n",
    "    Returns:\n",
    "     int32\n",
    "    \"\"\"\n",
    "    # Write your code here.\n",
    "    result = 0\n",
    "    for i in range(1,n+1):\n",
    "        result += i\n",
    "    return result"
   ],
   "id": "27db03f5228e980b"
  },
  {
   "metadata": {},
   "cell_type": "markdown",
   "source": [
    "**Fahrenheit To Celsius**\n",
    "\n",
    "* Given a Temperature t in Fahrenheit(°F). Return the Temperature t after converting it from Fahrenheit(°F) to Celsius(°C) scale. Formula to convert Fahrenheit(°F) to Celsius(°C): T(°C) = (T(°F) - 32) × 5/9"
   ],
   "id": "cef30611562636ce"
  },
  {
   "metadata": {},
   "cell_type": "code",
   "outputs": [],
   "execution_count": null,
   "source": [
    "def fahrenheit_to_celsius(t):\n",
    "    \"\"\"\n",
    "    Args:\n",
    "     t(float)\n",
    "    Returns:\n",
    "     float\n",
    "    \"\"\"\n",
    "    # Write your code here.\n",
    "    T_C = (t - 32) * 5/9\n",
    "    return float(T_C)"
   ],
   "id": "cc8525a1a1e1abdc"
  },
  {
   "metadata": {},
   "cell_type": "markdown",
   "source": [
    "**Identify Leap Year**\n",
    "\n",
    "Complete the function that takes an integer year as input and returns a boolean value. The function should return True if the given year is a leap year, and False otherwise.\n",
    "\n",
    "A leap year has the following properties:\n",
    "\n",
    "*     If the year is divisible by 4, it is a leap year.\n",
    "*     However, if that year is divisible by 100, it is not a leap year, unless...\n",
    "*     The year is also divisible by 400, in which case it is a leap year."
   ],
   "id": "e8a5d61ac26dc0bc"
  },
  {
   "metadata": {},
   "cell_type": "code",
   "outputs": [],
   "execution_count": null,
   "source": [
    "def is_leap_year(year):\n",
    "    \"\"\"\n",
    "    Args:\n",
    "     year(int32)\n",
    "    Returns:\n",
    "     bool\n",
    "    \"\"\"\n",
    "    # Write your code here.\n",
    "    output = 0\n",
    "    if year % 4 == 0 or year % 400 == 0:\n",
    "        output = 69\n",
    "    else:\n",
    "        output = 0\n",
    "    return bool(output)"
   ],
   "id": "4a13f802fce5225e"
  },
  {
   "metadata": {},
   "cell_type": "markdown",
   "source": [
    "**Find Factorial Of A Number**\n",
    "\n",
    "* Complete the function that returns the factorial of a given non-negative integer n. The factorial of a number n is denoted by n!, is the product of all positive integers up to and including that number."
   ],
   "id": "c2ed8c8a6f4651ce"
  },
  {
   "metadata": {},
   "cell_type": "code",
   "outputs": [],
   "execution_count": null,
   "source": [
    "def calculate_factorial(n):\n",
    "    \"\"\"\n",
    "    Args:\n",
    "     n(int32)\n",
    "    Returns:\n",
    "     int32\n",
    "    \"\"\"\n",
    "    # Write your code here.\n",
    "    output = 1\n",
    "    for i in range(1,n+1):\n",
    "        output *= i\n",
    "    return output"
   ],
   "id": "a3bf88297aeb019a"
  },
  {
   "metadata": {},
   "cell_type": "markdown",
   "source": [
    "**Reverse A Number**\n",
    "\n",
    "* Complete the function that takes a number n and returns that number in reverse order."
   ],
   "id": "eb0f3827b45ce41"
  },
  {
   "metadata": {},
   "cell_type": "code",
   "outputs": [],
   "execution_count": null,
   "source": [
    "def reverse_number(n):\n",
    "    \"\"\"\n",
    "    Args:\n",
    "     n(int32)\n",
    "    Returns:\n",
    "     int32\n",
    "    \"\"\"\n",
    "    # Write your code here.\n",
    "    var = str(n)\n",
    "    output = str()\n",
    "    if n < 0:\n",
    "        for i in range(len(var) - 1, 0, -1):\n",
    "            output += str(var[i])\n",
    "        return (int(output)* -1)\n",
    "    else:\n",
    "        for i in range(len(var)-1, -1, -1):\n",
    "            output += str(var[i])\n",
    "        return int(output)"
   ],
   "id": "457610d4e4bf6c6e"
  }
 ],
 "metadata": {
  "kernelspec": {
   "display_name": "Python 3",
   "language": "python",
   "name": "python3"
  },
  "language_info": {
   "codemirror_mode": {
    "name": "ipython",
    "version": 2
   },
   "file_extension": ".py",
   "mimetype": "text/x-python",
   "name": "python",
   "nbconvert_exporter": "python",
   "pygments_lexer": "ipython2",
   "version": "2.7.6"
  }
 },
 "nbformat": 4,
 "nbformat_minor": 5
}
