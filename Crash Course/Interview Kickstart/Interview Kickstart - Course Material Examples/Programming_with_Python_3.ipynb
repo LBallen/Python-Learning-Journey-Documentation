{
  "nbformat": 4,
  "nbformat_minor": 0,
  "metadata": {
    "colab": {
      "provenance": []
    },
    "kernelspec": {
      "name": "python3",
      "display_name": "Python 3"
    },
    "language_info": {
      "name": "python"
    }
  },
  "cells": [
    {
      "cell_type": "markdown",
      "source": [
        "# Sets in Python"
      ],
      "metadata": {
        "id": "TEc_UuLOrVzc"
      }
    },
    {
      "cell_type": "markdown",
      "source": [
        "## Creating a Set"
      ],
      "metadata": {
        "id": "JRib4vLJluA2"
      }
    },
    {
      "cell_type": "code",
      "source": [
        "# Using Curly Braces {}\n",
        "my_set = {1, 2, 3, 4, 5}\n",
        "\n",
        "\n",
        "# Using the set() Constructor:\n",
        "my_set = set([1, 2, 3, 4, 5])"
      ],
      "metadata": {
        "id": "cenEqXAVly2-"
      },
      "execution_count": null,
      "outputs": []
    },
    {
      "cell_type": "markdown",
      "source": [
        "## Set Methods"
      ],
      "metadata": {
        "id": "-hxjs03CmLX_"
      }
    },
    {
      "cell_type": "markdown",
      "source": [
        "### add()\n",
        "Adds a single element to the set."
      ],
      "metadata": {
        "id": "FQqXBF6PmOoF"
      }
    },
    {
      "cell_type": "code",
      "source": [
        "my_set.add(6)"
      ],
      "metadata": {
        "id": "DYGM7bA0mM5Z"
      },
      "execution_count": null,
      "outputs": []
    },
    {
      "cell_type": "markdown",
      "source": [
        "### update()\n",
        "Add multiple elements to the set."
      ],
      "metadata": {
        "id": "sWYBPb0CmcXQ"
      }
    },
    {
      "cell_type": "code",
      "source": [
        "my_set.update([7, 8, 9])"
      ],
      "metadata": {
        "id": "bBQYm56YmwYv"
      },
      "execution_count": null,
      "outputs": []
    },
    {
      "cell_type": "markdown",
      "source": [
        "### remove()\n",
        "Removes a specified element from the set. Raises a KeyError if the element is not found."
      ],
      "metadata": {
        "id": "Gp3OElmDmc7w"
      }
    },
    {
      "cell_type": "code",
      "source": [
        "my_set.remove(5)"
      ],
      "metadata": {
        "id": "sJ4FXDjinF51"
      },
      "execution_count": null,
      "outputs": []
    },
    {
      "cell_type": "markdown",
      "source": [
        "### discard()\n",
        "Removes a specified element from the set if it is present."
      ],
      "metadata": {
        "id": "jfT1892LmdA0"
      }
    },
    {
      "cell_type": "code",
      "source": [
        "my_set.discard(5)"
      ],
      "metadata": {
        "id": "oHeYNrTtnSV9"
      },
      "execution_count": null,
      "outputs": []
    },
    {
      "cell_type": "markdown",
      "source": [
        "### pop()\n",
        "Removes and returns an arbitrary element from the set."
      ],
      "metadata": {
        "id": "LhYdpPaimdFM"
      }
    },
    {
      "cell_type": "code",
      "source": [
        "popped_element = my_set.pop()"
      ],
      "metadata": {
        "id": "Y4ywy8GdnZFL"
      },
      "execution_count": null,
      "outputs": []
    },
    {
      "cell_type": "markdown",
      "source": [],
      "metadata": {
        "id": "23ejvLMCnYRA"
      }
    },
    {
      "cell_type": "markdown",
      "source": [
        "### clear()\n",
        "Removes all the elements from the set."
      ],
      "metadata": {
        "id": "SGiBdAcbneNG"
      }
    },
    {
      "cell_type": "code",
      "source": [
        "my_set.clear()"
      ],
      "metadata": {
        "id": "S0CS9cUMneNH"
      },
      "execution_count": null,
      "outputs": []
    },
    {
      "cell_type": "markdown",
      "source": [
        "### copy()\n",
        "Returns a shallow copy of the set."
      ],
      "metadata": {
        "id": "MIVWgRDennQ4"
      }
    },
    {
      "cell_type": "code",
      "source": [
        "new_set = my_set.copy()"
      ],
      "metadata": {
        "id": "IqMB4tM6nnQ4"
      },
      "execution_count": null,
      "outputs": []
    },
    {
      "cell_type": "markdown",
      "source": [
        "### union()\n",
        "Returns a new set containing all the distinct elements from both sets."
      ],
      "metadata": {
        "id": "jo5AeyMwnvfT"
      }
    },
    {
      "cell_type": "code",
      "source": [
        "other_set = {3, 4, 5}\n",
        "union_set = my_set.union(other_set)\n"
      ],
      "metadata": {
        "id": "0FFHXvbxnvfU"
      },
      "execution_count": null,
      "outputs": []
    },
    {
      "cell_type": "markdown",
      "source": [
        "### intersection()\n",
        "Returns a new set containing elements that are present in both sets."
      ],
      "metadata": {
        "id": "bo__Vym1nvpJ"
      }
    },
    {
      "cell_type": "code",
      "source": [
        "intersection_set = my_set.intersection(other_set)"
      ],
      "metadata": {
        "id": "bpHBu-L7nvpJ"
      },
      "execution_count": null,
      "outputs": []
    },
    {
      "cell_type": "markdown",
      "source": [
        "### difference()\n",
        "Returns a new set containing elements that are present in the first set but not in the second set."
      ],
      "metadata": {
        "id": "3Gln-tHVnvyu"
      }
    },
    {
      "cell_type": "code",
      "source": [
        "difference_set = my_set.difference(other_set)"
      ],
      "metadata": {
        "id": "vVFg_nfXnvyu"
      },
      "execution_count": null,
      "outputs": []
    },
    {
      "cell_type": "markdown",
      "source": [
        "## Membership Testing in Set"
      ],
      "metadata": {
        "id": "PgySIrcRoQHg"
      }
    },
    {
      "cell_type": "code",
      "source": [
        "# Define a set\n",
        "my_set = {1, 2, 3, 4, 5}\n",
        "\n",
        "# Check if an element is present in the set\n",
        "print(3 in my_set)  # Output: True\n",
        "print(6 in my_set)  # Output: False\n",
        "\n",
        "# Using membership testing in conditional statements\n",
        "if 4 in my_set:\n",
        "    print(\"4 is present in the set\")\n",
        "else:\n",
        "    print(\"4 is not present in the set\")\n",
        "\n",
        "# Membership testing with strings\n",
        "word_set = {\"apple\", \"banana\", \"orange\"}\n",
        "print(\"apple\" in word_set)  # Output: True\n",
        "print(\"grape\" in word_set)  # Output: False\n",
        "\n",
        "# Using membership testing with loops\n",
        "for num in range(1, 6):\n",
        "    if num in my_set:\n",
        "        print(f\"{num} is present in the set\")\n",
        "    else:\n",
        "        print(f\"{num} is not present in the set\")\n"
      ],
      "metadata": {
        "colab": {
          "base_uri": "https://localhost:8080/"
        },
        "id": "gjyyLNIHoa99",
        "outputId": "e097a477-3d52-4b9c-f9f2-67cfa1436891"
      },
      "execution_count": null,
      "outputs": [
        {
          "output_type": "stream",
          "name": "stdout",
          "text": [
            "True\n",
            "False\n",
            "4 is present in the set\n",
            "True\n",
            "False\n",
            "1 is present in the set\n",
            "2 is present in the set\n",
            "3 is present in the set\n",
            "4 is present in the set\n",
            "5 is present in the set\n"
          ]
        }
      ]
    },
    {
      "cell_type": "code",
      "source": [
        "# Define sets\n",
        "set1 = {1, 2, 3, 4, 5}\n",
        "set2 = {4, 5, 6, 7, 8}\n",
        "\n",
        "# Check if all elements of one set are present in another\n",
        "print(set1.issubset(set2))  # Output: False\n",
        "print(set2.issubset(set1))  # Output: False\n",
        "\n",
        "# Check if at least one element of a set is present in another\n",
        "print(set1.isdisjoint(set2))  # Output: False\n",
        "\n",
        "# Check if a set is a superset of another\n",
        "print(set1.issuperset({1, 2}))  # Output: True\n",
        "\n",
        "# Membership testing with complex data types\n",
        "student_set = {\"John\", \"Alice\", \"Bob\", \"Eve\"}\n",
        "print(\"John\" in student_set)  # Output: True\n",
        "print(\"Mia\" in student_set)   # Output: False\n",
        "\n",
        "# Membership testing with tuples\n",
        "tuple_set = {(1, 2), (3, 4), (5, 6)}\n",
        "print((1, 2) in tuple_set)  # Output: True\n",
        "print((2, 3) in tuple_set)  # Output: False\n",
        "\n",
        "# Using membership testing with nested sets\n",
        "nested_set = {frozenset({1, 2}), frozenset({3, 4})}\n",
        "print(frozenset({1, 2}) in nested_set)  # Output: True\n",
        "print(frozenset({5, 6}) in nested_set)  # Output: False\n"
      ],
      "metadata": {
        "colab": {
          "base_uri": "https://localhost:8080/"
        },
        "id": "gKAKaV5sok-r",
        "outputId": "e216de0e-52a4-42b2-e9bd-901d527d8003"
      },
      "execution_count": null,
      "outputs": [
        {
          "output_type": "stream",
          "name": "stdout",
          "text": [
            "False\n",
            "False\n",
            "False\n",
            "True\n",
            "True\n",
            "False\n",
            "True\n",
            "False\n",
            "True\n",
            "False\n"
          ]
        }
      ]
    },
    {
      "cell_type": "markdown",
      "source": [
        "## Iterating over a Set"
      ],
      "metadata": {
        "id": "4rinsoaEowNK"
      }
    },
    {
      "cell_type": "markdown",
      "source": [
        "### Using a for loop"
      ],
      "metadata": {
        "id": "y6XtViAno8Ve"
      }
    },
    {
      "cell_type": "code",
      "source": [
        "# Define a set\n",
        "my_set = {1, 2, 3, 4, 5}\n",
        "\n",
        "# Iterating over the set using a for loop\n",
        "for element in my_set:\n",
        "    print(element)\n"
      ],
      "metadata": {
        "colab": {
          "base_uri": "https://localhost:8080/"
        },
        "id": "57oCrdGto-rf",
        "outputId": "7dbcbfbd-3dd3-4e2e-8baf-81b9d1c657db"
      },
      "execution_count": null,
      "outputs": [
        {
          "output_type": "stream",
          "name": "stdout",
          "text": [
            "1\n",
            "2\n",
            "3\n",
            "4\n",
            "5\n"
          ]
        }
      ]
    },
    {
      "cell_type": "markdown",
      "source": [
        "### Using set Comprehension"
      ],
      "metadata": {
        "id": "ixcLIXt1pAt8"
      }
    },
    {
      "cell_type": "code",
      "source": [
        "# Define a set\n",
        "my_set = {1, 2, 3, 4, 5}\n",
        "\n",
        "# Using set comprehension to iterate over the set\n",
        "result = {x for x in my_set}\n",
        "print(result)\n"
      ],
      "metadata": {
        "colab": {
          "base_uri": "https://localhost:8080/"
        },
        "id": "vfNg1eWapEE0",
        "outputId": "d466878e-85c6-4145-a5bd-6916262e7c8a"
      },
      "execution_count": null,
      "outputs": [
        {
          "output_type": "stream",
          "name": "stdout",
          "text": [
            "{1, 2, 3, 4, 5}\n"
          ]
        }
      ]
    },
    {
      "cell_type": "markdown",
      "source": [
        "### Using the `iter()` and `next()` Functions"
      ],
      "metadata": {
        "id": "Nskcoh6DpGE8"
      }
    },
    {
      "cell_type": "code",
      "source": [
        "# Define a set\n",
        "my_set = {1, 2, 3, 4, 5}\n",
        "\n",
        "# Creating an iterator object\n",
        "iterator = iter(my_set)\n",
        "\n",
        "# Iterating over the set using next() function\n",
        "try:\n",
        "    while True:\n",
        "        element = next(iterator)\n",
        "        print(element)\n",
        "except StopIteration:\n",
        "    pass\n"
      ],
      "metadata": {
        "colab": {
          "base_uri": "https://localhost:8080/"
        },
        "id": "hXPj52CupLcc",
        "outputId": "04f2711b-56fe-47d9-98a1-d6bcd350082f"
      },
      "execution_count": null,
      "outputs": [
        {
          "output_type": "stream",
          "name": "stdout",
          "text": [
            "1\n",
            "2\n",
            "3\n",
            "4\n",
            "5\n"
          ]
        }
      ]
    },
    {
      "cell_type": "markdown",
      "source": [
        "### Using the enumerate() Function"
      ],
      "metadata": {
        "id": "m9G-Fz60pNET"
      }
    },
    {
      "cell_type": "code",
      "source": [
        "# Define a set\n",
        "my_set = {1, 2, 3, 4, 5}\n",
        "\n",
        "# Using enumerate() to iterate over the set\n",
        "for index, element in enumerate(my_set):\n",
        "    print(f\"Index: {index}, Element: {element}\")\n"
      ],
      "metadata": {
        "colab": {
          "base_uri": "https://localhost:8080/"
        },
        "id": "tj3btblApPjf",
        "outputId": "da3cf450-b19d-45e5-fe27-b6a7827a68c5"
      },
      "execution_count": null,
      "outputs": [
        {
          "output_type": "stream",
          "name": "stdout",
          "text": [
            "Index: 0, Element: 1\n",
            "Index: 1, Element: 2\n",
            "Index: 2, Element: 3\n",
            "Index: 3, Element: 4\n",
            "Index: 4, Element: 5\n"
          ]
        }
      ]
    },
    {
      "cell_type": "markdown",
      "source": [
        "### Using a While loop"
      ],
      "metadata": {
        "id": "hr3ZFPYXpS1m"
      }
    },
    {
      "cell_type": "code",
      "source": [
        "# Define a set\n",
        "my_set = {1, 2, 3, 4, 5}\n",
        "\n",
        "# Iterating over the set using a while loop\n",
        "iterator = iter(my_set)\n",
        "while True:\n",
        "    try:\n",
        "        element = next(iterator)\n",
        "        print(element)\n",
        "    except StopIteration:\n",
        "        break\n"
      ],
      "metadata": {
        "colab": {
          "base_uri": "https://localhost:8080/"
        },
        "id": "5clHrEG1pSea",
        "outputId": "563c4caf-15c5-4142-e547-4ea6979f63c2"
      },
      "execution_count": null,
      "outputs": [
        {
          "output_type": "stream",
          "name": "stdout",
          "text": [
            "1\n",
            "2\n",
            "3\n",
            "4\n",
            "5\n"
          ]
        }
      ]
    },
    {
      "cell_type": "markdown",
      "source": [
        "# Dictionaries in Python"
      ],
      "metadata": {
        "id": "Neww6vPep13A"
      }
    },
    {
      "cell_type": "markdown",
      "source": [
        "## Creating a Dictionary"
      ],
      "metadata": {
        "id": "x4QOoHBZqGkR"
      }
    },
    {
      "cell_type": "code",
      "source": [
        "# Creating a dictionary with key-value pairs\n",
        "my_dict = {'a': 1, 'b': 2, 'c': 3}\n",
        "\n",
        "\n",
        "# Creating a dictionary using the dict() constructor\n",
        "another_dict = dict([('x', 1), ('y', 2), ('z', 3)])"
      ],
      "metadata": {
        "id": "qgqQK8rfqLiM"
      },
      "execution_count": null,
      "outputs": []
    },
    {
      "cell_type": "markdown",
      "source": [
        "## Dictionary Membership Testing"
      ],
      "metadata": {
        "id": "U2Jjq68_qQpW"
      }
    },
    {
      "cell_type": "code",
      "source": [
        "# Check if a key is present in the dictionary\n",
        "print('a' in my_dict)\n",
        "print('d' in my_dict)\n"
      ],
      "metadata": {
        "colab": {
          "base_uri": "https://localhost:8080/"
        },
        "id": "rYLBu08AqTH8",
        "outputId": "622e4c67-740f-4e34-898b-9ac427593cce"
      },
      "execution_count": null,
      "outputs": [
        {
          "output_type": "stream",
          "name": "stdout",
          "text": [
            "True\n",
            "False\n"
          ]
        }
      ]
    },
    {
      "cell_type": "markdown",
      "source": [
        "## Dictionary Methods"
      ],
      "metadata": {
        "id": "LxYopKU9qZBR"
      }
    },
    {
      "cell_type": "markdown",
      "source": [
        "### get()"
      ],
      "metadata": {
        "id": "aWBM7kIdqeJ8"
      }
    },
    {
      "cell_type": "code",
      "source": [
        "# Retrieving value associated with a key\n",
        "print(my_dict.get('a'))  # Output: 1\n",
        "print(my_dict.get('d', 'Key not found'))  # Output: Key not found\n"
      ],
      "metadata": {
        "id": "RhpRE5TjqhfP"
      },
      "execution_count": null,
      "outputs": []
    },
    {
      "cell_type": "markdown",
      "source": [
        "### update()"
      ],
      "metadata": {
        "id": "dpKx2QYGqkhe"
      }
    },
    {
      "cell_type": "code",
      "source": [
        "# Adding or updating elements in the dictionary\n",
        "my_dict.update({'d': 4, 'e': 5})\n",
        "print(my_dict)  # Output: {'a': 1, 'b': 2, 'c': 3, 'd': 4, 'e': 5}\n"
      ],
      "metadata": {
        "id": "c7SHI81pqmND"
      },
      "execution_count": null,
      "outputs": []
    },
    {
      "cell_type": "markdown",
      "source": [
        "### pop()"
      ],
      "metadata": {
        "id": "VTfWFjU5qn-3"
      }
    },
    {
      "cell_type": "code",
      "source": [
        "# Removing and returning an element from the dictionary\n",
        "removed_value = my_dict.pop('a')\n",
        "print(removed_value)  # Output: 1\n",
        "print(my_dict)  # Output: {'b': 2, 'c': 3, 'd': 4, 'e': 5}\n"
      ],
      "metadata": {
        "id": "fVj_VIE1qq9e"
      },
      "execution_count": null,
      "outputs": []
    },
    {
      "cell_type": "markdown",
      "source": [
        "### clear()"
      ],
      "metadata": {
        "id": "DWrmqy17qrid"
      }
    },
    {
      "cell_type": "code",
      "source": [
        "# Clearing all elements from the dictionary\n",
        "my_dict.clear()\n",
        "print(my_dict)  # Output: {}\n"
      ],
      "metadata": {
        "id": "7R-6nmE7qtqY"
      },
      "execution_count": null,
      "outputs": []
    },
    {
      "cell_type": "code",
      "source": [
        "# Define a dictionary\n",
        "my_dict = {'a': 1, 'b': 2, 'c': 3}\n",
        "\n",
        "# Check membership\n",
        "print('b' in my_dict)  # Output: True\n",
        "\n",
        "# Iterate over items\n",
        "for key, value in my_dict.items():\n",
        "    print(key, \"->\", value)\n",
        "\n",
        "# Update dictionary\n",
        "my_dict.update({'d': 4})\n",
        "print(my_dict)  # Output: {'a': 1, 'b': 2, 'c': 3, 'd': 4}\n"
      ],
      "metadata": {
        "id": "1OF6toLzqwpy"
      },
      "execution_count": null,
      "outputs": []
    },
    {
      "cell_type": "markdown",
      "source": [
        "## Dictionary Iteration"
      ],
      "metadata": {
        "id": "24S18DRwq0py"
      }
    },
    {
      "cell_type": "markdown",
      "source": [
        "### Iterating Over Keys"
      ],
      "metadata": {
        "id": "5Ppg6bQ8q5XX"
      }
    },
    {
      "cell_type": "code",
      "source": [
        "# Iterating over keys\n",
        "for key in my_dict:\n",
        "    print(key, \"->\", my_dict[key])\n"
      ],
      "metadata": {
        "colab": {
          "base_uri": "https://localhost:8080/"
        },
        "id": "OoLlP03xq6-A",
        "outputId": "3d7510d8-4991-4e29-8431-242b09d97fe5"
      },
      "execution_count": null,
      "outputs": [
        {
          "output_type": "stream",
          "name": "stdout",
          "text": [
            "a -> 1\n",
            "b -> 2\n",
            "c -> 3\n"
          ]
        }
      ]
    },
    {
      "cell_type": "markdown",
      "source": [
        "### Iterating Over Items (Key-Value Pairs)"
      ],
      "metadata": {
        "id": "DXujhhC4q7jv"
      }
    },
    {
      "cell_type": "code",
      "source": [
        "# Iterating over items (key-value pairs)\n",
        "for key, value in my_dict.items():\n",
        "    print(key, \"->\", value)"
      ],
      "metadata": {
        "colab": {
          "base_uri": "https://localhost:8080/"
        },
        "id": "EhqvZCNBq-Y_",
        "outputId": "4448f95b-da27-4ce1-de8a-10d65b52acaf"
      },
      "execution_count": null,
      "outputs": [
        {
          "output_type": "stream",
          "name": "stdout",
          "text": [
            "a -> 1\n",
            "b -> 2\n",
            "c -> 3\n"
          ]
        }
      ]
    },
    {
      "cell_type": "markdown",
      "source": [
        "### Iterating Over Values"
      ],
      "metadata": {
        "id": "486fxHbvrCnz"
      }
    },
    {
      "cell_type": "code",
      "source": [
        "# Iterating over values\n",
        "for value in my_dict.values():\n",
        "    print(value)\n"
      ],
      "metadata": {
        "id": "7iPl3kYnrFsb"
      },
      "execution_count": null,
      "outputs": []
    },
    {
      "cell_type": "markdown",
      "source": [
        "## Nested Dictionary"
      ],
      "metadata": {
        "id": "yfGXUfmNrOwR"
      }
    },
    {
      "cell_type": "code",
      "source": [
        "# Creating a nested dictionary\n",
        "nested_dict = {\n",
        "    'person1': {'name': 'Alice', 'age': 30},\n",
        "    'person2': {'name': 'Bob', 'age': 25}\n",
        "}\n",
        "\n",
        "\n",
        "# Accessing values in a nested dictionary\n",
        "print(nested_dict['person1']['name'])  # Output: Alice\n",
        "print(nested_dict['person2']['age'])   # Output: 25\n",
        "\n",
        "\n",
        "# Modifying values in a nested dictionary\n",
        "nested_dict['person1']['age'] = 35\n",
        "print(nested_dict['person1'])  # Output: {'name': 'Alice', 'age': 35}\n",
        "\n",
        "\n",
        "# Adding elements to a nested dictionary\n",
        "nested_dict['person3'] = {'name': 'Charlie', 'age': 40}\n",
        "print(nested_dict['person3'])  # Output: {'name': 'Charlie', 'age': 40}\n",
        "\n",
        "\n",
        "# Iterating over a nested dictionary\n",
        "for person, details in nested_dict.items():\n",
        "    print(\"Person:\", person)\n",
        "    for key, value in details.items():\n",
        "        print(key + \":\", value)\n",
        "    print()\n",
        "\n",
        "\n",
        "# Nested dictionary with lists\n",
        "nested_dict_with_list = {\n",
        "    'person1': {'name': 'Alice', 'languages': ['Python', 'Java']},\n",
        "    'person2': {'name': 'Bob', 'languages': ['C++', 'JavaScript']}\n",
        "}\n",
        "\n",
        "# Accessing list elements in a nested dictionary\n",
        "print(nested_dict_with_list['person1']['languages'][0])  # Output: Python\n",
        "\n",
        "\n"
      ],
      "metadata": {
        "id": "zqlfJttnrSCZ"
      },
      "execution_count": null,
      "outputs": []
    },
    {
      "cell_type": "markdown",
      "source": [
        "# Lambda Functions"
      ],
      "metadata": {
        "id": "ZItRdEwZrgAZ"
      }
    },
    {
      "cell_type": "markdown",
      "source": [
        "## Syntax"
      ],
      "metadata": {
        "id": "5HOn1smVsYYe"
      }
    },
    {
      "cell_type": "code",
      "source": [
        "lambda arguments: expression"
      ],
      "metadata": {
        "id": "9qIeAcQHsZ8u"
      },
      "execution_count": null,
      "outputs": []
    },
    {
      "cell_type": "markdown",
      "source": [
        "## Simple Addition"
      ],
      "metadata": {
        "id": "W5A0QiRJscoW"
      }
    },
    {
      "cell_type": "code",
      "source": [
        "# Define a lambda function to add two numbers\n",
        "add = lambda x, y: x + y\n",
        "\n",
        "# Call the lambda function\n",
        "result = add(5, 3)\n",
        "print(result)  # Output: 8\n"
      ],
      "metadata": {
        "id": "L2NP0dXpskBT"
      },
      "execution_count": null,
      "outputs": []
    },
    {
      "cell_type": "markdown",
      "source": [
        "## Finding Square of a Number"
      ],
      "metadata": {
        "id": "6W8R1GuTslal"
      }
    },
    {
      "cell_type": "code",
      "source": [
        "# Define a lambda function to find the square of a number\n",
        "square = lambda x: x ** 2\n",
        "\n",
        "# Call the lambda function\n",
        "result = square(4)\n",
        "print(result)  # Output: 16\n"
      ],
      "metadata": {
        "id": "bR2EaTEMspVa"
      },
      "execution_count": null,
      "outputs": []
    },
    {
      "cell_type": "markdown",
      "source": [
        "## Sorting a List of Tuples"
      ],
      "metadata": {
        "id": "YFVn18jasq6b"
      }
    },
    {
      "cell_type": "code",
      "source": [
        "# Define a list of tuples\n",
        "pairs = [(1, 'one'), (3, 'three'), (2, 'two'), (4, 'four')]\n",
        "\n",
        "# Sort the list of tuples based on the first element using a lambda function\n",
        "pairs.sort(key=lambda x: x[0])\n",
        "\n",
        "print(pairs)  # Output: [(1, 'one'), (2, 'two'), (3, 'three'), (4, 'four')]\n"
      ],
      "metadata": {
        "id": "c-z1vhAzstRe"
      },
      "execution_count": null,
      "outputs": []
    },
    {
      "cell_type": "markdown",
      "source": [
        "## Filter Even Numbers from a List"
      ],
      "metadata": {
        "id": "3e6wXH06svTN"
      }
    },
    {
      "cell_type": "code",
      "source": [
        "# Define a list of numbers\n",
        "numbers = [1, 2, 3, 4, 5, 6, 7, 8, 9, 10]\n",
        "\n",
        "# Use a lambda function with filter() to filter even numbers\n",
        "even_numbers = list(filter(lambda x: x % 2 == 0, numbers))\n",
        "\n",
        "print(even_numbers)  # Output: [2, 4, 6, 8, 10]\n"
      ],
      "metadata": {
        "id": "ZcCoK6eTsxUJ"
      },
      "execution_count": null,
      "outputs": []
    },
    {
      "cell_type": "markdown",
      "source": [
        "## Mapping a List of Numbers"
      ],
      "metadata": {
        "id": "ER2Rx1p6syz4"
      }
    },
    {
      "cell_type": "code",
      "source": [
        "# Define a list of numbers\n",
        "numbers = [1, 2, 3, 4, 5]\n",
        "\n",
        "# Use a lambda function with map() to square each number in the list\n",
        "squared_numbers = list(map(lambda x: x ** 2, numbers))\n",
        "\n",
        "print(squared_numbers)  # Output: [1, 4, 9, 16, 25]\n"
      ],
      "metadata": {
        "id": "VkayfHses1VG"
      },
      "execution_count": null,
      "outputs": []
    },
    {
      "cell_type": "markdown",
      "source": [
        "# `map()` Function"
      ],
      "metadata": {
        "id": "VpWCwf0Es73U"
      }
    },
    {
      "cell_type": "markdown",
      "source": [
        "## Syntax"
      ],
      "metadata": {
        "id": "TrnFawVatFtE"
      }
    },
    {
      "cell_type": "code",
      "source": [
        "map(function, iterable)"
      ],
      "metadata": {
        "id": "m3HG1RABtKJ6"
      },
      "execution_count": null,
      "outputs": []
    },
    {
      "cell_type": "markdown",
      "source": [
        "## Squaring Numbers in a List"
      ],
      "metadata": {
        "id": "PHfJncQatJKI"
      }
    },
    {
      "cell_type": "code",
      "source": [
        "# Define a list of numbers\n",
        "numbers = [1, 2, 3, 4, 5]\n",
        "\n",
        "# Use map() to square each number in the list\n",
        "squared_numbers = map(lambda x: x ** 2, numbers)\n",
        "\n",
        "# Convert the map object to a list\n",
        "squared_numbers_list = list(squared_numbers)\n",
        "\n",
        "print(squared_numbers_list)  # Output: [1, 4, 9, 16, 25]\n"
      ],
      "metadata": {
        "id": "QMwGYoNotRLZ"
      },
      "execution_count": null,
      "outputs": []
    },
    {
      "cell_type": "markdown",
      "source": [
        "## Converting Fahrenheit to Celsius"
      ],
      "metadata": {
        "id": "mxUiDyPFtR0J"
      }
    },
    {
      "cell_type": "code",
      "source": [
        "# Define a list of temperatures in Fahrenheit\n",
        "fahrenheit_temps = [32, 68, 86, 104]\n",
        "\n",
        "# Use map() to convert each temperature to Celsius\n",
        "celsius_temps = map(lambda f: (f - 32) * 5/9, fahrenheit_temps)\n",
        "\n",
        "# Convert the map object to a list\n",
        "celsius_temps_list = list(celsius_temps)\n",
        "\n",
        "print(celsius_temps_list)  # Output: [0.0, 20.0, 30.0, 40.0]\n"
      ],
      "metadata": {
        "id": "yhYUU50xtVVB"
      },
      "execution_count": null,
      "outputs": []
    },
    {
      "cell_type": "markdown",
      "source": [
        "## Capitalizing Strings in a List"
      ],
      "metadata": {
        "id": "6REpqSwBta3L"
      }
    },
    {
      "cell_type": "code",
      "source": [
        "# Define a list of strings\n",
        "strings = ['apple', 'banana', 'cherry']\n",
        "\n",
        "# Use map() to capitalize each string in the list\n",
        "capitalized_strings = map(str.capitalize, strings)\n",
        "\n",
        "# Convert the map object to a list\n",
        "capitalized_strings_list = list(capitalized_strings)\n",
        "\n",
        "print(capitalized_strings_list)  # Output: ['Apple', 'Banana', 'Cherry']\n"
      ],
      "metadata": {
        "id": "OeFUWe_utbz3"
      },
      "execution_count": null,
      "outputs": []
    },
    {
      "cell_type": "markdown",
      "source": [
        "## Calculating Length of Strings in a List"
      ],
      "metadata": {
        "id": "1EGWEbJxteiE"
      }
    },
    {
      "cell_type": "code",
      "source": [
        "# Define a list of strings\n",
        "strings = ['apple', 'banana', 'cherry']\n",
        "\n",
        "# Use map() to calculate the length of each string in the list\n",
        "lengths = map(len, strings)\n",
        "\n",
        "# Convert the map object to a list\n",
        "lengths_list = list(lengths)\n",
        "\n",
        "print(lengths_list)  # Output: [5, 6, 6]\n"
      ],
      "metadata": {
        "id": "dtB9-VGatfrT"
      },
      "execution_count": null,
      "outputs": []
    },
    {
      "cell_type": "markdown",
      "source": [
        "## Mapping with Multiple Iterables"
      ],
      "metadata": {
        "id": "4Dul3g9Qthwm"
      }
    },
    {
      "cell_type": "code",
      "source": [
        "# Define two lists of numbers\n",
        "numbers1 = [1, 2, 3]\n",
        "numbers2 = [4, 5, 6]\n",
        "\n",
        "# Use map() to add corresponding elements of both lists\n",
        "sums = map(lambda x, y: x + y, numbers1, numbers2)\n",
        "\n",
        "# Convert the map object to a list\n",
        "sums_list = list(sums)\n",
        "\n",
        "print(sums_list)  # Output: [5, 7, 9]\n"
      ],
      "metadata": {
        "id": "uBydggbctjqR"
      },
      "execution_count": null,
      "outputs": []
    },
    {
      "cell_type": "markdown",
      "source": [
        "# `filter()` Function"
      ],
      "metadata": {
        "id": "3Gqd01xwt0m9"
      }
    },
    {
      "cell_type": "markdown",
      "source": [
        "## Syntax"
      ],
      "metadata": {
        "id": "-1hpa-Tjt0m-"
      }
    },
    {
      "cell_type": "code",
      "source": [
        "filter(function, iterable)\n"
      ],
      "metadata": {
        "id": "mRh5h5n2t0m-"
      },
      "execution_count": null,
      "outputs": []
    },
    {
      "cell_type": "markdown",
      "source": [
        "## Filtering Even Numbers"
      ],
      "metadata": {
        "id": "WrrVkwhCt0m-"
      }
    },
    {
      "cell_type": "code",
      "source": [
        "# Define a list of numbers\n",
        "numbers = [1, 2, 3, 4, 5, 6, 7, 8, 9, 10]\n",
        "\n",
        "# Use filter() to keep only even numbers\n",
        "even_numbers = filter(lambda x: x % 2 == 0, numbers)\n",
        "\n",
        "# Convert the filter object to a list\n",
        "even_numbers_list = list(even_numbers)\n",
        "\n",
        "print(even_numbers_list)  # Output: [2, 4, 6, 8, 10]\n"
      ],
      "metadata": {
        "id": "2lt6_Iwft0m-"
      },
      "execution_count": null,
      "outputs": []
    },
    {
      "cell_type": "markdown",
      "source": [
        "## Filtering Strings with Length Greater Than 3"
      ],
      "metadata": {
        "id": "kR2r41vat0m_"
      }
    },
    {
      "cell_type": "code",
      "source": [
        "# Define a list of strings\n",
        "strings = ['apple', 'banana', 'cherry', 'pear', 'grape']\n",
        "\n",
        "# Use filter() to keep only strings with length greater than 3\n",
        "filtered_strings = filter(lambda x: len(x) > 3, strings)\n",
        "\n",
        "# Convert the filter object to a list\n",
        "filtered_strings_list = list(filtered_strings)\n",
        "\n",
        "print(filtered_strings_list)  # Output: ['apple', 'banana', 'cherry', 'grape']\n"
      ],
      "metadata": {
        "id": "bqu4FxlGt0m_"
      },
      "execution_count": null,
      "outputs": []
    },
    {
      "cell_type": "markdown",
      "source": [
        "## Filtering Positive Numbers"
      ],
      "metadata": {
        "id": "VpyFIjzYt0m_"
      }
    },
    {
      "cell_type": "code",
      "source": [
        "# Define a list of numbers\n",
        "numbers = [-1, 2, -3, 4, -5, 6, -7, 8, -9, 10]\n",
        "\n",
        "# Use filter() to keep only positive numbers\n",
        "positive_numbers = filter(lambda x: x > 0, numbers)\n",
        "\n",
        "# Convert the filter object to a list\n",
        "positive_numbers_list = list(positive_numbers)\n",
        "\n",
        "print(positive_numbers_list)  # Output: [2, 4, 6, 8, 10]\n"
      ],
      "metadata": {
        "id": "mf94dmnjt0m_"
      },
      "execution_count": null,
      "outputs": []
    },
    {
      "cell_type": "markdown",
      "source": [
        "## Removing None Values from a List\n",
        "\n"
      ],
      "metadata": {
        "id": "OSsGGMbyt0nA"
      }
    },
    {
      "cell_type": "code",
      "source": [
        "# Define a list with None values\n",
        "values = [1, None, 2, None, 3, None]\n",
        "\n",
        "# Use filter() to remove None values\n",
        "filtered_values = filter(lambda x: x is not None, values)\n",
        "\n",
        "# Convert the filter object to a list\n",
        "filtered_values_list = list(filtered_values)\n",
        "\n",
        "print(filtered_values_list)  # Output: [1, 2, 3]\n"
      ],
      "metadata": {
        "id": "iIR2eGWjt0nA"
      },
      "execution_count": null,
      "outputs": []
    },
    {
      "cell_type": "markdown",
      "source": [
        "## Filtering using a Custom Function"
      ],
      "metadata": {
        "id": "WNaS6NlRt0nA"
      }
    },
    {
      "cell_type": "code",
      "source": [
        "# Define a custom function to filter strings starting with 'a'\n",
        "def starts_with_a(s):\n",
        "    return s.startswith('a')\n",
        "\n",
        "# Define a list of strings\n",
        "strings = ['apple', 'banana', 'cherry', 'apricot', 'grape']\n",
        "\n",
        "# Use filter() with the custom function\n",
        "filtered_strings = filter(starts_with_a, strings)\n",
        "\n",
        "# Convert the filter object to a list\n",
        "filtered_strings_list = list(filtered_strings)\n",
        "\n",
        "print(filtered_strings_list)  # Output: ['apple', 'apricot']\n"
      ],
      "metadata": {
        "id": "vj71xHyat0nA"
      },
      "execution_count": null,
      "outputs": []
    },
    {
      "cell_type": "markdown",
      "source": [
        "# `reduce()` Function"
      ],
      "metadata": {
        "id": "VbhtRGBAuwiW"
      }
    },
    {
      "cell_type": "markdown",
      "source": [
        "## Syntax"
      ],
      "metadata": {
        "id": "D7VfphASuwiW"
      }
    },
    {
      "cell_type": "code",
      "source": [
        "functools.reduce(function, iterable[, initializer])\n"
      ],
      "metadata": {
        "id": "3nZw_b2XuwiW"
      },
      "execution_count": null,
      "outputs": []
    },
    {
      "cell_type": "markdown",
      "source": [
        "## Summing Numbers in a List"
      ],
      "metadata": {
        "id": "YToObajFuwiX"
      }
    },
    {
      "cell_type": "code",
      "source": [
        "from functools import reduce\n",
        "\n",
        "# Define a list of numbers\n",
        "numbers = [1, 2, 3, 4, 5]\n",
        "\n",
        "# Use reduce() to calculate the sum of the numbers\n",
        "sum_of_numbers = reduce(lambda x, y: x + y, numbers)\n",
        "\n",
        "print(sum_of_numbers)  # Output: 15 (1 + 2 + 3 + 4 + 5)\n"
      ],
      "metadata": {
        "id": "tq47stmauwiX"
      },
      "execution_count": null,
      "outputs": []
    },
    {
      "cell_type": "markdown",
      "source": [
        "## Finding Maximum Number in a List"
      ],
      "metadata": {
        "id": "kYER_PjIuwiX"
      }
    },
    {
      "cell_type": "code",
      "source": [
        "from functools import reduce\n",
        "\n",
        "# Define a list of numbers\n",
        "numbers = [3, 1, 7, 5, 9, 2]\n",
        "\n",
        "# Use reduce() to find the maximum number\n",
        "max_number = reduce(lambda x, y: x if x > y else y, numbers)\n",
        "\n",
        "print(max_number)  # Output: 9\n"
      ],
      "metadata": {
        "id": "hNPckLX0uwiX"
      },
      "execution_count": null,
      "outputs": []
    },
    {
      "cell_type": "markdown",
      "source": [
        "## Concatenating Strings in a List"
      ],
      "metadata": {
        "id": "JiFZmIIHuwiX"
      }
    },
    {
      "cell_type": "code",
      "source": [
        "from functools import reduce\n",
        "\n",
        "# Define a list of strings\n",
        "strings = ['hello', 'world', 'this', 'is', 'python']\n",
        "\n",
        "# Use reduce() to concatenate the strings\n",
        "concatenated_string = reduce(lambda x, y: x + ' ' + y, strings)\n",
        "\n",
        "print(concatenated_string)  # Output: hello world this is python\n"
      ],
      "metadata": {
        "id": "81cTsBIOuwiX"
      },
      "execution_count": null,
      "outputs": []
    },
    {
      "cell_type": "markdown",
      "source": [
        "## Removing None Values from a List\n",
        "\n"
      ],
      "metadata": {
        "id": "HZTGb2rAuwiY"
      }
    },
    {
      "cell_type": "code",
      "source": [
        "# Define a list with None values\n",
        "values = [1, None, 2, None, 3, None]\n",
        "\n",
        "# Use filter() to remove None values\n",
        "filtered_values = filter(lambda x: x is not None, values)\n",
        "\n",
        "# Convert the filter object to a list\n",
        "filtered_values_list = list(filtered_values)\n",
        "\n",
        "print(filtered_values_list)  # Output: [1, 2, 3]\n"
      ],
      "metadata": {
        "id": "ir8AXF45uwiY"
      },
      "execution_count": null,
      "outputs": []
    },
    {
      "cell_type": "markdown",
      "source": [
        "## Computing Factorial of a Number"
      ],
      "metadata": {
        "id": "NHfSTHqiuwiY"
      }
    },
    {
      "cell_type": "code",
      "source": [
        "from functools import reduce\n",
        "\n",
        "# Define a number\n",
        "n = 5\n",
        "\n",
        "# Use reduce() to calculate the factorial of the number\n",
        "factorial = reduce(lambda x, y: x * y, range(1, n + 1))\n",
        "\n",
        "print(factorial)  # Output: 120 (5 * 4 * 3 * 2 * 1)\n"
      ],
      "metadata": {
        "id": "v1wCLBc9uwiY"
      },
      "execution_count": null,
      "outputs": []
    },
    {
      "cell_type": "markdown",
      "source": [
        "## Performing Custom Rolling Computation"
      ],
      "metadata": {
        "id": "ZtIO0dm3vOXs"
      }
    },
    {
      "cell_type": "code",
      "source": [
        "from functools import reduce\n",
        "\n",
        "# Define a list of numbers\n",
        "numbers = [10, 20, 30, 40, 50]\n",
        "\n",
        "# Use reduce() to perform custom rolling computation\n",
        "result = reduce(lambda x, y: (x[0] + y, y), numbers, (0, 0))\n",
        "\n",
        "print(result)  # Output: (150, 50)\n"
      ],
      "metadata": {
        "id": "vNAL0YD9vO39"
      },
      "execution_count": null,
      "outputs": []
    },
    {
      "cell_type": "markdown",
      "source": [
        "# Scope of Variables"
      ],
      "metadata": {
        "id": "XwWhh1qjvbec"
      }
    },
    {
      "cell_type": "markdown",
      "source": [
        "## Local Scope"
      ],
      "metadata": {
        "id": "oNy5Q5davduM"
      }
    },
    {
      "cell_type": "code",
      "source": [
        "def my_function():\n",
        "    # Variable 'x' is defined within the function\n",
        "    x = 10\n",
        "    print(\"Inside my_function:\", x)\n",
        "\n",
        "# Call the function\n",
        "my_function()\n",
        "\n",
        "# Attempting to access 'x' outside the function will result in a NameError\n",
        "# print(\"Outside my_function:\", x)\n"
      ],
      "metadata": {
        "id": "Dgmng7gJvfJL"
      },
      "execution_count": null,
      "outputs": []
    },
    {
      "cell_type": "markdown",
      "source": [
        "## Enclosing (Nonlocal) Scope"
      ],
      "metadata": {
        "id": "nsCHgSY0vmEU"
      }
    },
    {
      "cell_type": "code",
      "source": [
        "def outer_function():\n",
        "    x = 10  # Variable in the enclosing scope\n",
        "\n",
        "    def inner_function():\n",
        "        nonlocal x  # Accessing variable 'x' from the enclosing scope\n",
        "        x += 5\n",
        "        print(\"Inside inner_function:\", x)\n",
        "\n",
        "    inner_function()  # Call the inner function\n",
        "\n",
        "    print(\"Outside inner_function:\", x)  # 'x' modified in the inner function\n",
        "\n",
        "# Call the outer function\n",
        "outer_function()\n"
      ],
      "metadata": {
        "id": "mmzslHUGvo66"
      },
      "execution_count": null,
      "outputs": []
    },
    {
      "cell_type": "markdown",
      "source": [
        "## Global Scope"
      ],
      "metadata": {
        "id": "ryfEEEIDvr7n"
      }
    },
    {
      "cell_type": "code",
      "source": [
        "# Variable 'x' is defined in the global scope\n",
        "x = 10\n",
        "\n",
        "def my_function():\n",
        "    print(\"Inside my_function:\", x)  # Accessing 'x' from the global scope\n",
        "\n",
        "# Call the function\n",
        "my_function()\n",
        "\n",
        "print(\"Outside my_function:\", x)  # 'x' accessible outside the function\n"
      ],
      "metadata": {
        "id": "_DpkS1CZvtgi"
      },
      "execution_count": null,
      "outputs": []
    },
    {
      "cell_type": "markdown",
      "source": [
        "## Modifying Global Variable Inside Function"
      ],
      "metadata": {
        "id": "HNvslaqwvyMI"
      }
    },
    {
      "cell_type": "code",
      "source": [
        "x = 10  # Define a global variable\n",
        "\n",
        "def modify_global():\n",
        "    global x  # Declare 'x' as global within the function\n",
        "    x += 5\n",
        "    print(\"Inside modify_global:\", x)\n",
        "\n",
        "# Call the function to modify the global variable\n",
        "modify_global()\n",
        "\n",
        "print(\"Outside modify_global:\", x)  # 'x' has been modified globally\n"
      ],
      "metadata": {
        "id": "rwDgviiMvzdn"
      },
      "execution_count": null,
      "outputs": []
    },
    {
      "cell_type": "markdown",
      "source": [
        "# Call By Value"
      ],
      "metadata": {
        "id": "1Rt47-Zgv9Nf"
      }
    },
    {
      "cell_type": "code",
      "source": [
        "def increment(x):\n",
        "    x += 1\n",
        "    print(\"Inside function:\", x)\n",
        "\n",
        "# Define a variable\n",
        "num = 10\n",
        "\n",
        "# Call the function\n",
        "increment(num)\n",
        "\n",
        "print(\"Outside function:\", num)  # Original value remains unchanged\n"
      ],
      "metadata": {
        "colab": {
          "base_uri": "https://localhost:8080/"
        },
        "id": "bt7eCxcrv-u4",
        "outputId": "d36be5f6-7e4f-472e-cacc-ed1f45d8d4d9"
      },
      "execution_count": null,
      "outputs": [
        {
          "output_type": "stream",
          "name": "stdout",
          "text": [
            "Inside function: 11\n",
            "Outside function: 10\n"
          ]
        }
      ]
    },
    {
      "cell_type": "markdown",
      "source": [
        "# Call by Reference"
      ],
      "metadata": {
        "id": "xvo9o-5mwAJY"
      }
    },
    {
      "cell_type": "code",
      "source": [
        "def append_element(lst):\n",
        "    lst.append(4)\n",
        "    print(\"Inside function:\", lst)\n",
        "\n",
        "# Define a list\n",
        "my_list = [1, 2, 3]\n",
        "\n",
        "# Call the function\n",
        "append_element(my_list)\n",
        "\n",
        "print(\"Outside function:\", my_list)  # Original list is modified\n"
      ],
      "metadata": {
        "colab": {
          "base_uri": "https://localhost:8080/"
        },
        "id": "AHQ55cWAwBkQ",
        "outputId": "ab3c73ac-4414-4ff4-e5d4-90b2d90197e7"
      },
      "execution_count": null,
      "outputs": [
        {
          "output_type": "stream",
          "name": "stdout",
          "text": [
            "Inside function: [1, 2, 3, 4]\n",
            "Outside function: [1, 2, 3, 4]\n"
          ]
        }
      ]
    },
    {
      "cell_type": "markdown",
      "source": [
        "# Coding Examples"
      ],
      "metadata": {
        "id": "x80fqvWowNjZ"
      }
    },
    {
      "cell_type": "markdown",
      "source": [
        "## Word Frequency Analysis"
      ],
      "metadata": {
        "id": "rJBNqpA3waO4"
      }
    },
    {
      "cell_type": "markdown",
      "source": [
        "Problem Statement:\n",
        "You are given a list of sentences. Your task is to perform a word frequency analysis and answer various queries related to the words in the sentences.\n",
        "\n",
        "Requirements:\n",
        "1. Create a function `word_frequency(sentences)` that takes a list of sentences as input and returns a dictionary where keys are unique words and values are their respective frequencies in the sentences.\n",
        "\n",
        "2. Implement a function `most_frequent_words(word_freq_dict, n)` that takes the word frequency dictionary and an integer n as input and returns a list of the top n most frequent words.\n",
        "\n",
        "3. Write a function `word_length_distribution(sentences)` that returns a dictionary where keys are word lengths, and values are the count of words of that length.\n",
        "\n",
        "4. Create a function `filter_words_by_length(word_freq_dict, length)` that takes the word frequency dictionary and a length as input, and returns a dictionary containing only the words of the specified length.\n",
        "\n",
        "5. Implement a function `total_word_count(sentences)` that returns the total number of words in all the sentences.\""
      ],
      "metadata": {
        "id": "ieg_XEC4weqg"
      }
    },
    {
      "cell_type": "code",
      "source": [
        "\n",
        "def word_frequency(sentences):\n",
        "    freq_dict = {}\n",
        "    for sentence in sentences:\n",
        "        words = sentence.lower().split()\n",
        "        for word in words:\n",
        "            freq_dict[word] = freq_dict.get(word, 0) + 1\n",
        "    return freq_dict\n",
        "\n",
        "def most_frequent_words(word_freq_dict, n):\n",
        "    sorted_words = sorted(word_freq_dict.items(), key=lambda x: x[1], reverse=True)\n",
        "    return [word[0] for word in sorted_words[:n]]\n",
        "\n",
        "def word_length_distribution(sentences):\n",
        "    length_distribution = {}\n",
        "    for sentence in sentences:\n",
        "        words = sentence.lower().split()\n",
        "        for word in words:\n",
        "            length_distribution[len(word)] = length_distribution.get(len(word), 0) + 1\n",
        "    return length_distribution\n",
        "\n",
        "def filter_words_by_length(word_freq_dict, length):\n",
        "    return {word: freq for word, freq in word_freq_dict.items() if len(word) == length}\n",
        "\n",
        "def total_word_count(sentences):\n",
        "    total_count = 0\n",
        "    for sentence in sentences:\n",
        "        words = sentence.lower().split()\n",
        "        total_count += len(words)\n",
        "    return total_count\n",
        "\n",
        "# Example usage:\n",
        "sentences = [\n",
        "    \"Hello, how are you?\",\n",
        "    \"I'm doing fine, thank you!\",\n",
        "    \"Python is a powerful language.\",\n",
        "    \"I love programming in Python!\"\n",
        "]\n",
        "\n",
        "word_freq_dict = word_frequency(sentences)\n",
        "print(\"Word Frequency:\", word_freq_dict)\n",
        "\n",
        "top_words = most_frequent_words(word_freq_dict, 3)\n",
        "print(\"Top 3 Most Frequent Words:\", top_words)\n",
        "\n",
        "word_length_dist = word_length_distribution(sentences)\n",
        "print(\"Word Length Distribution:\", word_length_dist)\n",
        "\n",
        "filtered_words = filter_words_by_length(word_freq_dict, 5)\n",
        "print(\"Words with Length 5:\", filtered_words)\n",
        "\n",
        "total_count = total_word_count(sentences)\n",
        "print(\"Total Word Count:\", total_count)\n"
      ],
      "metadata": {
        "colab": {
          "base_uri": "https://localhost:8080/"
        },
        "id": "xKikFc7Wwkwn",
        "outputId": "78926b07-4875-4645-abb0-d0ae6cf57266"
      },
      "execution_count": null,
      "outputs": [
        {
          "output_type": "stream",
          "name": "stdout",
          "text": [
            "Word Frequency: {'hello,': 1, 'how': 1, 'are': 1, 'you?': 1, \"i'm\": 1, 'doing': 1, 'fine,': 1, 'thank': 1, 'you!': 1, 'python': 1, 'is': 1, 'a': 1, 'powerful': 1, 'language.': 1, 'i': 1, 'love': 1, 'programming': 1, 'in': 1, 'python!': 1}\n",
            "Top 3 Most Frequent Words: ['hello,', 'how', 'are']\n",
            "Word Length Distribution: {6: 2, 3: 3, 4: 3, 5: 3, 2: 2, 1: 2, 8: 1, 9: 1, 11: 1, 7: 1}\n",
            "Words with Length 5: {'doing': 1, 'fine,': 1, 'thank': 1}\n",
            "Total Word Count: 19\n"
          ]
        }
      ]
    },
    {
      "cell_type": "markdown",
      "source": [
        "## Student Performance Analysis"
      ],
      "metadata": {
        "id": "O7zw7NSVw1q3"
      }
    },
    {
      "cell_type": "markdown",
      "source": [
        "\n",
        "Problem Statement: You are provided with a list of dictionaries representing students' performance in different subjects. Each dictionary contains the student's name, a list of subject scores, and an overall average.\n",
        "\n",
        "\n",
        "\n",
        "```\n",
        "students_data = [\n",
        "    {\"name\": \"Alice\", \"scores\": [90, 85, 92], \"average\": 0},\n",
        "    {\"name\": \"Bob\", \"scores\": [78, 80, 85], \"average\": 0},\n",
        "    {\"name\": \"Charlie\", \"scores\": [95, 88, 91], \"average\": 0},\n",
        "    # ... (additional student data)\n",
        "]\n",
        "```\n",
        "\n",
        "\n",
        "\n",
        "Subproblems:\n",
        "1. Calculate Averages: Write a function `calculate_averages(students_data)` that calculates the overall average for each student and updates the \"average\" key in each dictionary.\n",
        "\n",
        "2. Top Performing Students: Implement a function `top_performers(students_data, n)` that takes the student data and an integer n as input, and returns a list of the top n performing students based on their overall averages.\n",
        "\n",
        "3. Subject-wise Average: Write a function `subject_wise_average(students_data)` that returns a dictionary where keys are subjects, and values are the average scores for that subject across all students.\n",
        "\n",
        "4. Lambda and Filtering: Use a lambda function and the filter function to create a list of students who scored above a certain threshold (e.g., overall average > 85).\n",
        "\n",
        "5. Highest Scorer in a Subject: Create a function `highest_scorer_subject(students_data, subject)` that takes the student data and a subject name as input and returns the student with the highest score in that subject.\n",
        "\n",
        "6. Subject-wise Improvement: Implement a function `subject_wise_improvement(students_data, subject)` that takes the student data and a subject name as input and returns a list of students who improved their scores in that subject compared to the previous evaluation."
      ],
      "metadata": {
        "id": "zyQdVFI6w6cV"
      }
    },
    {
      "cell_type": "code",
      "source": [
        "students_data = [\n",
        "    {\"name\": \"Alice\", \"scores\": [90, 85, 92], \"average\": 0},\n",
        "    {\"name\": \"Bob\", \"scores\": [78, 80, 85], \"average\": 0},\n",
        "    {\"name\": \"Charlie\", \"scores\": [95, 88, 91], \"average\": 0},\n",
        "    # ... (additional student data)\n",
        "]\n",
        "\n",
        "# 1. Calculate Averages\n",
        "def calculate_averages(students_data):\n",
        "    for student in students_data:\n",
        "        student[\"average\"] = sum(student[\"scores\"]) / len(student[\"scores\"])\n",
        "\n",
        "# 2. Top Performing Students\n",
        "def top_performers(students_data, n):\n",
        "    sorted_students = sorted(students_data, key=lambda x: x[\"average\"], reverse=True)\n",
        "    return sorted_students[:n]\n",
        "\n",
        "# 3. Subject-wise Average\n",
        "def subject_wise_average(students_data):\n",
        "    subject_avg = {}\n",
        "    for student in students_data:\n",
        "        for i, score in enumerate(student[\"scores\"]):\n",
        "            subject = f\"Subject_{i+1}\"\n",
        "            subject_avg[subject] = subject_avg.get(subject, 0) + score\n",
        "    for subject, total_score in subject_avg.items():\n",
        "        subject_avg[subject] = total_score / len(students_data)\n",
        "    return subject_avg\n",
        "\n",
        "# 4. Lambda and Filtering\n",
        "def above_threshold_students(students_data, threshold):\n",
        "    return list(filter(lambda x: x[\"average\"] > threshold, students_data))\n",
        "\n",
        "# 5. Highest Scorer in a Subject\n",
        "def highest_scorer_subject(students_data, subject):\n",
        "    scores_in_subject = []\n",
        "    for student in students_data:\n",
        "        subject_index = int(subject.split(\"_\")[1]) - 1\n",
        "        scores_in_subject.append((student[\"name\"], student[\"scores\"][subject_index]))\n",
        "    return max(scores_in_subject, key=lambda x: x[1])[0]\n",
        "\n",
        "# 6. Subject-wise Improvement\n",
        "def subject_wise_improvement(students_data, subject):\n",
        "    subject_index = int(subject.split(\"_\")[1]) - 1\n",
        "    improved_students = []\n",
        "    for student in students_data:\n",
        "        if len(student[\"scores\"]) > 1 and student[\"scores\"][subject_index] > student[\"scores\"][subject_index - 1]:\n",
        "            improved_students.append(student[\"name\"])\n",
        "    return improved_students\n",
        "\n",
        "# Example usage:\n",
        "calculate_averages(students_data)\n",
        "print(\"Updated Student Data:\", students_data)\n",
        "\n",
        "print(\"Top Performers:\", top_performers(students_data, 2))\n",
        "\n",
        "print(\"Subject-wise Average:\", subject_wise_average(students_data))\n",
        "\n",
        "print(\"Students with Overall Average > 85:\", above_threshold_students(students_data, 85))\n",
        "\n",
        "print(\"Highest Scorer in Subject 2:\", highest_scorer_subject(students_data, \"Subject_2\"))\n",
        "\n",
        "print(\"Students who Improved in Subject 3:\", subject_wise_improvement(students_data, \"Subject_3\"))\n"
      ],
      "metadata": {
        "colab": {
          "base_uri": "https://localhost:8080/"
        },
        "id": "wKTukvJFxFwT",
        "outputId": "c1e59e86-244d-4adf-87d0-78197317c49b"
      },
      "execution_count": null,
      "outputs": [
        {
          "output_type": "stream",
          "name": "stdout",
          "text": [
            "Updated Student Data: [{'name': 'Alice', 'scores': [90, 85, 92], 'average': 89.0}, {'name': 'Bob', 'scores': [78, 80, 85], 'average': 81.0}, {'name': 'Charlie', 'scores': [95, 88, 91], 'average': 91.33333333333333}]\n",
            "Top Performers: [{'name': 'Charlie', 'scores': [95, 88, 91], 'average': 91.33333333333333}, {'name': 'Alice', 'scores': [90, 85, 92], 'average': 89.0}]\n",
            "Subject-wise Average: {'Subject_1': 87.66666666666667, 'Subject_2': 84.33333333333333, 'Subject_3': 89.33333333333333}\n",
            "Students with Overall Average > 85: [{'name': 'Alice', 'scores': [90, 85, 92], 'average': 89.0}, {'name': 'Charlie', 'scores': [95, 88, 91], 'average': 91.33333333333333}]\n",
            "Highest Scorer in Subject 2: Charlie\n",
            "Students who Improved in Subject 3: ['Alice', 'Bob', 'Charlie']\n"
          ]
        }
      ]
    }
  ]
}