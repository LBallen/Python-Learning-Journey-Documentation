{
 "cells": [
  {
   "metadata": {},
   "cell_type": "markdown",
   "source": [
    "**Find If A Character Is Vowel Or Consonant**\n",
    "\n",
    "* You are given a lowercase letter of the English alphabet. Your task is to determine whether it is a vowel or a consonant.\n",
    "* Complete function is_vowel_or_consonant(char) that takes a lowercase character as input and returns a string indicating whether the character is a vowel or a consonant. Return \"Vowel\" if it's a vowel and \"Consonant\" if it's a consonant."
   ],
   "id": "d8257b523b8908d8"
  },
  {
   "metadata": {
    "ExecuteTime": {
     "end_time": "2025-08-14T04:02:57.794156Z",
     "start_time": "2025-08-14T03:56:49.547456Z"
    }
   },
   "cell_type": "code",
   "source": [
    "def is_vowel_or_consonant(character):\n",
    "    \"\"\"\n",
    "    Args:\n",
    "     character(char)\n",
    "    Returns:\n",
    "     str\n",
    "    \"\"\"\n",
    "    # Write your code here.\n",
    "    vowel = (\"a\",\"e\",\"i\",\"o\",\"u\")\n",
    "    if character in vowel:\n",
    "        return \"Vowel\"\n",
    "    else:\n",
    "        return \"Consonant\""
   ],
   "id": "fbad28c9cc8c48a7",
   "outputs": [
    {
     "ename": "KeyboardInterrupt",
     "evalue": "",
     "output_type": "error",
     "traceback": [
      "\u001B[31m---------------------------------------------------------------------------\u001B[39m",
      "\u001B[31mKeyboardInterrupt\u001B[39m                         Traceback (most recent call last)",
      "\u001B[36mCell\u001B[39m\u001B[36m \u001B[39m\u001B[32mIn[1]\u001B[39m\u001B[32m, line 1\u001B[39m\n\u001B[32m----> \u001B[39m\u001B[32m1\u001B[39m \u001B[38;5;28;01mdef\u001B[39;00m\u001B[38;5;250m \u001B[39m\u001B[34mis_vowel_or_consonant\u001B[39m(character):\n\u001B[32m      2\u001B[39m \u001B[38;5;250m    \u001B[39m\u001B[33;03m\"\"\"\u001B[39;00m\n\u001B[32m      3\u001B[39m \u001B[33;03m    Args:\u001B[39;00m\n\u001B[32m      4\u001B[39m \u001B[33;03m     character(char)\u001B[39;00m\n\u001B[32m      5\u001B[39m \u001B[33;03m    Returns:\u001B[39;00m\n\u001B[32m      6\u001B[39m \u001B[33;03m     str\u001B[39;00m\n\u001B[32m      7\u001B[39m \u001B[33;03m    \"\"\"\u001B[39;00m\n\u001B[32m      8\u001B[39m     \u001B[38;5;66;03m# Write your code here.\u001B[39;00m\n",
      "\u001B[36mFile \u001B[39m\u001B[32mC:\\Program Files\\JetBrains\\PyCharm 2025.1.3\\plugins\\python-ce\\helpers\\pydev\\_pydevd_bundle\\pydevd_frame.py:755\u001B[39m, in \u001B[36mPyDBFrame.trace_dispatch\u001B[39m\u001B[34m(self, frame, event, arg)\u001B[39m\n\u001B[32m    753\u001B[39m \u001B[38;5;66;03m# if thread has a suspend flag, we suspend with a busy wait\u001B[39;00m\n\u001B[32m    754\u001B[39m \u001B[38;5;28;01mif\u001B[39;00m info.pydev_state == STATE_SUSPEND:\n\u001B[32m--> \u001B[39m\u001B[32m755\u001B[39m     \u001B[38;5;28;43mself\u001B[39;49m\u001B[43m.\u001B[49m\u001B[43mdo_wait_suspend\u001B[49m\u001B[43m(\u001B[49m\u001B[43mthread\u001B[49m\u001B[43m,\u001B[49m\u001B[43m \u001B[49m\u001B[43mframe\u001B[49m\u001B[43m,\u001B[49m\u001B[43m \u001B[49m\u001B[43mevent\u001B[49m\u001B[43m,\u001B[49m\u001B[43m \u001B[49m\u001B[43marg\u001B[49m\u001B[43m)\u001B[49m\n\u001B[32m    756\u001B[39m     \u001B[38;5;66;03m# No need to reset frame.f_trace to keep the same trace function.\u001B[39;00m\n\u001B[32m    757\u001B[39m     \u001B[38;5;28;01mreturn\u001B[39;00m \u001B[38;5;28mself\u001B[39m.trace_dispatch\n",
      "\u001B[36mFile \u001B[39m\u001B[32mC:\\Program Files\\JetBrains\\PyCharm 2025.1.3\\plugins\\python-ce\\helpers\\pydev\\_pydevd_bundle\\pydevd_frame.py:412\u001B[39m, in \u001B[36mPyDBFrame.do_wait_suspend\u001B[39m\u001B[34m(self, *args, **kwargs)\u001B[39m\n\u001B[32m    411\u001B[39m \u001B[38;5;28;01mdef\u001B[39;00m\u001B[38;5;250m \u001B[39m\u001B[34mdo_wait_suspend\u001B[39m(\u001B[38;5;28mself\u001B[39m, *args, **kwargs):\n\u001B[32m--> \u001B[39m\u001B[32m412\u001B[39m     \u001B[38;5;28;43mself\u001B[39;49m\u001B[43m.\u001B[49m\u001B[43m_args\u001B[49m\u001B[43m[\u001B[49m\u001B[32;43m0\u001B[39;49m\u001B[43m]\u001B[49m\u001B[43m.\u001B[49m\u001B[43mdo_wait_suspend\u001B[49m\u001B[43m(\u001B[49m\u001B[43m*\u001B[49m\u001B[43margs\u001B[49m\u001B[43m,\u001B[49m\u001B[43m \u001B[49m\u001B[43m*\u001B[49m\u001B[43m*\u001B[49m\u001B[43mkwargs\u001B[49m\u001B[43m)\u001B[49m\n",
      "\u001B[36mFile \u001B[39m\u001B[32mC:\\Program Files\\JetBrains\\PyCharm 2025.1.3\\plugins\\python-ce\\helpers\\pydev\\pydevd.py:1220\u001B[39m, in \u001B[36mPyDB.do_wait_suspend\u001B[39m\u001B[34m(self, thread, frame, event, arg, send_suspend_message, is_unhandled_exception)\u001B[39m\n\u001B[32m   1217\u001B[39m         from_this_thread.append(frame_id)\n\u001B[32m   1219\u001B[39m \u001B[38;5;28;01mwith\u001B[39;00m \u001B[38;5;28mself\u001B[39m._threads_suspended_single_notification.notify_thread_suspended(thread_id, stop_reason):\n\u001B[32m-> \u001B[39m\u001B[32m1220\u001B[39m     \u001B[38;5;28;43mself\u001B[39;49m\u001B[43m.\u001B[49m\u001B[43m_do_wait_suspend\u001B[49m\u001B[43m(\u001B[49m\u001B[43mthread\u001B[49m\u001B[43m,\u001B[49m\u001B[43m \u001B[49m\u001B[43mframe\u001B[49m\u001B[43m,\u001B[49m\u001B[43m \u001B[49m\u001B[43mevent\u001B[49m\u001B[43m,\u001B[49m\u001B[43m \u001B[49m\u001B[43marg\u001B[49m\u001B[43m,\u001B[49m\u001B[43m \u001B[49m\u001B[43msuspend_type\u001B[49m\u001B[43m,\u001B[49m\u001B[43m \u001B[49m\u001B[43mfrom_this_thread\u001B[49m\u001B[43m)\u001B[49m\n",
      "\u001B[36mFile \u001B[39m\u001B[32mC:\\Program Files\\JetBrains\\PyCharm 2025.1.3\\plugins\\python-ce\\helpers\\pydev\\pydevd.py:1235\u001B[39m, in \u001B[36mPyDB._do_wait_suspend\u001B[39m\u001B[34m(self, thread, frame, event, arg, suspend_type, from_this_thread)\u001B[39m\n\u001B[32m   1232\u001B[39m             \u001B[38;5;28mself\u001B[39m._call_mpl_hook()\n\u001B[32m   1234\u001B[39m         \u001B[38;5;28mself\u001B[39m.process_internal_commands()\n\u001B[32m-> \u001B[39m\u001B[32m1235\u001B[39m         \u001B[43mtime\u001B[49m\u001B[43m.\u001B[49m\u001B[43msleep\u001B[49m\u001B[43m(\u001B[49m\u001B[32;43m0.01\u001B[39;49m\u001B[43m)\u001B[49m\n\u001B[32m   1237\u001B[39m \u001B[38;5;28mself\u001B[39m.cancel_async_evaluation(get_current_thread_id(thread), \u001B[38;5;28mstr\u001B[39m(\u001B[38;5;28mid\u001B[39m(frame)))\n\u001B[32m   1239\u001B[39m \u001B[38;5;66;03m# process any stepping instructions\u001B[39;00m\n",
      "\u001B[31mKeyboardInterrupt\u001B[39m: "
     ]
    }
   ],
   "execution_count": 1
  },
  {
   "metadata": {},
   "cell_type": "markdown",
   "source": [
    "**Length Of The Last Word**\n",
    "\n",
    "* Find the length of the last word in a given sentence."
   ],
   "id": "e0db2741ca916b2"
  },
  {
   "metadata": {},
   "cell_type": "code",
   "outputs": [],
   "execution_count": null,
   "source": [
    "def length_of_last_word(sentence):\n",
    "    \"\"\"\n",
    "    Args:\n",
    "     sentence(str)\n",
    "    Returns:\n",
    "     int32\n",
    "    \"\"\"\n",
    "    # Write your code here.\n",
    "    sentence = sentence.strip()\n",
    "    sentence_list = sentence.split(' ')\n",
    "    return len(sentence_list[-1])"
   ],
   "id": "9798b85c7cfe6e5b"
  },
  {
   "metadata": {},
   "cell_type": "markdown",
   "source": [
    "**Number Of Senior Citizens**\n",
    "\n",
    "* You are given a 0-indexed array of strings p, containing information about a given passenger consists of their phone number (first 10 characters), gender (11th character), age (12th and 13th characters), and seat assignment (last two characters).\n",
    "* Return the number of passengers who are strictly more than 60 years old."
   ],
   "id": "43b404f9e4a0a979"
  },
  {
   "metadata": {},
   "cell_type": "code",
   "outputs": [],
   "execution_count": null,
   "source": [
    "def count_senior_citizens(p):\n",
    "    \"\"\"\n",
    "    Args:\n",
    "     p(list_str)\n",
    "    Returns:\n",
    "     int32\n",
    "    \"\"\"\n",
    "    # Write your code here.\n",
    "    age = 0\n",
    "    number_age = list()\n",
    "    counter = 0\n",
    "    for i in p:\n",
    "        age = int(i[11] + i[12])\n",
    "        number_age.append(age)\n",
    "    for i in number_age:\n",
    "        if i > 60:\n",
    "            counter += 1\n",
    "    return counter"
   ],
   "id": "c2e19704baa726f3"
  },
  {
   "metadata": {},
   "cell_type": "markdown",
   "source": [
    "**Truncate Sentence**\n",
    "\n",
    "* Truncate the given sentence such that it only contains the first k words."
   ],
   "id": "bd9ea043f3a85ed2"
  },
  {
   "metadata": {},
   "cell_type": "code",
   "outputs": [],
   "execution_count": null,
   "source": [
    "def truncate_sentence(s, k):\n",
    "    \"\"\"\n",
    "    Args:\n",
    "     s(str)\n",
    "     k(int32)\n",
    "    Returns:\n",
    "     str\n",
    "    \"\"\"\n",
    "    # Write your code here.\n",
    "    sentence = list()\n",
    "    s = s.split(\" \")\n",
    "    for i in range(0,k):\n",
    "        sentence.append(s[i])\n",
    "    return (' '.join(sentence))"
   ],
   "id": "6274ce2f334cf3fd"
  },
  {
   "metadata": {},
   "cell_type": "markdown",
   "source": [
    "**Divisible By K**\n",
    "\n",
    "* Given a list of lists t containing integers, and a positive integer k, the task is to return a new list of lists containing only those sublists in which every element is divisible by k. The order of sublists in the resulting list should be the same as their original order in the input list."
   ],
   "id": "4e6bc14da17a9fde"
  },
  {
   "metadata": {},
   "cell_type": "code",
   "outputs": [],
   "execution_count": null,
   "source": [
    "def divisible_by_k(t, k):\n",
    "    \"\"\"\n",
    "    Args:\n",
    "     t(list_list_int32)\n",
    "     k(int32)\n",
    "    Returns:\n",
    "     list_list_int32\n",
    "    \"\"\"\n",
    "    # Write your code here.\n",
    "    output_list = []\n",
    "    for i in t:\n",
    "        counter = 0\n",
    "        for j in i:\n",
    "            if j % k == 0:\n",
    "                counter += 1\n",
    "        if counter == len(i):\n",
    "            output_list.append(i)\n",
    "    return output_list"
   ],
   "id": "68b2f7f792acf283"
  },
  {
   "metadata": {},
   "cell_type": "markdown",
   "source": [
    "**Count Number Of Substring In String**\n",
    "\n",
    "* Complete the program that takes a string s and a substring substr as input and determines how many times the given substring substr appears within the string.\n",
    "* The program should account for overlapping substrings, meaning if a substring appears more than once starting from different positions in the string, each occurrence should be counted separately."
   ],
   "id": "7942b0b34129f8b3"
  },
  {
   "metadata": {},
   "cell_type": "code",
   "outputs": [],
   "execution_count": null,
   "source": [
    "def count_substrings(s, substr):\n",
    "    \"\"\"\n",
    "    Args:\n",
    "     s(str)\n",
    "     substr(str)\n",
    "    Returns:\n",
    "     int32\n",
    "    \"\"\"\n",
    "    # Write your code here.\n",
    "    counter = 0\n",
    "    for i in range(0,len(s) -  len(substr)+1):\n",
    "        if s[i:i + len(substr)] == substr:\n",
    "            counter += 1\n",
    "    return (counter)"
   ],
   "id": "afa13e09a361fc6"
  },
  {
   "metadata": {},
   "cell_type": "markdown",
   "source": [
    "**Reverse Words In A Given String**\n",
    "\n",
    "* Given a string s, your task is to reverse the words of s."
   ],
   "id": "e8d9d316dbbadc48"
  },
  {
   "metadata": {},
   "cell_type": "code",
   "outputs": [],
   "execution_count": null,
   "source": [
    "def reverse_words(s):\n",
    "    \"\"\"\n",
    "    Args:\n",
    "     s(str)\n",
    "    Returns:\n",
    "     str\n",
    "    \"\"\"\n",
    "    # Write your code here.\n",
    "    output = []\n",
    "    output = s.split()\n",
    "    output.reverse()\n",
    "    return \" \".join(output)"
   ],
   "id": "3ce85d19f7dbe01e"
  },
  {
   "metadata": {},
   "cell_type": "markdown",
   "source": [
    "**Reverse An Array**\n",
    "\n",
    "* Reverse a given list of numbers."
   ],
   "id": "f93fc7cc67614a1b"
  },
  {
   "metadata": {},
   "cell_type": "code",
   "outputs": [],
   "execution_count": null,
   "source": [
    "def reverse_array(nums):\n",
    "    \"\"\"\n",
    "    Args:\n",
    "     nums(list_int32)\n",
    "    Returns:\n",
    "     list_int32\n",
    "    \"\"\"\n",
    "    # Write your code here.\n",
    "    nums.reverse()\n",
    "    return nums"
   ],
   "id": "6fbe7e27c98fe78d"
  },
  {
   "metadata": {},
   "cell_type": "markdown",
   "source": [
    "**Mixed String**\n",
    "\n",
    "* You are given a string s that represents the mixed-up message. You are also given an integer array indices of the same length as s. This array provides the instructions for rearranging the letters. For each index i in indices, the character at position i in s should be moved to position indices[i] in the final message. Each index will be 0-indexed. Your need to return the final, correctly rearranged message as a string."
   ],
   "id": "d5a1bd9ca05112dc"
  },
  {
   "metadata": {},
   "cell_type": "code",
   "outputs": [],
   "execution_count": null,
   "source": [
    "def restore_string(s, indices):\n",
    "    \"\"\"\n",
    "    Args:\n",
    "     s(str)\n",
    "     indices(list_int32)\n",
    "    Returns:\n",
    "     str\n",
    "    \"\"\"\n",
    "    # Write your code here.\n",
    "    a = []\n",
    "    output = []\n",
    "    b = []\n",
    "    counter = 0\n",
    "    for i in indices:\n",
    "        a = indices.index(counter)\n",
    "        b.append(a)\n",
    "        counter += 1\n",
    "    for j in b:\n",
    "        output.append(s[j])\n",
    "    output = \"\".join(output)\n",
    "    return output"
   ],
   "id": "a5fdf33fa4b8c9de"
  },
  {
   "metadata": {},
   "cell_type": "markdown",
   "source": [
    "**Find Pivot Index**\n",
    "\n",
    "* Given a list of integers numbers, calculate the pivot index of this list.\n",
    "* The pivot index is the index where the sum of all the numbers strictly to the left of the index is equal to the sum of all the numbers strictly to the index's right. If the index is on the left edge of the array, then the left sum is 0 because there are no elements to the left. This also applies to the right edge of the array.\n",
    "* Return the leftmost pivot index. If no such index exists, return -1."
   ],
   "id": "e5b0cee1e2c2809e"
  },
  {
   "metadata": {},
   "cell_type": "code",
   "outputs": [],
   "execution_count": null,
   "source": [
    "def get_pivot_index(numbers):\n",
    "    \"\"\"\n",
    "    Args:\n",
    "     numbers(list_int32)\n",
    "    Returns:\n",
    "     int32\n",
    "    \"\"\"\n",
    "    # Write your code here.\n",
    "    a = 0\n",
    "    b = []\n",
    "    c = 0\n",
    "    d = []\n",
    "    output = -1\n",
    "    for i in range(len(numbers)):\n",
    "        a = sum(numbers[0:i+1])\n",
    "        b.append(a)\n",
    "    for i in range(len(numbers)):\n",
    "        numbers.reverse()\n",
    "        c = sum(numbers[0:i+1])\n",
    "        d.append(c)\n",
    "        numbers.reverse()\n",
    "    print(b)\n",
    "    d.reverse()\n",
    "    print(d)\n",
    "    for i in range(len(b)):\n",
    "        if b[i] == d[i]:\n",
    "            output = i\n",
    "            break\n",
    "    return output"
   ],
   "id": "d9403fde0205924"
  }
 ],
 "metadata": {
  "kernelspec": {
   "display_name": "Python 3",
   "language": "python",
   "name": "python3"
  },
  "language_info": {
   "codemirror_mode": {
    "name": "ipython",
    "version": 2
   },
   "file_extension": ".py",
   "mimetype": "text/x-python",
   "name": "python",
   "nbconvert_exporter": "python",
   "pygments_lexer": "ipython2",
   "version": "2.7.6"
  }
 },
 "nbformat": 4,
 "nbformat_minor": 5
}
