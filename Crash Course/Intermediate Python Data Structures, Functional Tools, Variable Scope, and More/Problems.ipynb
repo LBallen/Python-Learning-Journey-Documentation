{
 "cells": [
  {
   "metadata": {},
   "cell_type": "markdown",
   "source": [
    "**First Occurrence Of A Character**\n",
    "\n",
    "* Find the first occurrence of a given character in a given string."
   ],
   "id": "199444a09ce3f2c9"
  },
  {
   "metadata": {},
   "cell_type": "code",
   "outputs": [],
   "execution_count": null,
   "source": "",
   "id": "7f4e38303dd9e230"
  },
  {
   "metadata": {},
   "cell_type": "markdown",
   "source": [
    "**2 Sum In A Sorted Array**\n",
    "\n",
    "* Given an array sorted in non-decreasing order and a target number, find the indices of the two values from the array that sum up to the given target number."
   ],
   "id": "c378e555fc24a83"
  },
  {
   "metadata": {},
   "cell_type": "code",
   "outputs": [],
   "execution_count": null,
   "source": "",
   "id": "e334dfa3575e8a06"
  },
  {
   "metadata": {},
   "cell_type": "markdown",
   "source": [
    "**Majority Element**\n",
    "\n",
    "* Find the majority element in a given list. For a list of size n, the majority element is the element that appears more than floor(n/2) times."
   ],
   "id": "214129cab15ac2bf"
  },
  {
   "metadata": {},
   "cell_type": "markdown",
   "source": [
    "**Check If An Array Contains Duplicates**\n",
    "\n",
    "* Check if any element occurs more than once in a given list of numbers. Return true if an array contains duplicates, else return false."
   ],
   "id": "e42f3d1eff6b56bd"
  },
  {
   "metadata": {},
   "cell_type": "code",
   "outputs": [],
   "execution_count": null,
   "source": "",
   "id": "5ce87b6989778708"
  },
  {
   "metadata": {},
   "cell_type": "markdown",
   "source": [
    "**Intersection Of Two Sorted Arrays**\n",
    "\n",
    "* Given two integer arrays sorted in non-decreasing order, find the intersection of both the arrays."
   ],
   "id": "72a8924ae97fa442"
  },
  {
   "metadata": {},
   "cell_type": "code",
   "outputs": [],
   "execution_count": null,
   "source": "",
   "id": "51360e7d1ef26068"
  },
  {
   "metadata": {},
   "cell_type": "markdown",
   "source": [
    "**Single Number**\n",
    "\n",
    "* Given a list of numbers in which each number appears exactly twice except one number that appears only once. Find the number that appears exactly once.\n",
    "* (Try solving this in linear time complexity without using any extra space!)"
   ],
   "id": "2b8aa684799adf29"
  },
  {
   "metadata": {},
   "cell_type": "code",
   "outputs": [],
   "execution_count": null,
   "source": "",
   "id": "d190d7673625dd32"
  },
  {
   "metadata": {},
   "cell_type": "markdown",
   "source": [
    "**Count Alphabets**\n",
    "\n",
    "* Count the number of alphabets in a given string."
   ],
   "id": "4b51252d90cfda0d"
  },
  {
   "metadata": {},
   "cell_type": "code",
   "outputs": [],
   "execution_count": null,
   "source": "",
   "id": "e3edb4d98142d8f7"
  },
  {
   "metadata": {},
   "cell_type": "markdown",
   "source": [
    "**Squares Of A Sorted Array**\n",
    "\n",
    "* Given an array of numbers sorted in increasing order, generate another array containing the square of all the elements in the given array, sorted in increasing order."
   ],
   "id": "c9ffadd5516f0e7c"
  },
  {
   "metadata": {},
   "cell_type": "code",
   "outputs": [],
   "execution_count": null,
   "source": "",
   "id": "bcb938ef3ab0750a"
  },
  {
   "metadata": {},
   "cell_type": "markdown",
   "source": [
    "**Find Winner Of Election**\n",
    "\n",
    "* Given a list of votes, containing names of candidates in an election, find which candidate received maximum number of votes. If two or more candidate got the same number of votes, return the lexicographically smaller name."
   ],
   "id": "9e80e94fad3a2bcd"
  },
  {
   "metadata": {},
   "cell_type": "code",
   "outputs": [],
   "execution_count": null,
   "source": "",
   "id": "72f91327e9f6cde8"
  }
 ],
 "metadata": {
  "kernelspec": {
   "display_name": "Python 3",
   "language": "python",
   "name": "python3"
  },
  "language_info": {
   "codemirror_mode": {
    "name": "ipython",
    "version": 2
   },
   "file_extension": ".py",
   "mimetype": "text/x-python",
   "name": "python",
   "nbconvert_exporter": "python",
   "pygments_lexer": "ipython2",
   "version": "2.7.6"
  }
 },
 "nbformat": 4,
 "nbformat_minor": 5
}
