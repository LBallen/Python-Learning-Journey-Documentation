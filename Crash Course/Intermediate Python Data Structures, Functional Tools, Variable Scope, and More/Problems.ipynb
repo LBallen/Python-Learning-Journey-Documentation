{
 "cells": [
  {
   "metadata": {},
   "cell_type": "markdown",
   "source": [
    "**First Occurrence Of A Character**\n",
    "\n",
    "* Find the first occurrence of a given character in a given string."
   ],
   "id": "199444a09ce3f2c9"
  },
  {
   "metadata": {},
   "cell_type": "code",
   "outputs": [],
   "execution_count": null,
   "source": [
    "def find_first_occurrence(s, to_find):\n",
    "    \"\"\"\n",
    "    Args:\n",
    "     s(str)\n",
    "     to_find(char)\n",
    "    Returns:\n",
    "     int32\n",
    "    \"\"\"\n",
    "    # Write your code here.\n",
    "    output = -1\n",
    "\n",
    "    for i in range(len(s)):\n",
    "        if s[i] == to_find:\n",
    "            output = i\n",
    "            break\n",
    "    return output"
   ],
   "id": "7f4e38303dd9e230"
  },
  {
   "metadata": {},
   "cell_type": "markdown",
   "source": [
    "**2 Sum In A Sorted Array**\n",
    "\n",
    "* Given an array sorted in non-decreasing order and a target number, find the indices of the two values from the array that sum up to the given target number."
   ],
   "id": "c378e555fc24a83"
  },
  {
   "metadata": {},
   "cell_type": "code",
   "outputs": [],
   "execution_count": null,
   "source": [
    "def pair_sum_sorted_array(numbers, target):\n",
    "    \"\"\"\n",
    "    Args:\n",
    "     numbers(list_int32)\n",
    "     target(int32)\n",
    "    Returns:\n",
    "     list_int32\n",
    "    \"\"\"\n",
    "    # Write your code here.\n",
    "    seen = {}  # value -> index\n",
    "\n",
    "    for i, num in enumerate(numbers):\n",
    "        complement = target - num\n",
    "\n",
    "        if complement in seen:\n",
    "            return [seen[complement], i]\n",
    "\n",
    "        if num not in seen:\n",
    "            seen[num] = i\n",
    "    return [-1, -1]"
   ],
   "id": "e334dfa3575e8a06"
  },
  {
   "metadata": {},
   "cell_type": "markdown",
   "source": [
    "**Majority Element**\n",
    "\n",
    "* Find the majority element in a given list. For a list of size n, the majority element is the element that appears more than floor(n/2) times."
   ],
   "id": "214129cab15ac2bf"
  },
  {
   "metadata": {},
   "cell_type": "code",
   "outputs": [],
   "execution_count": null,
   "source": [
    "def majority_element(nums):\n",
    "    \"\"\"\n",
    "    Args:\n",
    "     nums(list_int32)\n",
    "    Returns:\n",
    "     int32\n",
    "    \"\"\"\n",
    "    # Write your code here.\n",
    "    from math import floor\n",
    "    num_to_set = set(nums)\n",
    "    nums_dic = {}\n",
    "    condition = floor(len(nums)/2)\n",
    "    for num in num_to_set:\n",
    "        count = nums.count(num)\n",
    "        nums_dic[num] = count\n",
    "    for num in num_to_set:\n",
    "        if nums_dic[num] > condition:\n",
    "            output = num\n",
    "    return output"
   ],
   "id": "8b7625ff341484b6"
  },
  {
   "metadata": {},
   "cell_type": "markdown",
   "source": [
    "**Check If An Array Contains Duplicates**\n",
    "\n",
    "* Check if any element occurs more than once in a given list of numbers. Return true if an array contains duplicates, else return false."
   ],
   "id": "e42f3d1eff6b56bd"
  },
  {
   "metadata": {},
   "cell_type": "code",
   "outputs": [],
   "execution_count": null,
   "source": [
    "def check_if_array_contains_duplicate(nums):\n",
    "    \"\"\"\n",
    "    Args:\n",
    "     nums(list_int32)\n",
    "    Returns:\n",
    "     bool\n",
    "    \"\"\"\n",
    "    # Write your code here.\n",
    "    nums_to_set = set(nums)\n",
    "    if len(nums_to_set) < len(nums):\n",
    "        return True\n",
    "    return False\n"
   ],
   "id": "5ce87b6989778708"
  },
  {
   "metadata": {},
   "cell_type": "markdown",
   "source": [
    "**Intersection Of Two Sorted Arrays**\n",
    "\n",
    "* Given two integer arrays sorted in non-decreasing order, find the intersection of both the arrays."
   ],
   "id": "72a8924ae97fa442"
  },
  {
   "metadata": {},
   "cell_type": "code",
   "outputs": [],
   "execution_count": null,
   "source": [
    "def get_intersection(numbers1, numbers2):\n",
    "    \"\"\"\n",
    "    Args:\n",
    "     numbers1(list_int32)\n",
    "     numbers2(list_int32)\n",
    "    Returns:\n",
    "     list_int32\n",
    "    \"\"\"\n",
    "    # Write your code here.\n",
    "    result = []\n",
    "    for i in range(len(numbers1)):\n",
    "        if i > 0 and numbers1[i] == numbers1[i-1]:\n",
    "            continue\n",
    "        left = 0\n",
    "        right = len(numbers2) - 1\n",
    "        search = False\n",
    "\n",
    "        while left <= right:\n",
    "            mid = (left + right) // 2\n",
    "            if numbers2[mid] == numbers1[i]:\n",
    "                search = True\n",
    "                break\n",
    "            elif numbers2[mid] < numbers1[i]:\n",
    "                left = mid + 1\n",
    "            else:\n",
    "                right = mid - 1\n",
    "        if search == True:\n",
    "            result.append(numbers1[i])\n",
    "    if not result:\n",
    "        result = [-1]\n",
    "    return result"
   ],
   "id": "51360e7d1ef26068"
  },
  {
   "metadata": {},
   "cell_type": "markdown",
   "source": [
    "**Single Number**\n",
    "\n",
    "* Given a list of numbers in which each number appears exactly twice except one number that appears only once. Find the number that appears exactly once.\n",
    "* (Try solving this in linear time complexity without using any extra space!)"
   ],
   "id": "2b8aa684799adf29"
  },
  {
   "metadata": {},
   "cell_type": "code",
   "outputs": [],
   "execution_count": null,
   "source": [
    "def single_number(arr):\n",
    "    \"\"\"\n",
    "    Args:\n",
    "     arr(list_int32)\n",
    "    Returns:\n",
    "     int32\n",
    "    \"\"\"\n",
    "    result = 0\n",
    "    for num in arr:\n",
    "        result ^= num\n",
    "    return result"
   ],
   "id": "d190d7673625dd32"
  },
  {
   "metadata": {},
   "cell_type": "markdown",
   "source": [
    "**Count Alphabets**\n",
    "\n",
    "* Count the number of alphabets in a given string."
   ],
   "id": "4b51252d90cfda0d"
  },
  {
   "metadata": {},
   "cell_type": "code",
   "outputs": [],
   "execution_count": null,
   "source": [
    "def count_alphabets(s):\n",
    "    \"\"\"\n",
    "    Args:\n",
    "     s(str)\n",
    "    Returns:\n",
    "     int32\n",
    "    \"\"\"\n",
    "    # Write your code here.\n",
    "    counter = 0\n",
    "    for char in s:\n",
    "        if char.isalpha():\n",
    "            counter += 1\n",
    "    return counter"
   ],
   "id": "e3edb4d98142d8f7"
  },
  {
   "metadata": {},
   "cell_type": "markdown",
   "source": [
    "**Squares Of A Sorted Array**\n",
    "\n",
    "* Given an array of numbers sorted in increasing order, generate another array containing the square of all the elements in the given array, sorted in increasing order."
   ],
   "id": "c9ffadd5516f0e7c"
  },
  {
   "metadata": {
    "ExecuteTime": {
     "end_time": "2025-10-20T00:29:58.697089Z",
     "start_time": "2025-10-20T00:29:58.693486Z"
    }
   },
   "cell_type": "code",
   "source": [
    "def generate_sorted_array_of_squares(numbers):\n",
    "    \"\"\"\n",
    "    Args:\n",
    "     numbers(list_int32)\n",
    "    Returns:\n",
    "     list_int32\n",
    "    \"\"\"\n",
    "    # Write your code here.\n",
    "    return sorted(list(map(lambda x:x**2,numbers)))\n",
    "numbers = (1,2,3,4,5,6,7)\n",
    "print(generate_sorted_array_of_squares(numbers))\n"
   ],
   "id": "bcb938ef3ab0750a",
   "outputs": [
    {
     "name": "stdout",
     "output_type": "stream",
     "text": [
      "[1, 4, 9, 16, 25, 36, 49]\n"
     ]
    }
   ],
   "execution_count": 1
  },
  {
   "metadata": {},
   "cell_type": "markdown",
   "source": [
    "**Find Winner Of Election**\n",
    "\n",
    "* Given a list of votes, containing names of candidates in an election, find which candidate received maximum number of votes. If two or more candidate got the same number of votes, return the lexicographically smaller name."
   ],
   "id": "9e80e94fad3a2bcd"
  },
  {
   "metadata": {},
   "cell_type": "code",
   "outputs": [],
   "execution_count": null,
   "source": [
    "def find_winner(votes):\n",
    "    \"\"\"\n",
    "    Args:\n",
    "     votes(list_str)\n",
    "    Returns:\n",
    "     str\n",
    "    \"\"\"\n",
    "    # Write your code here.\n",
    "    counts = {}\n",
    "    for i in votes:\n",
    "        counts[i] = counts.get(i, 0) + 1\n",
    "    max_votes = max(counts.values())\n",
    "    return (min([name for name in counts if counts[name] == max_votes]))"
   ],
   "id": "72f91327e9f6cde8"
  }
 ],
 "metadata": {
  "kernelspec": {
   "display_name": "Python 3",
   "language": "python",
   "name": "python3"
  },
  "language_info": {
   "codemirror_mode": {
    "name": "ipython",
    "version": 2
   },
   "file_extension": ".py",
   "mimetype": "text/x-python",
   "name": "python",
   "nbconvert_exporter": "python",
   "pygments_lexer": "ipython2",
   "version": "2.7.6"
  }
 },
 "nbformat": 4,
 "nbformat_minor": 5
}
