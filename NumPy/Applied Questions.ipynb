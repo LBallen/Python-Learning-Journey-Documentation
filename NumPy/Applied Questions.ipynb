{
 "cells": [
  {
   "metadata": {},
   "cell_type": "markdown",
   "source": "Write a Python program using NumPy to create a 5x5 matrix filled with random integers between 1 and 100. Calculate the mean and standard deviation of the matrix and print them.",
   "id": "709e8601c04b9ab3"
  },
  {
   "metadata": {},
   "cell_type": "code",
   "outputs": [],
   "execution_count": null,
   "source": [
    "import numpy as np\n",
    "data = np.random.randint(1,101, size = (5,5))\n",
    "mean = np.mean(data)\n",
    "std = np.std(data)\n",
    "print(std)\n",
    "print(mean)\n",
    "data"
   ],
   "id": "d88fcc3e936dd5a8"
  },
  {
   "metadata": {},
   "cell_type": "markdown",
   "source": "Using NumPy, create a 5x5 identity matrix and add a scalar value of 5 to it. Multiply the resulting matrix with a 5x1 column vector filled with random integers between 1 and 10. Print the resulting vector.",
   "id": "4772a4dc5b203961"
  },
  {
   "metadata": {},
   "cell_type": "code",
   "outputs": [],
   "execution_count": null,
   "source": [
    "data1 = np.eye(5,5)\n",
    "np.fill_diagonal(data1,np.diag(data1) + 4)\n",
    "data1 = data1 * np.random.randint(1,11,size = (5,1))\n",
    "data1"
   ],
   "id": "4ce8f3fc559004e7"
  },
  {
   "metadata": {},
   "cell_type": "markdown",
   "source": "Write a Python program using NumPy to create two 3x3 matrices filled with random integers between 1 and 100. Compute their element-wise multiplication, and print the resulting matrix.",
   "id": "2b2b784ad55016a7"
  },
  {
   "metadata": {},
   "cell_type": "code",
   "outputs": [],
   "execution_count": null,
   "source": [
    "data2 = np.random.randint(1,101, size = (3,3))\n",
    "data3 = data2 = np.random.randint(1,101, size = (3,3))\n",
    "print(data2 * data3)"
   ],
   "id": "53f5f9f092e44744"
  },
  {
   "metadata": {},
   "cell_type": "markdown",
   "source": "Using NumPy, create a 1000-element array of random integers between 1 and 1000. Calculate the cumulative sum of the array and print the 10th, 100th, and 500th elements of the cumulative sum array.",
   "id": "294d016da4649177"
  },
  {
   "metadata": {},
   "cell_type": "code",
   "outputs": [],
   "execution_count": null,
   "source": [
    "data4 = np.random.randint(1,1001, size = 1000)\n",
    "data4sum= np.cumsum(data4)\n",
    "print(data4sum[9])\n",
    "print(data4sum[99])\n",
    "print(data4sum[500])\n"
   ],
   "id": "2cd1da45e55d09a1"
  },
  {
   "metadata": {},
   "cell_type": "markdown",
   "source": "Write a Python program using NumPy to create a 10x10 matrix filled with random integers between 1 and 100. Find the minimum and maximum values of the matrix along with their indices.",
   "id": "eed48c6d44a8d14b"
  },
  {
   "metadata": {},
   "cell_type": "code",
   "outputs": [],
   "execution_count": null,
   "source": [
    "data5 = np.random.randint(1,101, size = (10,10))\n",
    "mindata5 = np.min(data5)\n",
    "maxdata5 = np.max(data5)\n",
    "mindata5index = np.unravel_index(np.argmin(data5), data5.shape)\n",
    "maxdata5index = np.unravel_index(np.argmax(data5), data5.shape)\n",
    "print(mindata5,mindata5index)\n",
    "print(maxdata5,maxdata5index)\n"
   ],
   "id": "5066e25a9349cd25"
  },
  {
   "metadata": {},
   "cell_type": "markdown",
   "source": "Write a Python program using NumPy to create a 5x5 matrix filled with random floats between 0 and 1. Replace the maximum value in the matrix with 0 and print the original and modified matrices.",
   "id": "b5ecd6d92d355807"
  },
  {
   "metadata": {},
   "cell_type": "code",
   "outputs": [],
   "execution_count": null,
   "source": [
    "data6 = np.random.rand(5,5)\n",
    "maxdata6 = np.max(data6)\n",
    "print(data6)\n",
    "data7 = data6.copy()\n",
    "maxdata6idx= np.unravel_index(np.argmax(data6), data6.shape)\n",
    "data7[maxdata6idx] = 0\n",
    "print(data7)\n"
   ],
   "id": "6aeac0a61c706066"
  },
  {
   "metadata": {},
   "cell_type": "markdown",
   "source": "Write a Python program using NumPy to create a 1D array of 20 elements with random integers between 1 and 100. Calculate the number of even and odd elements in the array and print the result.",
   "id": "406f1fd07cbfe947"
  },
  {
   "metadata": {},
   "cell_type": "code",
   "outputs": [],
   "execution_count": null,
   "source": [
    "data8 = np.random.randint(1,101, size = 20)\n",
    "evencount= np.sum(data8 % 2 == 0)\n",
    "oddcount = np.sum(data8 % 2 != 0)\n",
    "print(evencount)\n",
    "print(oddcount)\n"
   ],
   "id": "5f54d85fc586892a"
  },
  {
   "metadata": {},
   "cell_type": "markdown",
   "source": "Write a Python program using NumPy to create a 2D array of size 8x8, where the outer border elements are set to 1 and the inner elements are set to 0. Print the resulting array.",
   "id": "9d2bc0d751e4b68a"
  },
  {
   "metadata": {},
   "cell_type": "code",
   "outputs": [],
   "execution_count": null,
   "source": [
    "data9 = np.zeros((8,8))\n",
    "data9[0,:] = 1\n",
    "data9[-1,:] = 1\n",
    "data9[:,0] = 1\n",
    "data9[:,-1] = 1\n",
    "print(data9)"
   ],
   "id": "2b29dd7046a61cee"
  }
 ],
 "metadata": {},
 "nbformat": 4,
 "nbformat_minor": 5
}
